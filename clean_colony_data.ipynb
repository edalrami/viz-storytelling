{
 "cells": [
  {
   "cell_type": "code",
   "execution_count": 11,
   "metadata": {},
   "outputs": [],
   "source": [
    "import pandas as pd\n",
    "import numpy as np\n",
    "import seaborn as sns\n",
    "from matplotlib import pyplot as plt\n",
    "import re\n",
    "from os import listdir\n",
    "from os.path import isfile, join\n",
    "import plotly.graph_objects as go\n",
    "\n",
    "\n",
    "us_state_abbrev = {\n",
    "    'Alabama': 'AL',\n",
    "    'Alaska': 'AK',\n",
    "    'Arizona': 'AZ',\n",
    "    'Arkansas': 'AR',\n",
    "    'California': 'CA',\n",
    "    'Colorado': 'CO',\n",
    "    'Connecticut': 'CT',\n",
    "    'Delaware': 'DE',\n",
    "    'District of Columbia': 'DC',\n",
    "    'Florida': 'FL',\n",
    "    'Georgia': 'GA',\n",
    "    'Hawaii': 'HI',\n",
    "    'Idaho': 'ID',\n",
    "    'Illinois': 'IL',\n",
    "    'Indiana': 'IN',\n",
    "    'Iowa': 'IA',\n",
    "    'Kansas': 'KS',\n",
    "    'Kentucky': 'KY',\n",
    "    'Louisiana': 'LA',\n",
    "    'Maine': 'ME',\n",
    "    'Maryland': 'MD',\n",
    "    'Massachusetts': 'MA',\n",
    "    'Michigan': 'MI',\n",
    "    'Minnesota': 'MN',\n",
    "    'Mississippi': 'MS',\n",
    "    'Missouri': 'MO',\n",
    "    'Montana': 'MT',\n",
    "    'Nebraska': 'NE',\n",
    "    'Nevada': 'NV',\n",
    "    'New Hampshire': 'NH',\n",
    "    'New Jersey': 'NJ',\n",
    "    'New Mexico': 'NM',\n",
    "    'New York': 'NY',\n",
    "    'North Carolina': 'NC',\n",
    "    'North Dakota': 'ND',\n",
    "    'Northern Mariana Islands':'MP',\n",
    "    'Ohio': 'OH',\n",
    "    'Oklahoma': 'OK',\n",
    "    'Oregon': 'OR',\n",
    "    'Palau': 'PW',\n",
    "    'Pennsylvania': 'PA',\n",
    "    'Puerto Rico': 'PR',\n",
    "    'Rhode Island': 'RI',\n",
    "    'South Carolina': 'SC',\n",
    "    'South Dakota': 'SD',\n",
    "    'Tennessee': 'TN',\n",
    "    'Texas': 'TX',\n",
    "    'Utah': 'UT',\n",
    "    'Vermont': 'VT',\n",
    "    'Virgin Islands': 'VI',\n",
    "    'Virginia': 'VA',\n",
    "    'Washington': 'WA',\n",
    "    'West Virginia': 'WV',\n",
    "    'Wisconsin': 'WI',\n",
    "    'Wyoming': 'WY',\n",
    "}\n",
    "\n",
    "abbrev_us_state = dict(map(reversed, us_state_abbrev.items()))\n",
    "\n",
    "\n",
    "def remove_chars(input_):\n",
    "    '''\n",
    "    removes unwanted characters from a line read from a file\n",
    "    input parameters:\n",
    "        input_: A list containing a line read from a file\n",
    "    output:\n",
    "        output_list: A list containing the line with unwanted characters removed\n",
    "    '''\n",
    "    output_ = input_.strip('\\n').split(',')\n",
    "    output_list = [re.sub(r'^\"|\"$', '', i) for i in output_]\n",
    "    return output_list\n",
    "\n",
    "def clean_colony_data(file_):\n",
    "    '''\n",
    "    Reads in the USDA honey colony data files and outputs 2 cleaned dataframes\n",
    "    One pertaining to the colony count data per state, and the second dataframe containing\n",
    "    the colony diseases per state.\n",
    "    \n",
    "    input parameters: \n",
    "        file_: string containing file path \n",
    "        \n",
    "    returns:\n",
    "        colony_df: Dataframe containing data of colony counts per state\n",
    "        disease_df: Dataframe containing the colony disease counts per state\n",
    "    '''\n",
    "    #Remove unwanted characters in file lines\n",
    "    f = [remove_chars(i) for i in open(file_)]\n",
    "    \n",
    "    #looking at the excel table we know that colony data has 10 columns\n",
    "    #disease data has nine columns, and that these rowtypes are classified\n",
    "    #as data rows with character 'd'. Thus we subset these specific\n",
    "    #data rows by their lengths.\n",
    "    \n",
    "    colony_data = [i for i in f if len(i) == 10 for j in i if j == 'd']\n",
    "    disease_data = [i for i in f if len(i) == 9 for j in i if j == 'd']\n",
    "    \n",
    "    #The data for each quarter starts with Alabama and ends with the United States total\n",
    "    #By getting these indexes, we can separate all quarters in the file\n",
    "    colony_start_indexes = [colony_data.index(colony_data[i]) for i in range(len(colony_data)) for j in colony_data[i] if j == 'Alabama']\n",
    "    disease_start_indexes = [disease_data.index(disease_data[i]) for i in range(len(disease_data)) for j in disease_data[i] if j == 'Alabama']\n",
    "    \n",
    "    colony_end_indexes = [colony_data.index(colony_data[i]) for i in range(len(colony_data)) for j in colony_data[i] if j == 'Wyoming']\n",
    "    disease_end_indexes = [disease_data.index(disease_data[i]) for i in range(len(disease_data)) for j in disease_data[i] if j == 'Wyoming']\n",
    "    \n",
    "    #subset the data by with the index values collected\n",
    "    colony_subsets = [colony_data[colony_start_indexes[i]: colony_end_indexes[i]] for i in range(len(colony_start_indexes))]    \n",
    "    quarters = ['Q1', 'Q2', 'Q3', 'Q4', 'Q5', 'Q6', 'Q7', 'Q8']\n",
    "    \n",
    "    #append the quarter labels\n",
    "    for i in range(len(colony_subsets)):\n",
    "        for j in colony_subsets[i]:\n",
    "            j.append(quarters[i])\n",
    "    \n",
    "    cleaned_colony_data = [j for i in colony_subsets for j in i]\n",
    "    \n",
    "    #Subset the disease data and append the quarter labels\n",
    "    disease_subsets = [disease_data[disease_start_indexes[i]: disease_end_indexes[i]] for i in range(len(disease_start_indexes))]    \n",
    "    for i in range(len(disease_subsets)):\n",
    "        for j in disease_subsets[i]:\n",
    "            j.append(quarters[i])\n",
    "    \n",
    "    cleaned_disease_data = [j for i in disease_subsets for j in i]\n",
    "    \n",
    "    #Convert the cleaned data into dataframes\n",
    "    colony_df = pd.DataFrame(cleaned_colony_data)\n",
    "    colony_df.columns = [\"table_no\", \"row_type\", \"state\", \"initial_count\", \"max\", \"lost\", \"lost_perc\", \"added\", \"renovated\", \"renovated_perc\", \"quarter\"]\n",
    "    \n",
    "    disease_df = pd.DataFrame(cleaned_disease_data)\n",
    "    disease_df.columns = [\"table_no\", \"row_type\", \"state\", \"varroa_mites\", \"other_pests\", \"diseases\", \"pesticides\", \"other\", \"unknown\", \"quarter\"]\n",
    "    \n",
    "    #drop unwanted columns and replace non numeric chars\n",
    "    colony_df.drop(columns=['table_no', 'row_type'], inplace = True)\n",
    "    disease_df.drop(columns=['table_no', 'row_type'], inplace = True)\n",
    "\n",
    "    colony_df.replace(['(X)', '-'], \"\", inplace = True)\n",
    "    colony_df.replace(['(Z)'], \"0\", inplace = True)\n",
    "\n",
    "    disease_df.replace(['(X)', '-'], '', inplace = True)\n",
    "    disease_df.replace(['(Z)'], '0', inplace = True)\n",
    "\n",
    "    #Set column data types\n",
    "    categoricals = ['state', 'quarter']\n",
    "    for (columnName, columnData) in colony_df.iteritems():\n",
    "        if(columnName not in categoricals):\n",
    "            colony_df[columnName] = pd.to_numeric(colony_df[columnName], errors = 'coerce', downcast = 'float')\n",
    "        else:\n",
    "            colony_df[columnName] = colony_df[columnName].astype(str)\n",
    "\n",
    "\n",
    "    for (columnName, columnData) in disease_df.iteritems():\n",
    "        if(columnName not in categoricals):\n",
    "            disease_df[columnName] = pd.to_numeric(disease_df[columnName], errors = 'coerce', downcast = 'float')\n",
    "        else:\n",
    "            disease_df[columnName] = disease_df[columnName].astype(str)\n",
    "    \n",
    "    colony_df = colony_df[colony_df.state != \"\"]\n",
    "    disease_df = disease_df[disease_df.state != \"\"]\n",
    "    \n",
    "    colony_df.state = [abbrev_us_state[i] if i in list(abbrev_us_state.keys()) else i for i in colony_df.state]\n",
    "    colony_df['state_code'] = [us_state_abbrev[i] if i in list(us_state_abbrev.keys()) else i for i in colony_df.state]\n",
    "    \n",
    "    disease_df.state = [abbrev_us_state[i] if i in list(abbrev_us_state.keys()) else i for i in disease_df.state]\n",
    "    disease_df['state_code'] = [us_state_abbrev[i] if i in list(us_state_abbrev.keys()) else i for i in disease_df.state]\n",
    "    \n",
    "    return (colony_df, disease_df)  \n",
    "\n",
    "\n",
    "\n",
    "\n",
    "\n",
    "\n",
    "def clean_production_data(file_):\n",
    "    '''\n",
    "    Reads in the USDA honey colony data files and outputs 2 cleaned dataframes\n",
    "    One pertaining to the colony count data per state, and the second dataframe containing\n",
    "    the colony diseases per state.\n",
    "    \n",
    "    input parameters: \n",
    "        file_: string containing file path \n",
    "        \n",
    "    returns:\n",
    "        colony_df: Dataframe containing data of colony counts per state\n",
    "        disease_df: Dataframe containing the colony disease counts per state\n",
    "    '''\n",
    "    #Remove unwanted characters in file lines\n",
    "    f = [remove_chars(i) for i in open(file_)]\n",
    "    \n",
    "    #looking at the excel table we know that colony data has 10 columns\n",
    "    #disease data has nine columns, and that these rowtypes are classified\n",
    "    #as data rows with character 'd'. Thus we subset these specific\n",
    "    #data rows by their lengths.\n",
    "    \n",
    "    prod_data = [i for i in f if len(i) == 9 for j in i if j == 'd']\n",
    "    \n",
    "    #The data for each quarter starts with Alabama and ends with the United States total\n",
    "    #By getting these indexes, we can separate all quarters in the file\n",
    "    prod_start_indexes = [prod_data.index(prod_data[i]) for i in range(len(prod_data)) for j in prod_data[i] if j == 'Alabama' or j == 'AL'] \n",
    "    prod_end_indexes = [prod_data.index(prod_data[i]) for i in range(len(prod_data)) for j in prod_data[i] if j == 'Wyoming' or j == 'WY']\n",
    "   \n",
    "    #subset the data by with the index values collected\n",
    "    prod_subsets = [prod_data[prod_start_indexes[i]: prod_end_indexes[i]] for i in range(len(prod_start_indexes))]    \n",
    "    quarters = ['Q1', 'Q2', 'Q3', 'Q4', 'Q5', 'Q6', 'Q7', 'Q8']\n",
    "    \n",
    "    #append the quarter labels\n",
    "    for i in range(len(prod_subsets)):\n",
    "        for j in prod_subsets[i]:\n",
    "            j.append(quarters[i])\n",
    "    \n",
    "    cleaned_prod_data = [j for i in prod_subsets for j in i]\n",
    "    \n",
    "    \n",
    "    #Convert the cleaned data into dataframes\n",
    "    prod_df = pd.DataFrame(cleaned_prod_data)\n",
    "    prod_df.columns = [\"table_no\", \"row_type\", \"state\", \"honey_colonies\", \"yield_per_col\", \"production\", 'stocks', 'avg_price_per_lb', 'prod_value', 'quarter']\n",
    "    \n",
    "    #drop unwanted columns and replace non numeric chars\n",
    "    prod_df.drop(columns=['table_no', 'row_type'], inplace = True)\n",
    "\n",
    "    prod_df.replace(['(X)', '-'], \"\", inplace = True)\n",
    "    prod_df.replace(['(Z)'], \"0\", inplace = True)\n",
    "\n",
    "    #Set column data types\n",
    "    categoricals = ['state', 'quarter']\n",
    "    for (columnName, columnData) in prod_df.iteritems():\n",
    "        if(columnName not in categoricals):\n",
    "            prod_df[columnName] = pd.to_numeric(prod_df[columnName], errors = 'coerce', downcast = 'float')\n",
    "        else:\n",
    "            prod_df[columnName] = prod_df[columnName].astype(str)\n",
    "            \n",
    "    prod_df = prod_df[prod_df.state != \"\"]\n",
    "    \n",
    "    prod_df.state = [abbrev_us_state[i] if i in list(abbrev_us_state.keys()) else i for i in prod_df.state]\n",
    "    \n",
    "    prod_df['state_code'] = [us_state_abbrev[i] if i in list(us_state_abbrev.keys()) else i for i in prod_df.state]\n",
    "    \n",
    "    return prod_df  \n",
    "\n",
    "def get_data():\n",
    "    \n",
    "    #Data paths\n",
    "    colony_path = '.\\\\colony_data'\n",
    "    production_path = '.\\\\production_data'\n",
    "    colony_files = [f for f in listdir(colony_path) if isfile(join(colony_path, f))]\n",
    "    production_files = [f for f in listdir(production_path) if isfile(join(production_path, f))]\n",
    "    \n",
    "    colony_files = [colony_path + '\\\\' + i for i in colony_files]\n",
    "    production_files = [production_path + '\\\\' + i for i in production_files]\n",
    "    \n",
    "    #---------------Production Data-----------------------\n",
    "    all_prod_data = [clean_production_data(i) for i in production_files]\n",
    "    #Get 2018 data from last index Q2\n",
    "    prod_2018 = all_prod_data[17]\n",
    "    prod_2018 = prod_2018[prod_2018.quarter == 'Q2'].copy()\n",
    "    prod_2018['year'] = 2018\n",
    "\n",
    "    #Get 2000-2017 year data from Q1\n",
    "    all_prod_data = [i[i.quarter == 'Q1'].copy() for i in all_prod_data]\n",
    "    years = list(range(2000, 2018))\n",
    "\n",
    "    for i in range(len(years)):\n",
    "        all_prod_data[i].loc[:,'year'] = years[i]\n",
    "\n",
    "    all_prod_data.append(prod_2018)\n",
    "    honey_prod = pd.concat(all_prod_data)\n",
    "    honey_prod.drop(columns=['quarter'], inplace = True)\n",
    "    \n",
    "    \n",
    "    #----------------Colony Data--------------------------\n",
    "    \n",
    "    #clean all separated data\n",
    "    all_col_data = [clean_colony_data(i) for i in colony_files]\n",
    "    all_disease_data = [i[1] for i in all_col_data]\n",
    "    all_col_data = [i[0] for i in all_col_data]\n",
    "    \n",
    "    #remove overlapped data\n",
    "    all_disease_data = [i[i.quarter != 'Q5'] for i in all_disease_data]\n",
    "    all_disease_data = [i[i.quarter != 'Q6'] for i in all_disease_data]\n",
    "    \n",
    "    all_col_data = [i[i.quarter != 'Q5'] for i in all_col_data]\n",
    "    all_col_data = [i[i.quarter != 'Q6'] for i in all_col_data]\n",
    "    \n",
    "    #Include year data\n",
    "    col_years = list(range(2015,2019))\n",
    "    for i in range(len(all_disease_data)):\n",
    "        all_disease_data[i].loc[:,'year'] = col_years[i] \n",
    "        all_col_data[i].loc[:,'year'] = col_years[i]\n",
    "    \n",
    "    #Combine dataframe lists \n",
    "    diseases_df = pd.concat(all_disease_data, ignore_index = True)\n",
    "    col_df = pd.concat(all_col_data, ignore_index = True)\n",
    "    \n",
    "    colony_data = pd.concat([diseases_df, col_df], axis = 1)\n",
    "    \n",
    "    colony_data = colony_data.loc[:,~colony_data.columns.duplicated()]\n",
    "    colony_data['period'] = colony_data[\"year\"].map(str) + colony_data[\"quarter\"]\n",
    "    \n",
    "    return (honey_prod, colony_data)\n",
    "\n",
    "\n",
    "\n",
    "\n",
    "def generate_map_object2(input_, period_, category_):\n",
    "    '''\n",
    "    Returns a plotly chloropleth graph object\n",
    "\n",
    "    input: \n",
    "        input_: A dataframe of honey_data containing\n",
    "        relevant production data\n",
    "        \n",
    "        period_: A string value containing the year and quarter of \n",
    "                 the data to be displayed. Ex: '2015Q1'\n",
    "        \n",
    "        category_: The variable to be used for density on the map.\n",
    "                   Can be any of the following: \n",
    "                   - varroa_mites \n",
    "                   - diseases \n",
    "                   - other \n",
    "                   - unknown \n",
    "                   - pesticides\n",
    "                   - other_pests\n",
    "\n",
    "    returns:\n",
    "        fig: A chloropleth graph object\n",
    "\n",
    "    ''' \n",
    "    \n",
    "    df = input_[input_['period'] == period_]\n",
    "    \n",
    "    \n",
    "    \n",
    "    fig = go.Figure(data=go.Choropleth(\n",
    "       \n",
    "        locations=df.state_code,\n",
    "        z=df[category_],\n",
    "        zmin = 0,\n",
    "        zmax = 70,\n",
    "        locationmode='USA-states',\n",
    "        colorscale='Reds',\n",
    "        autocolorscale=False,\n",
    "        #text=test_df['text'], # hover text\n",
    "        marker_line_color='white', # line markers between states\n",
    "        colorbar_title=\"population %\",\n",
    "        #coloraxis = dict(cmin = 0, cmax = 100),\n",
    "     \n",
    "    ))\n",
    "\n",
    "    fig.update_layout(\n",
    "        #color_axis=dict(color_axis = dict(colorbar=dict(len=)))\n",
    "        height=900,\n",
    "        width=1200,\n",
    "        title_text=str(period_) + ' '+ category_ + ' Stressor<br>(Hover for breakdown)',\n",
    "        geo = dict(\n",
    "            scope='usa',\n",
    "            projection=go.layout.geo.Projection(type = 'albers usa'),\n",
    "            showlakes=True, # lakes\n",
    "            lakecolor='rgb(255, 255, 255)'),\n",
    "    )\n",
    "    \n",
    "    return fig"
   ]
  },
  {
   "cell_type": "markdown",
   "metadata": {},
   "source": [
    "## Production Data"
   ]
  },
  {
   "cell_type": "code",
   "execution_count": 4,
   "metadata": {},
   "outputs": [
    {
     "data": {
      "text/plain": [
       "(760, 9)"
      ]
     },
     "execution_count": 4,
     "metadata": {},
     "output_type": "execute_result"
    }
   ],
   "source": [
    "all_data = get_data()\n",
    "honey_df = all_data[0]\n",
    "honey_df.shape"
   ]
  },
  {
   "cell_type": "code",
   "execution_count": 5,
   "metadata": {},
   "outputs": [
    {
     "data": {
      "text/html": [
       "<div>\n",
       "<style scoped>\n",
       "    .dataframe tbody tr th:only-of-type {\n",
       "        vertical-align: middle;\n",
       "    }\n",
       "\n",
       "    .dataframe tbody tr th {\n",
       "        vertical-align: top;\n",
       "    }\n",
       "\n",
       "    .dataframe thead th {\n",
       "        text-align: right;\n",
       "    }\n",
       "</style>\n",
       "<table border=\"1\" class=\"dataframe\">\n",
       "  <thead>\n",
       "    <tr style=\"text-align: right;\">\n",
       "      <th></th>\n",
       "      <th>state</th>\n",
       "      <th>honey_colonies</th>\n",
       "      <th>yield_per_col</th>\n",
       "      <th>production</th>\n",
       "      <th>stocks</th>\n",
       "      <th>avg_price_per_lb</th>\n",
       "      <th>prod_value</th>\n",
       "      <th>state_code</th>\n",
       "      <th>year</th>\n",
       "    </tr>\n",
       "  </thead>\n",
       "  <tbody>\n",
       "    <tr>\n",
       "      <th>0</th>\n",
       "      <td>Alabama</td>\n",
       "      <td>16.0</td>\n",
       "      <td>78.0</td>\n",
       "      <td>1248.0</td>\n",
       "      <td>187.0</td>\n",
       "      <td>59.0</td>\n",
       "      <td>736.0</td>\n",
       "      <td>AL</td>\n",
       "      <td>2000</td>\n",
       "    </tr>\n",
       "    <tr>\n",
       "      <th>1</th>\n",
       "      <td>Arizona</td>\n",
       "      <td>40.0</td>\n",
       "      <td>59.0</td>\n",
       "      <td>2360.0</td>\n",
       "      <td>1322.0</td>\n",
       "      <td>73.0</td>\n",
       "      <td>1723.0</td>\n",
       "      <td>AZ</td>\n",
       "      <td>2000</td>\n",
       "    </tr>\n",
       "    <tr>\n",
       "      <th>2</th>\n",
       "      <td>Arkansas</td>\n",
       "      <td>55.0</td>\n",
       "      <td>93.0</td>\n",
       "      <td>5115.0</td>\n",
       "      <td>3529.0</td>\n",
       "      <td>57.0</td>\n",
       "      <td>2916.0</td>\n",
       "      <td>AR</td>\n",
       "      <td>2000</td>\n",
       "    </tr>\n",
       "    <tr>\n",
       "      <th>3</th>\n",
       "      <td>California</td>\n",
       "      <td>440.0</td>\n",
       "      <td>70.0</td>\n",
       "      <td>30800.0</td>\n",
       "      <td>11396.0</td>\n",
       "      <td>59.0</td>\n",
       "      <td>18172.0</td>\n",
       "      <td>CA</td>\n",
       "      <td>2000</td>\n",
       "    </tr>\n",
       "    <tr>\n",
       "      <th>4</th>\n",
       "      <td>Colorado</td>\n",
       "      <td>29.0</td>\n",
       "      <td>60.0</td>\n",
       "      <td>1740.0</td>\n",
       "      <td>957.0</td>\n",
       "      <td>62.0</td>\n",
       "      <td>1079.0</td>\n",
       "      <td>CO</td>\n",
       "      <td>2000</td>\n",
       "    </tr>\n",
       "  </tbody>\n",
       "</table>\n",
       "</div>"
      ],
      "text/plain": [
       "        state  honey_colonies  yield_per_col  production   stocks  \\\n",
       "0     Alabama            16.0           78.0      1248.0    187.0   \n",
       "1     Arizona            40.0           59.0      2360.0   1322.0   \n",
       "2    Arkansas            55.0           93.0      5115.0   3529.0   \n",
       "3  California           440.0           70.0     30800.0  11396.0   \n",
       "4    Colorado            29.0           60.0      1740.0    957.0   \n",
       "\n",
       "   avg_price_per_lb  prod_value state_code  year  \n",
       "0              59.0       736.0         AL  2000  \n",
       "1              73.0      1723.0         AZ  2000  \n",
       "2              57.0      2916.0         AR  2000  \n",
       "3              59.0     18172.0         CA  2000  \n",
       "4              62.0      1079.0         CO  2000  "
      ]
     },
     "execution_count": 5,
     "metadata": {},
     "output_type": "execute_result"
    }
   ],
   "source": [
    "honey_df.head()"
   ]
  },
  {
   "cell_type": "markdown",
   "metadata": {},
   "source": [
    "## Colony and Disease Data"
   ]
  },
  {
   "cell_type": "markdown",
   "metadata": {},
   "source": [
    "In 2015 the USDA began collecting more in-depth data on honey colony counts and health stressors that may affect them on a quarterly basis. These reports contain counts that are recorded by the thousands and stressor data that is recorded percentage wise to the populations per state."
   ]
  },
  {
   "cell_type": "code",
   "execution_count": 6,
   "metadata": {},
   "outputs": [
    {
     "data": {
      "text/plain": [
       "(704, 18)"
      ]
     },
     "execution_count": 6,
     "metadata": {},
     "output_type": "execute_result"
    }
   ],
   "source": [
    "colony_data = all_data[1]\n",
    "colony_data.shape"
   ]
  },
  {
   "cell_type": "code",
   "execution_count": 7,
   "metadata": {},
   "outputs": [
    {
     "data": {
      "text/html": [
       "<div>\n",
       "<style scoped>\n",
       "    .dataframe tbody tr th:only-of-type {\n",
       "        vertical-align: middle;\n",
       "    }\n",
       "\n",
       "    .dataframe tbody tr th {\n",
       "        vertical-align: top;\n",
       "    }\n",
       "\n",
       "    .dataframe thead th {\n",
       "        text-align: right;\n",
       "    }\n",
       "</style>\n",
       "<table border=\"1\" class=\"dataframe\">\n",
       "  <thead>\n",
       "    <tr style=\"text-align: right;\">\n",
       "      <th></th>\n",
       "      <th>state</th>\n",
       "      <th>varroa_mites</th>\n",
       "      <th>other_pests</th>\n",
       "      <th>diseases</th>\n",
       "      <th>pesticides</th>\n",
       "      <th>other</th>\n",
       "      <th>unknown</th>\n",
       "      <th>quarter</th>\n",
       "      <th>state_code</th>\n",
       "      <th>year</th>\n",
       "      <th>initial_count</th>\n",
       "      <th>max</th>\n",
       "      <th>lost</th>\n",
       "      <th>lost_perc</th>\n",
       "      <th>added</th>\n",
       "      <th>renovated</th>\n",
       "      <th>renovated_perc</th>\n",
       "      <th>period</th>\n",
       "    </tr>\n",
       "  </thead>\n",
       "  <tbody>\n",
       "    <tr>\n",
       "      <th>0</th>\n",
       "      <td>Alabama</td>\n",
       "      <td>10.000000</td>\n",
       "      <td>5.4</td>\n",
       "      <td>0.0</td>\n",
       "      <td>2.2</td>\n",
       "      <td>9.1</td>\n",
       "      <td>9.4</td>\n",
       "      <td>Q1</td>\n",
       "      <td>AL</td>\n",
       "      <td>2015</td>\n",
       "      <td>7000.0</td>\n",
       "      <td>7000.0</td>\n",
       "      <td>1800.0</td>\n",
       "      <td>26.0</td>\n",
       "      <td>2800.0</td>\n",
       "      <td>250.0</td>\n",
       "      <td>4.0</td>\n",
       "      <td>2015Q1</td>\n",
       "    </tr>\n",
       "    <tr>\n",
       "      <th>1</th>\n",
       "      <td>Arizona</td>\n",
       "      <td>26.900000</td>\n",
       "      <td>20.5</td>\n",
       "      <td>0.1</td>\n",
       "      <td>0.0</td>\n",
       "      <td>1.8</td>\n",
       "      <td>3.1</td>\n",
       "      <td>Q1</td>\n",
       "      <td>AZ</td>\n",
       "      <td>2015</td>\n",
       "      <td>35000.0</td>\n",
       "      <td>35000.0</td>\n",
       "      <td>4600.0</td>\n",
       "      <td>13.0</td>\n",
       "      <td>3400.0</td>\n",
       "      <td>2100.0</td>\n",
       "      <td>6.0</td>\n",
       "      <td>2015Q1</td>\n",
       "    </tr>\n",
       "    <tr>\n",
       "      <th>2</th>\n",
       "      <td>Arkansas</td>\n",
       "      <td>17.600000</td>\n",
       "      <td>11.4</td>\n",
       "      <td>1.5</td>\n",
       "      <td>3.4</td>\n",
       "      <td>1.0</td>\n",
       "      <td>1.0</td>\n",
       "      <td>Q1</td>\n",
       "      <td>AR</td>\n",
       "      <td>2015</td>\n",
       "      <td>13000.0</td>\n",
       "      <td>14000.0</td>\n",
       "      <td>1500.0</td>\n",
       "      <td>11.0</td>\n",
       "      <td>1200.0</td>\n",
       "      <td>90.0</td>\n",
       "      <td>1.0</td>\n",
       "      <td>2015Q1</td>\n",
       "    </tr>\n",
       "    <tr>\n",
       "      <th>3</th>\n",
       "      <td>California</td>\n",
       "      <td>24.700001</td>\n",
       "      <td>7.2</td>\n",
       "      <td>3.0</td>\n",
       "      <td>7.5</td>\n",
       "      <td>6.5</td>\n",
       "      <td>2.8</td>\n",
       "      <td>Q1</td>\n",
       "      <td>CA</td>\n",
       "      <td>2015</td>\n",
       "      <td>1440000.0</td>\n",
       "      <td>1690000.0</td>\n",
       "      <td>255000.0</td>\n",
       "      <td>15.0</td>\n",
       "      <td>250000.0</td>\n",
       "      <td>124000.0</td>\n",
       "      <td>7.0</td>\n",
       "      <td>2015Q1</td>\n",
       "    </tr>\n",
       "    <tr>\n",
       "      <th>4</th>\n",
       "      <td>Colorado</td>\n",
       "      <td>14.600000</td>\n",
       "      <td>0.9</td>\n",
       "      <td>1.8</td>\n",
       "      <td>0.6</td>\n",
       "      <td>2.6</td>\n",
       "      <td>5.9</td>\n",
       "      <td>Q1</td>\n",
       "      <td>CO</td>\n",
       "      <td>2015</td>\n",
       "      <td>3500.0</td>\n",
       "      <td>12500.0</td>\n",
       "      <td>1500.0</td>\n",
       "      <td>12.0</td>\n",
       "      <td>200.0</td>\n",
       "      <td>140.0</td>\n",
       "      <td>1.0</td>\n",
       "      <td>2015Q1</td>\n",
       "    </tr>\n",
       "  </tbody>\n",
       "</table>\n",
       "</div>"
      ],
      "text/plain": [
       "        state  varroa_mites  other_pests  diseases  pesticides  other  \\\n",
       "0     Alabama     10.000000          5.4       0.0         2.2    9.1   \n",
       "1     Arizona     26.900000         20.5       0.1         0.0    1.8   \n",
       "2    Arkansas     17.600000         11.4       1.5         3.4    1.0   \n",
       "3  California     24.700001          7.2       3.0         7.5    6.5   \n",
       "4    Colorado     14.600000          0.9       1.8         0.6    2.6   \n",
       "\n",
       "   unknown quarter state_code  year  initial_count        max      lost  \\\n",
       "0      9.4      Q1         AL  2015         7000.0     7000.0    1800.0   \n",
       "1      3.1      Q1         AZ  2015        35000.0    35000.0    4600.0   \n",
       "2      1.0      Q1         AR  2015        13000.0    14000.0    1500.0   \n",
       "3      2.8      Q1         CA  2015      1440000.0  1690000.0  255000.0   \n",
       "4      5.9      Q1         CO  2015         3500.0    12500.0    1500.0   \n",
       "\n",
       "   lost_perc     added  renovated  renovated_perc  period  \n",
       "0       26.0    2800.0      250.0             4.0  2015Q1  \n",
       "1       13.0    3400.0     2100.0             6.0  2015Q1  \n",
       "2       11.0    1200.0       90.0             1.0  2015Q1  \n",
       "3       15.0  250000.0   124000.0             7.0  2015Q1  \n",
       "4       12.0     200.0      140.0             1.0  2015Q1  "
      ]
     },
     "execution_count": 7,
     "metadata": {},
     "output_type": "execute_result"
    }
   ],
   "source": [
    "colony_data.head()"
   ]
  },
  {
   "cell_type": "markdown",
   "metadata": {},
   "source": [
    "Of the stressors recorded in the data, they include varroa mites, other pests, diseases, pesticides, other, and unknown. The counts and population data are recorded, where renovated_perc signifies the percentage of colonies that were renovated and the lost_perc signifies the percentage of colonies lost."
   ]
  },
  {
   "cell_type": "code",
   "execution_count": 8,
   "metadata": {},
   "outputs": [
    {
     "data": {
      "text/html": [
       "<div>\n",
       "<style scoped>\n",
       "    .dataframe tbody tr th:only-of-type {\n",
       "        vertical-align: middle;\n",
       "    }\n",
       "\n",
       "    .dataframe tbody tr th {\n",
       "        vertical-align: top;\n",
       "    }\n",
       "\n",
       "    .dataframe thead th {\n",
       "        text-align: right;\n",
       "    }\n",
       "</style>\n",
       "<table border=\"1\" class=\"dataframe\">\n",
       "  <thead>\n",
       "    <tr style=\"text-align: right;\">\n",
       "      <th></th>\n",
       "      <th>state</th>\n",
       "      <th>varroa_mites</th>\n",
       "      <th>other_pests</th>\n",
       "      <th>diseases</th>\n",
       "      <th>pesticides</th>\n",
       "      <th>other</th>\n",
       "      <th>unknown</th>\n",
       "      <th>quarter</th>\n",
       "      <th>state_code</th>\n",
       "      <th>year</th>\n",
       "      <th>initial_count</th>\n",
       "      <th>max</th>\n",
       "      <th>lost</th>\n",
       "      <th>lost_perc</th>\n",
       "      <th>added</th>\n",
       "      <th>renovated</th>\n",
       "      <th>renovated_perc</th>\n",
       "      <th>period</th>\n",
       "    </tr>\n",
       "  </thead>\n",
       "  <tbody>\n",
       "    <tr>\n",
       "      <th>3</th>\n",
       "      <td>California</td>\n",
       "      <td>24.700001</td>\n",
       "      <td>7.200000</td>\n",
       "      <td>3.0</td>\n",
       "      <td>7.500000</td>\n",
       "      <td>6.5</td>\n",
       "      <td>2.8</td>\n",
       "      <td>Q1</td>\n",
       "      <td>CA</td>\n",
       "      <td>2015</td>\n",
       "      <td>1440000.0</td>\n",
       "      <td>1690000.0</td>\n",
       "      <td>255000.0</td>\n",
       "      <td>15.0</td>\n",
       "      <td>250000.0</td>\n",
       "      <td>124000.0</td>\n",
       "      <td>7.0</td>\n",
       "      <td>2015Q1</td>\n",
       "    </tr>\n",
       "    <tr>\n",
       "      <th>47</th>\n",
       "      <td>California</td>\n",
       "      <td>50.900002</td>\n",
       "      <td>21.500000</td>\n",
       "      <td>7.8</td>\n",
       "      <td>23.000000</td>\n",
       "      <td>14.2</td>\n",
       "      <td>3.1</td>\n",
       "      <td>Q2</td>\n",
       "      <td>CA</td>\n",
       "      <td>2015</td>\n",
       "      <td>1040000.0</td>\n",
       "      <td>1050000.0</td>\n",
       "      <td>104000.0</td>\n",
       "      <td>10.0</td>\n",
       "      <td>170000.0</td>\n",
       "      <td>285000.0</td>\n",
       "      <td>27.0</td>\n",
       "      <td>2015Q2</td>\n",
       "    </tr>\n",
       "    <tr>\n",
       "      <th>91</th>\n",
       "      <td>California</td>\n",
       "      <td>39.900002</td>\n",
       "      <td>20.400000</td>\n",
       "      <td>12.5</td>\n",
       "      <td>19.600000</td>\n",
       "      <td>15.0</td>\n",
       "      <td>4.7</td>\n",
       "      <td>Q3</td>\n",
       "      <td>CA</td>\n",
       "      <td>2015</td>\n",
       "      <td>730000.0</td>\n",
       "      <td>800000.0</td>\n",
       "      <td>76000.0</td>\n",
       "      <td>10.0</td>\n",
       "      <td>40000.0</td>\n",
       "      <td>93000.0</td>\n",
       "      <td>12.0</td>\n",
       "      <td>2015Q3</td>\n",
       "    </tr>\n",
       "    <tr>\n",
       "      <th>135</th>\n",
       "      <td>California</td>\n",
       "      <td>37.299999</td>\n",
       "      <td>12.700000</td>\n",
       "      <td>6.2</td>\n",
       "      <td>11.700000</td>\n",
       "      <td>10.5</td>\n",
       "      <td>7.3</td>\n",
       "      <td>Q4</td>\n",
       "      <td>CA</td>\n",
       "      <td>2015</td>\n",
       "      <td>750000.0</td>\n",
       "      <td>1260000.0</td>\n",
       "      <td>149000.0</td>\n",
       "      <td>12.0</td>\n",
       "      <td>39000.0</td>\n",
       "      <td>75000.0</td>\n",
       "      <td>6.0</td>\n",
       "      <td>2015Q4</td>\n",
       "    </tr>\n",
       "    <tr>\n",
       "      <th>179</th>\n",
       "      <td>California</td>\n",
       "      <td>38.099998</td>\n",
       "      <td>15.200000</td>\n",
       "      <td>9.0</td>\n",
       "      <td>13.500000</td>\n",
       "      <td>8.4</td>\n",
       "      <td>4.4</td>\n",
       "      <td>Q1</td>\n",
       "      <td>CA</td>\n",
       "      <td>2016</td>\n",
       "      <td>1130000.0</td>\n",
       "      <td>1410000.0</td>\n",
       "      <td>200000.0</td>\n",
       "      <td>14.0</td>\n",
       "      <td>210000.0</td>\n",
       "      <td>139000.0</td>\n",
       "      <td>10.0</td>\n",
       "      <td>2016Q1</td>\n",
       "    </tr>\n",
       "    <tr>\n",
       "      <th>223</th>\n",
       "      <td>California</td>\n",
       "      <td>49.700001</td>\n",
       "      <td>14.100000</td>\n",
       "      <td>11.2</td>\n",
       "      <td>14.200000</td>\n",
       "      <td>15.3</td>\n",
       "      <td>2.6</td>\n",
       "      <td>Q2</td>\n",
       "      <td>CA</td>\n",
       "      <td>2016</td>\n",
       "      <td>1110000.0</td>\n",
       "      <td>1150000.0</td>\n",
       "      <td>108000.0</td>\n",
       "      <td>9.0</td>\n",
       "      <td>240000.0</td>\n",
       "      <td>185000.0</td>\n",
       "      <td>16.0</td>\n",
       "      <td>2016Q2</td>\n",
       "    </tr>\n",
       "    <tr>\n",
       "      <th>267</th>\n",
       "      <td>California</td>\n",
       "      <td>42.200001</td>\n",
       "      <td>17.799999</td>\n",
       "      <td>8.5</td>\n",
       "      <td>18.799999</td>\n",
       "      <td>10.4</td>\n",
       "      <td>6.9</td>\n",
       "      <td>Q3</td>\n",
       "      <td>CA</td>\n",
       "      <td>2016</td>\n",
       "      <td>740000.0</td>\n",
       "      <td>820000.0</td>\n",
       "      <td>82000.0</td>\n",
       "      <td>10.0</td>\n",
       "      <td>33000.0</td>\n",
       "      <td>78000.0</td>\n",
       "      <td>10.0</td>\n",
       "      <td>2016Q3</td>\n",
       "    </tr>\n",
       "    <tr>\n",
       "      <th>311</th>\n",
       "      <td>California</td>\n",
       "      <td>41.900002</td>\n",
       "      <td>13.700000</td>\n",
       "      <td>8.0</td>\n",
       "      <td>9.100000</td>\n",
       "      <td>9.6</td>\n",
       "      <td>3.5</td>\n",
       "      <td>Q4</td>\n",
       "      <td>CA</td>\n",
       "      <td>2016</td>\n",
       "      <td>770000.0</td>\n",
       "      <td>1330000.0</td>\n",
       "      <td>205000.0</td>\n",
       "      <td>15.0</td>\n",
       "      <td>40000.0</td>\n",
       "      <td>35000.0</td>\n",
       "      <td>3.0</td>\n",
       "      <td>2016Q4</td>\n",
       "    </tr>\n",
       "    <tr>\n",
       "      <th>355</th>\n",
       "      <td>California</td>\n",
       "      <td>37.700001</td>\n",
       "      <td>12.600000</td>\n",
       "      <td>7.5</td>\n",
       "      <td>9.200000</td>\n",
       "      <td>6.6</td>\n",
       "      <td>6.3</td>\n",
       "      <td>Q1</td>\n",
       "      <td>CA</td>\n",
       "      <td>2017</td>\n",
       "      <td>1170000.0</td>\n",
       "      <td>1470000.0</td>\n",
       "      <td>195000.0</td>\n",
       "      <td>13.0</td>\n",
       "      <td>137000.0</td>\n",
       "      <td>93000.0</td>\n",
       "      <td>6.0</td>\n",
       "      <td>2017Q1</td>\n",
       "    </tr>\n",
       "    <tr>\n",
       "      <th>399</th>\n",
       "      <td>California</td>\n",
       "      <td>38.000000</td>\n",
       "      <td>7.700000</td>\n",
       "      <td>3.1</td>\n",
       "      <td>13.000000</td>\n",
       "      <td>4.8</td>\n",
       "      <td>3.4</td>\n",
       "      <td>Q2</td>\n",
       "      <td>CA</td>\n",
       "      <td>2017</td>\n",
       "      <td>980000.0</td>\n",
       "      <td>990000.0</td>\n",
       "      <td>90000.0</td>\n",
       "      <td>9.0</td>\n",
       "      <td>160000.0</td>\n",
       "      <td>220000.0</td>\n",
       "      <td>22.0</td>\n",
       "      <td>2017Q2</td>\n",
       "    </tr>\n",
       "    <tr>\n",
       "      <th>443</th>\n",
       "      <td>California</td>\n",
       "      <td>42.299999</td>\n",
       "      <td>15.800000</td>\n",
       "      <td>5.6</td>\n",
       "      <td>13.400000</td>\n",
       "      <td>10.1</td>\n",
       "      <td>3.6</td>\n",
       "      <td>Q3</td>\n",
       "      <td>CA</td>\n",
       "      <td>2017</td>\n",
       "      <td>590000.0</td>\n",
       "      <td>670000.0</td>\n",
       "      <td>67000.0</td>\n",
       "      <td>10.0</td>\n",
       "      <td>73000.0</td>\n",
       "      <td>74000.0</td>\n",
       "      <td>11.0</td>\n",
       "      <td>2017Q3</td>\n",
       "    </tr>\n",
       "    <tr>\n",
       "      <th>487</th>\n",
       "      <td>California</td>\n",
       "      <td>47.900002</td>\n",
       "      <td>14.100000</td>\n",
       "      <td>7.4</td>\n",
       "      <td>17.000000</td>\n",
       "      <td>17.1</td>\n",
       "      <td>6.3</td>\n",
       "      <td>Q4</td>\n",
       "      <td>CA</td>\n",
       "      <td>2017</td>\n",
       "      <td>680000.0</td>\n",
       "      <td>1200000.0</td>\n",
       "      <td>155000.0</td>\n",
       "      <td>13.0</td>\n",
       "      <td>90000.0</td>\n",
       "      <td>104000.0</td>\n",
       "      <td>9.0</td>\n",
       "      <td>2017Q4</td>\n",
       "    </tr>\n",
       "    <tr>\n",
       "      <th>531</th>\n",
       "      <td>California</td>\n",
       "      <td>41.299999</td>\n",
       "      <td>11.300000</td>\n",
       "      <td>4.8</td>\n",
       "      <td>11.500000</td>\n",
       "      <td>8.0</td>\n",
       "      <td>4.9</td>\n",
       "      <td>Q1</td>\n",
       "      <td>CA</td>\n",
       "      <td>2018</td>\n",
       "      <td>1150000.0</td>\n",
       "      <td>1540000.0</td>\n",
       "      <td>215000.0</td>\n",
       "      <td>14.0</td>\n",
       "      <td>205000.0</td>\n",
       "      <td>133000.0</td>\n",
       "      <td>9.0</td>\n",
       "      <td>2018Q1</td>\n",
       "    </tr>\n",
       "    <tr>\n",
       "      <th>575</th>\n",
       "      <td>California</td>\n",
       "      <td>41.500000</td>\n",
       "      <td>10.200000</td>\n",
       "      <td>11.1</td>\n",
       "      <td>13.700000</td>\n",
       "      <td>9.0</td>\n",
       "      <td>5.0</td>\n",
       "      <td>Q2</td>\n",
       "      <td>CA</td>\n",
       "      <td>2018</td>\n",
       "      <td>1130000.0</td>\n",
       "      <td>1200000.0</td>\n",
       "      <td>110000.0</td>\n",
       "      <td>9.0</td>\n",
       "      <td>172000.0</td>\n",
       "      <td>255000.0</td>\n",
       "      <td>21.0</td>\n",
       "      <td>2018Q2</td>\n",
       "    </tr>\n",
       "    <tr>\n",
       "      <th>619</th>\n",
       "      <td>California</td>\n",
       "      <td>57.299999</td>\n",
       "      <td>6.600000</td>\n",
       "      <td>4.5</td>\n",
       "      <td>17.799999</td>\n",
       "      <td>12.0</td>\n",
       "      <td>3.6</td>\n",
       "      <td>Q3</td>\n",
       "      <td>CA</td>\n",
       "      <td>2018</td>\n",
       "      <td>590000.0</td>\n",
       "      <td>700000.0</td>\n",
       "      <td>73000.0</td>\n",
       "      <td>10.0</td>\n",
       "      <td>63000.0</td>\n",
       "      <td>141000.0</td>\n",
       "      <td>20.0</td>\n",
       "      <td>2018Q3</td>\n",
       "    </tr>\n",
       "    <tr>\n",
       "      <th>663</th>\n",
       "      <td>California</td>\n",
       "      <td>44.099998</td>\n",
       "      <td>16.600000</td>\n",
       "      <td>9.8</td>\n",
       "      <td>11.600000</td>\n",
       "      <td>9.3</td>\n",
       "      <td>7.1</td>\n",
       "      <td>Q4</td>\n",
       "      <td>CA</td>\n",
       "      <td>2018</td>\n",
       "      <td>680000.0</td>\n",
       "      <td>1200000.0</td>\n",
       "      <td>170000.0</td>\n",
       "      <td>14.0</td>\n",
       "      <td>86000.0</td>\n",
       "      <td>46000.0</td>\n",
       "      <td>4.0</td>\n",
       "      <td>2018Q4</td>\n",
       "    </tr>\n",
       "  </tbody>\n",
       "</table>\n",
       "</div>"
      ],
      "text/plain": [
       "          state  varroa_mites  other_pests  diseases  pesticides  other  \\\n",
       "3    California     24.700001     7.200000       3.0    7.500000    6.5   \n",
       "47   California     50.900002    21.500000       7.8   23.000000   14.2   \n",
       "91   California     39.900002    20.400000      12.5   19.600000   15.0   \n",
       "135  California     37.299999    12.700000       6.2   11.700000   10.5   \n",
       "179  California     38.099998    15.200000       9.0   13.500000    8.4   \n",
       "223  California     49.700001    14.100000      11.2   14.200000   15.3   \n",
       "267  California     42.200001    17.799999       8.5   18.799999   10.4   \n",
       "311  California     41.900002    13.700000       8.0    9.100000    9.6   \n",
       "355  California     37.700001    12.600000       7.5    9.200000    6.6   \n",
       "399  California     38.000000     7.700000       3.1   13.000000    4.8   \n",
       "443  California     42.299999    15.800000       5.6   13.400000   10.1   \n",
       "487  California     47.900002    14.100000       7.4   17.000000   17.1   \n",
       "531  California     41.299999    11.300000       4.8   11.500000    8.0   \n",
       "575  California     41.500000    10.200000      11.1   13.700000    9.0   \n",
       "619  California     57.299999     6.600000       4.5   17.799999   12.0   \n",
       "663  California     44.099998    16.600000       9.8   11.600000    9.3   \n",
       "\n",
       "     unknown quarter state_code  year  initial_count        max      lost  \\\n",
       "3        2.8      Q1         CA  2015      1440000.0  1690000.0  255000.0   \n",
       "47       3.1      Q2         CA  2015      1040000.0  1050000.0  104000.0   \n",
       "91       4.7      Q3         CA  2015       730000.0   800000.0   76000.0   \n",
       "135      7.3      Q4         CA  2015       750000.0  1260000.0  149000.0   \n",
       "179      4.4      Q1         CA  2016      1130000.0  1410000.0  200000.0   \n",
       "223      2.6      Q2         CA  2016      1110000.0  1150000.0  108000.0   \n",
       "267      6.9      Q3         CA  2016       740000.0   820000.0   82000.0   \n",
       "311      3.5      Q4         CA  2016       770000.0  1330000.0  205000.0   \n",
       "355      6.3      Q1         CA  2017      1170000.0  1470000.0  195000.0   \n",
       "399      3.4      Q2         CA  2017       980000.0   990000.0   90000.0   \n",
       "443      3.6      Q3         CA  2017       590000.0   670000.0   67000.0   \n",
       "487      6.3      Q4         CA  2017       680000.0  1200000.0  155000.0   \n",
       "531      4.9      Q1         CA  2018      1150000.0  1540000.0  215000.0   \n",
       "575      5.0      Q2         CA  2018      1130000.0  1200000.0  110000.0   \n",
       "619      3.6      Q3         CA  2018       590000.0   700000.0   73000.0   \n",
       "663      7.1      Q4         CA  2018       680000.0  1200000.0  170000.0   \n",
       "\n",
       "     lost_perc     added  renovated  renovated_perc  period  \n",
       "3         15.0  250000.0   124000.0             7.0  2015Q1  \n",
       "47        10.0  170000.0   285000.0            27.0  2015Q2  \n",
       "91        10.0   40000.0    93000.0            12.0  2015Q3  \n",
       "135       12.0   39000.0    75000.0             6.0  2015Q4  \n",
       "179       14.0  210000.0   139000.0            10.0  2016Q1  \n",
       "223        9.0  240000.0   185000.0            16.0  2016Q2  \n",
       "267       10.0   33000.0    78000.0            10.0  2016Q3  \n",
       "311       15.0   40000.0    35000.0             3.0  2016Q4  \n",
       "355       13.0  137000.0    93000.0             6.0  2017Q1  \n",
       "399        9.0  160000.0   220000.0            22.0  2017Q2  \n",
       "443       10.0   73000.0    74000.0            11.0  2017Q3  \n",
       "487       13.0   90000.0   104000.0             9.0  2017Q4  \n",
       "531       14.0  205000.0   133000.0             9.0  2018Q1  \n",
       "575        9.0  172000.0   255000.0            21.0  2018Q2  \n",
       "619       10.0   63000.0   141000.0            20.0  2018Q3  \n",
       "663       14.0   86000.0    46000.0             4.0  2018Q4  "
      ]
     },
     "execution_count": 8,
     "metadata": {},
     "output_type": "execute_result"
    }
   ],
   "source": [
    "ca_df = colony_data[colony_data.state_code =='CA']\n",
    "ca_df.head(16)"
   ]
  },
  {
   "cell_type": "code",
   "execution_count": 9,
   "metadata": {},
   "outputs": [
    {
     "data": {
      "text/plain": [
       "(16, 18)"
      ]
     },
     "execution_count": 9,
     "metadata": {},
     "output_type": "execute_result"
    }
   ],
   "source": [
    "ca_df.shape"
   ]
  },
  {
   "cell_type": "code",
   "execution_count": 12,
   "metadata": {
    "scrolled": false
   },
   "outputs": [
    {
     "data": {
      "application/vnd.plotly.v1+json": {
       "config": {
        "plotlyServerURL": "https://plot.ly"
       },
       "data": [
        {
         "mode": "lines+markers",
         "name": "colonies lost",
         "type": "scatter",
         "x": [
          "2015Q1",
          "2015Q2",
          "2015Q3",
          "2015Q4",
          "2016Q1",
          "2016Q2",
          "2016Q3",
          "2016Q4",
          "2017Q1",
          "2017Q2",
          "2017Q3",
          "2017Q4",
          "2018Q1",
          "2018Q2",
          "2018Q3",
          "2018Q4"
         ],
         "y": [
          15,
          10,
          10,
          12,
          14,
          9,
          10,
          15,
          13,
          9,
          10,
          13,
          14,
          9,
          10,
          14
         ]
        },
        {
         "mode": "lines+markers",
         "name": "varroa mites",
         "type": "scatter",
         "x": [
          "2015Q1",
          "2015Q2",
          "2015Q3",
          "2015Q4",
          "2016Q1",
          "2016Q2",
          "2016Q3",
          "2016Q4",
          "2017Q1",
          "2017Q2",
          "2017Q3",
          "2017Q4",
          "2018Q1",
          "2018Q2",
          "2018Q3",
          "2018Q4"
         ],
         "y": [
          24.700000762939453,
          50.900001525878906,
          39.900001525878906,
          37.29999923706055,
          38.099998474121094,
          49.70000076293945,
          42.20000076293945,
          41.900001525878906,
          37.70000076293945,
          38,
          42.29999923706055,
          47.900001525878906,
          41.29999923706055,
          41.5,
          57.29999923706055,
          44.099998474121094
         ]
        },
        {
         "mode": "lines+markers",
         "name": "pesticides",
         "type": "scatter",
         "x": [
          "2015Q1",
          "2015Q2",
          "2015Q3",
          "2015Q4",
          "2016Q1",
          "2016Q2",
          "2016Q3",
          "2016Q4",
          "2017Q1",
          "2017Q2",
          "2017Q3",
          "2017Q4",
          "2018Q1",
          "2018Q2",
          "2018Q3",
          "2018Q4"
         ],
         "y": [
          7.5,
          23,
          19.600000381469727,
          11.699999809265137,
          13.5,
          14.199999809265137,
          18.799999237060547,
          9.100000381469727,
          9.199999809265137,
          13,
          13.399999618530273,
          17,
          11.5,
          13.699999809265137,
          17.799999237060547,
          11.600000381469727
         ]
        },
        {
         "mode": "lines+markers",
         "name": "other pests",
         "type": "scatter",
         "x": [
          "2015Q1",
          "2015Q2",
          "2015Q3",
          "2015Q4",
          "2016Q1",
          "2016Q2",
          "2016Q3",
          "2016Q4",
          "2017Q1",
          "2017Q2",
          "2017Q3",
          "2017Q4",
          "2018Q1",
          "2018Q2",
          "2018Q3",
          "2018Q4"
         ],
         "y": [
          7.199999809265137,
          21.5,
          20.399999618530273,
          12.699999809265137,
          15.199999809265137,
          14.100000381469727,
          17.799999237060547,
          13.699999809265137,
          12.600000381469727,
          7.699999809265137,
          15.800000190734863,
          14.100000381469727,
          11.300000190734863,
          10.199999809265137,
          6.599999904632568,
          16.600000381469727
         ]
        },
        {
         "mode": "lines+markers",
         "name": "diseases",
         "type": "scatter",
         "x": [
          "2015Q1",
          "2015Q2",
          "2015Q3",
          "2015Q4",
          "2016Q1",
          "2016Q2",
          "2016Q3",
          "2016Q4",
          "2017Q1",
          "2017Q2",
          "2017Q3",
          "2017Q4",
          "2018Q1",
          "2018Q2",
          "2018Q3",
          "2018Q4"
         ],
         "y": [
          3,
          7.800000190734863,
          12.5,
          6.199999809265137,
          9,
          11.199999809265137,
          8.5,
          8,
          7.5,
          3.0999999046325684,
          5.599999904632568,
          7.400000095367432,
          4.800000190734863,
          11.100000381469727,
          4.5,
          9.800000190734863
         ]
        }
       ],
       "layout": {
        "template": {
         "data": {
          "bar": [
           {
            "error_x": {
             "color": "#2a3f5f"
            },
            "error_y": {
             "color": "#2a3f5f"
            },
            "marker": {
             "line": {
              "color": "#E5ECF6",
              "width": 0.5
             }
            },
            "type": "bar"
           }
          ],
          "barpolar": [
           {
            "marker": {
             "line": {
              "color": "#E5ECF6",
              "width": 0.5
             }
            },
            "type": "barpolar"
           }
          ],
          "carpet": [
           {
            "aaxis": {
             "endlinecolor": "#2a3f5f",
             "gridcolor": "white",
             "linecolor": "white",
             "minorgridcolor": "white",
             "startlinecolor": "#2a3f5f"
            },
            "baxis": {
             "endlinecolor": "#2a3f5f",
             "gridcolor": "white",
             "linecolor": "white",
             "minorgridcolor": "white",
             "startlinecolor": "#2a3f5f"
            },
            "type": "carpet"
           }
          ],
          "choropleth": [
           {
            "colorbar": {
             "outlinewidth": 0,
             "ticks": ""
            },
            "type": "choropleth"
           }
          ],
          "contour": [
           {
            "colorbar": {
             "outlinewidth": 0,
             "ticks": ""
            },
            "colorscale": [
             [
              0,
              "#0d0887"
             ],
             [
              0.1111111111111111,
              "#46039f"
             ],
             [
              0.2222222222222222,
              "#7201a8"
             ],
             [
              0.3333333333333333,
              "#9c179e"
             ],
             [
              0.4444444444444444,
              "#bd3786"
             ],
             [
              0.5555555555555556,
              "#d8576b"
             ],
             [
              0.6666666666666666,
              "#ed7953"
             ],
             [
              0.7777777777777778,
              "#fb9f3a"
             ],
             [
              0.8888888888888888,
              "#fdca26"
             ],
             [
              1,
              "#f0f921"
             ]
            ],
            "type": "contour"
           }
          ],
          "contourcarpet": [
           {
            "colorbar": {
             "outlinewidth": 0,
             "ticks": ""
            },
            "type": "contourcarpet"
           }
          ],
          "heatmap": [
           {
            "colorbar": {
             "outlinewidth": 0,
             "ticks": ""
            },
            "colorscale": [
             [
              0,
              "#0d0887"
             ],
             [
              0.1111111111111111,
              "#46039f"
             ],
             [
              0.2222222222222222,
              "#7201a8"
             ],
             [
              0.3333333333333333,
              "#9c179e"
             ],
             [
              0.4444444444444444,
              "#bd3786"
             ],
             [
              0.5555555555555556,
              "#d8576b"
             ],
             [
              0.6666666666666666,
              "#ed7953"
             ],
             [
              0.7777777777777778,
              "#fb9f3a"
             ],
             [
              0.8888888888888888,
              "#fdca26"
             ],
             [
              1,
              "#f0f921"
             ]
            ],
            "type": "heatmap"
           }
          ],
          "heatmapgl": [
           {
            "colorbar": {
             "outlinewidth": 0,
             "ticks": ""
            },
            "colorscale": [
             [
              0,
              "#0d0887"
             ],
             [
              0.1111111111111111,
              "#46039f"
             ],
             [
              0.2222222222222222,
              "#7201a8"
             ],
             [
              0.3333333333333333,
              "#9c179e"
             ],
             [
              0.4444444444444444,
              "#bd3786"
             ],
             [
              0.5555555555555556,
              "#d8576b"
             ],
             [
              0.6666666666666666,
              "#ed7953"
             ],
             [
              0.7777777777777778,
              "#fb9f3a"
             ],
             [
              0.8888888888888888,
              "#fdca26"
             ],
             [
              1,
              "#f0f921"
             ]
            ],
            "type": "heatmapgl"
           }
          ],
          "histogram": [
           {
            "marker": {
             "colorbar": {
              "outlinewidth": 0,
              "ticks": ""
             }
            },
            "type": "histogram"
           }
          ],
          "histogram2d": [
           {
            "colorbar": {
             "outlinewidth": 0,
             "ticks": ""
            },
            "colorscale": [
             [
              0,
              "#0d0887"
             ],
             [
              0.1111111111111111,
              "#46039f"
             ],
             [
              0.2222222222222222,
              "#7201a8"
             ],
             [
              0.3333333333333333,
              "#9c179e"
             ],
             [
              0.4444444444444444,
              "#bd3786"
             ],
             [
              0.5555555555555556,
              "#d8576b"
             ],
             [
              0.6666666666666666,
              "#ed7953"
             ],
             [
              0.7777777777777778,
              "#fb9f3a"
             ],
             [
              0.8888888888888888,
              "#fdca26"
             ],
             [
              1,
              "#f0f921"
             ]
            ],
            "type": "histogram2d"
           }
          ],
          "histogram2dcontour": [
           {
            "colorbar": {
             "outlinewidth": 0,
             "ticks": ""
            },
            "colorscale": [
             [
              0,
              "#0d0887"
             ],
             [
              0.1111111111111111,
              "#46039f"
             ],
             [
              0.2222222222222222,
              "#7201a8"
             ],
             [
              0.3333333333333333,
              "#9c179e"
             ],
             [
              0.4444444444444444,
              "#bd3786"
             ],
             [
              0.5555555555555556,
              "#d8576b"
             ],
             [
              0.6666666666666666,
              "#ed7953"
             ],
             [
              0.7777777777777778,
              "#fb9f3a"
             ],
             [
              0.8888888888888888,
              "#fdca26"
             ],
             [
              1,
              "#f0f921"
             ]
            ],
            "type": "histogram2dcontour"
           }
          ],
          "mesh3d": [
           {
            "colorbar": {
             "outlinewidth": 0,
             "ticks": ""
            },
            "type": "mesh3d"
           }
          ],
          "parcoords": [
           {
            "line": {
             "colorbar": {
              "outlinewidth": 0,
              "ticks": ""
             }
            },
            "type": "parcoords"
           }
          ],
          "scatter": [
           {
            "marker": {
             "colorbar": {
              "outlinewidth": 0,
              "ticks": ""
             }
            },
            "type": "scatter"
           }
          ],
          "scatter3d": [
           {
            "line": {
             "colorbar": {
              "outlinewidth": 0,
              "ticks": ""
             }
            },
            "marker": {
             "colorbar": {
              "outlinewidth": 0,
              "ticks": ""
             }
            },
            "type": "scatter3d"
           }
          ],
          "scattercarpet": [
           {
            "marker": {
             "colorbar": {
              "outlinewidth": 0,
              "ticks": ""
             }
            },
            "type": "scattercarpet"
           }
          ],
          "scattergeo": [
           {
            "marker": {
             "colorbar": {
              "outlinewidth": 0,
              "ticks": ""
             }
            },
            "type": "scattergeo"
           }
          ],
          "scattergl": [
           {
            "marker": {
             "colorbar": {
              "outlinewidth": 0,
              "ticks": ""
             }
            },
            "type": "scattergl"
           }
          ],
          "scattermapbox": [
           {
            "marker": {
             "colorbar": {
              "outlinewidth": 0,
              "ticks": ""
             }
            },
            "type": "scattermapbox"
           }
          ],
          "scatterpolar": [
           {
            "marker": {
             "colorbar": {
              "outlinewidth": 0,
              "ticks": ""
             }
            },
            "type": "scatterpolar"
           }
          ],
          "scatterpolargl": [
           {
            "marker": {
             "colorbar": {
              "outlinewidth": 0,
              "ticks": ""
             }
            },
            "type": "scatterpolargl"
           }
          ],
          "scatterternary": [
           {
            "marker": {
             "colorbar": {
              "outlinewidth": 0,
              "ticks": ""
             }
            },
            "type": "scatterternary"
           }
          ],
          "surface": [
           {
            "colorbar": {
             "outlinewidth": 0,
             "ticks": ""
            },
            "colorscale": [
             [
              0,
              "#0d0887"
             ],
             [
              0.1111111111111111,
              "#46039f"
             ],
             [
              0.2222222222222222,
              "#7201a8"
             ],
             [
              0.3333333333333333,
              "#9c179e"
             ],
             [
              0.4444444444444444,
              "#bd3786"
             ],
             [
              0.5555555555555556,
              "#d8576b"
             ],
             [
              0.6666666666666666,
              "#ed7953"
             ],
             [
              0.7777777777777778,
              "#fb9f3a"
             ],
             [
              0.8888888888888888,
              "#fdca26"
             ],
             [
              1,
              "#f0f921"
             ]
            ],
            "type": "surface"
           }
          ],
          "table": [
           {
            "cells": {
             "fill": {
              "color": "#EBF0F8"
             },
             "line": {
              "color": "white"
             }
            },
            "header": {
             "fill": {
              "color": "#C8D4E3"
             },
             "line": {
              "color": "white"
             }
            },
            "type": "table"
           }
          ]
         },
         "layout": {
          "annotationdefaults": {
           "arrowcolor": "#2a3f5f",
           "arrowhead": 0,
           "arrowwidth": 1
          },
          "colorscale": {
           "diverging": [
            [
             0,
             "#8e0152"
            ],
            [
             0.1,
             "#c51b7d"
            ],
            [
             0.2,
             "#de77ae"
            ],
            [
             0.3,
             "#f1b6da"
            ],
            [
             0.4,
             "#fde0ef"
            ],
            [
             0.5,
             "#f7f7f7"
            ],
            [
             0.6,
             "#e6f5d0"
            ],
            [
             0.7,
             "#b8e186"
            ],
            [
             0.8,
             "#7fbc41"
            ],
            [
             0.9,
             "#4d9221"
            ],
            [
             1,
             "#276419"
            ]
           ],
           "sequential": [
            [
             0,
             "#0d0887"
            ],
            [
             0.1111111111111111,
             "#46039f"
            ],
            [
             0.2222222222222222,
             "#7201a8"
            ],
            [
             0.3333333333333333,
             "#9c179e"
            ],
            [
             0.4444444444444444,
             "#bd3786"
            ],
            [
             0.5555555555555556,
             "#d8576b"
            ],
            [
             0.6666666666666666,
             "#ed7953"
            ],
            [
             0.7777777777777778,
             "#fb9f3a"
            ],
            [
             0.8888888888888888,
             "#fdca26"
            ],
            [
             1,
             "#f0f921"
            ]
           ],
           "sequentialminus": [
            [
             0,
             "#0d0887"
            ],
            [
             0.1111111111111111,
             "#46039f"
            ],
            [
             0.2222222222222222,
             "#7201a8"
            ],
            [
             0.3333333333333333,
             "#9c179e"
            ],
            [
             0.4444444444444444,
             "#bd3786"
            ],
            [
             0.5555555555555556,
             "#d8576b"
            ],
            [
             0.6666666666666666,
             "#ed7953"
            ],
            [
             0.7777777777777778,
             "#fb9f3a"
            ],
            [
             0.8888888888888888,
             "#fdca26"
            ],
            [
             1,
             "#f0f921"
            ]
           ]
          },
          "colorway": [
           "#636efa",
           "#EF553B",
           "#00cc96",
           "#ab63fa",
           "#FFA15A",
           "#19d3f3",
           "#FF6692",
           "#B6E880",
           "#FF97FF",
           "#FECB52"
          ],
          "font": {
           "color": "#2a3f5f"
          },
          "geo": {
           "bgcolor": "white",
           "lakecolor": "white",
           "landcolor": "#E5ECF6",
           "showlakes": true,
           "showland": true,
           "subunitcolor": "white"
          },
          "hoverlabel": {
           "align": "left"
          },
          "hovermode": "closest",
          "mapbox": {
           "style": "light"
          },
          "paper_bgcolor": "white",
          "plot_bgcolor": "#E5ECF6",
          "polar": {
           "angularaxis": {
            "gridcolor": "white",
            "linecolor": "white",
            "ticks": ""
           },
           "bgcolor": "#E5ECF6",
           "radialaxis": {
            "gridcolor": "white",
            "linecolor": "white",
            "ticks": ""
           }
          },
          "scene": {
           "xaxis": {
            "backgroundcolor": "#E5ECF6",
            "gridcolor": "white",
            "gridwidth": 2,
            "linecolor": "white",
            "showbackground": true,
            "ticks": "",
            "zerolinecolor": "white"
           },
           "yaxis": {
            "backgroundcolor": "#E5ECF6",
            "gridcolor": "white",
            "gridwidth": 2,
            "linecolor": "white",
            "showbackground": true,
            "ticks": "",
            "zerolinecolor": "white"
           },
           "zaxis": {
            "backgroundcolor": "#E5ECF6",
            "gridcolor": "white",
            "gridwidth": 2,
            "linecolor": "white",
            "showbackground": true,
            "ticks": "",
            "zerolinecolor": "white"
           }
          },
          "shapedefaults": {
           "line": {
            "color": "#2a3f5f"
           }
          },
          "ternary": {
           "aaxis": {
            "gridcolor": "white",
            "linecolor": "white",
            "ticks": ""
           },
           "baxis": {
            "gridcolor": "white",
            "linecolor": "white",
            "ticks": ""
           },
           "bgcolor": "#E5ECF6",
           "caxis": {
            "gridcolor": "white",
            "linecolor": "white",
            "ticks": ""
           }
          },
          "title": {
           "x": 0.05
          },
          "xaxis": {
           "automargin": true,
           "gridcolor": "white",
           "linecolor": "white",
           "ticks": "",
           "zerolinecolor": "white",
           "zerolinewidth": 2
          },
          "yaxis": {
           "automargin": true,
           "gridcolor": "white",
           "linecolor": "white",
           "ticks": "",
           "zerolinecolor": "white",
           "zerolinewidth": 2
          }
         }
        },
        "title": {
         "text": "Health Stressors to Bee Colonies Jan 2015 - Dec 2018"
        },
        "xaxis": {
         "title": {
          "text": "Quarter"
         }
        },
        "yaxis": {
         "title": {
          "text": "Percentage of Colonies Affected"
         }
        }
       }
      },
      "text/html": [
       "<div>\n",
       "        \n",
       "        \n",
       "            <div id=\"516875d3-f03f-4ccb-a704-cbb0f1d37d7d\" class=\"plotly-graph-div\" style=\"height:525px; width:100%;\"></div>\n",
       "            <script type=\"text/javascript\">\n",
       "                require([\"plotly\"], function(Plotly) {\n",
       "                    window.PLOTLYENV=window.PLOTLYENV || {};\n",
       "                    \n",
       "                if (document.getElementById(\"516875d3-f03f-4ccb-a704-cbb0f1d37d7d\")) {\n",
       "                    Plotly.newPlot(\n",
       "                        '516875d3-f03f-4ccb-a704-cbb0f1d37d7d',\n",
       "                        [{\"mode\": \"lines+markers\", \"name\": \"colonies lost\", \"type\": \"scatter\", \"x\": [\"2015Q1\", \"2015Q2\", \"2015Q3\", \"2015Q4\", \"2016Q1\", \"2016Q2\", \"2016Q3\", \"2016Q4\", \"2017Q1\", \"2017Q2\", \"2017Q3\", \"2017Q4\", \"2018Q1\", \"2018Q2\", \"2018Q3\", \"2018Q4\"], \"y\": [15.0, 10.0, 10.0, 12.0, 14.0, 9.0, 10.0, 15.0, 13.0, 9.0, 10.0, 13.0, 14.0, 9.0, 10.0, 14.0]}, {\"mode\": \"lines+markers\", \"name\": \"varroa mites\", \"type\": \"scatter\", \"x\": [\"2015Q1\", \"2015Q2\", \"2015Q3\", \"2015Q4\", \"2016Q1\", \"2016Q2\", \"2016Q3\", \"2016Q4\", \"2017Q1\", \"2017Q2\", \"2017Q3\", \"2017Q4\", \"2018Q1\", \"2018Q2\", \"2018Q3\", \"2018Q4\"], \"y\": [24.700000762939453, 50.900001525878906, 39.900001525878906, 37.29999923706055, 38.099998474121094, 49.70000076293945, 42.20000076293945, 41.900001525878906, 37.70000076293945, 38.0, 42.29999923706055, 47.900001525878906, 41.29999923706055, 41.5, 57.29999923706055, 44.099998474121094]}, {\"mode\": \"lines+markers\", \"name\": \"pesticides\", \"type\": \"scatter\", \"x\": [\"2015Q1\", \"2015Q2\", \"2015Q3\", \"2015Q4\", \"2016Q1\", \"2016Q2\", \"2016Q3\", \"2016Q4\", \"2017Q1\", \"2017Q2\", \"2017Q3\", \"2017Q4\", \"2018Q1\", \"2018Q2\", \"2018Q3\", \"2018Q4\"], \"y\": [7.5, 23.0, 19.600000381469727, 11.699999809265137, 13.5, 14.199999809265137, 18.799999237060547, 9.100000381469727, 9.199999809265137, 13.0, 13.399999618530273, 17.0, 11.5, 13.699999809265137, 17.799999237060547, 11.600000381469727]}, {\"mode\": \"lines+markers\", \"name\": \"other pests\", \"type\": \"scatter\", \"x\": [\"2015Q1\", \"2015Q2\", \"2015Q3\", \"2015Q4\", \"2016Q1\", \"2016Q2\", \"2016Q3\", \"2016Q4\", \"2017Q1\", \"2017Q2\", \"2017Q3\", \"2017Q4\", \"2018Q1\", \"2018Q2\", \"2018Q3\", \"2018Q4\"], \"y\": [7.199999809265137, 21.5, 20.399999618530273, 12.699999809265137, 15.199999809265137, 14.100000381469727, 17.799999237060547, 13.699999809265137, 12.600000381469727, 7.699999809265137, 15.800000190734863, 14.100000381469727, 11.300000190734863, 10.199999809265137, 6.599999904632568, 16.600000381469727]}, {\"mode\": \"lines+markers\", \"name\": \"diseases\", \"type\": \"scatter\", \"x\": [\"2015Q1\", \"2015Q2\", \"2015Q3\", \"2015Q4\", \"2016Q1\", \"2016Q2\", \"2016Q3\", \"2016Q4\", \"2017Q1\", \"2017Q2\", \"2017Q3\", \"2017Q4\", \"2018Q1\", \"2018Q2\", \"2018Q3\", \"2018Q4\"], \"y\": [3.0, 7.800000190734863, 12.5, 6.199999809265137, 9.0, 11.199999809265137, 8.5, 8.0, 7.5, 3.0999999046325684, 5.599999904632568, 7.400000095367432, 4.800000190734863, 11.100000381469727, 4.5, 9.800000190734863]}],\n",
       "                        {\"template\": {\"data\": {\"bar\": [{\"error_x\": {\"color\": \"#2a3f5f\"}, \"error_y\": {\"color\": \"#2a3f5f\"}, \"marker\": {\"line\": {\"color\": \"#E5ECF6\", \"width\": 0.5}}, \"type\": \"bar\"}], \"barpolar\": [{\"marker\": {\"line\": {\"color\": \"#E5ECF6\", \"width\": 0.5}}, \"type\": \"barpolar\"}], \"carpet\": [{\"aaxis\": {\"endlinecolor\": \"#2a3f5f\", \"gridcolor\": \"white\", \"linecolor\": \"white\", \"minorgridcolor\": \"white\", \"startlinecolor\": \"#2a3f5f\"}, \"baxis\": {\"endlinecolor\": \"#2a3f5f\", \"gridcolor\": \"white\", \"linecolor\": \"white\", \"minorgridcolor\": \"white\", \"startlinecolor\": \"#2a3f5f\"}, \"type\": \"carpet\"}], \"choropleth\": [{\"colorbar\": {\"outlinewidth\": 0, \"ticks\": \"\"}, \"type\": \"choropleth\"}], \"contour\": [{\"colorbar\": {\"outlinewidth\": 0, \"ticks\": \"\"}, \"colorscale\": [[0.0, \"#0d0887\"], [0.1111111111111111, \"#46039f\"], [0.2222222222222222, \"#7201a8\"], [0.3333333333333333, \"#9c179e\"], [0.4444444444444444, \"#bd3786\"], [0.5555555555555556, \"#d8576b\"], [0.6666666666666666, \"#ed7953\"], [0.7777777777777778, \"#fb9f3a\"], [0.8888888888888888, \"#fdca26\"], [1.0, \"#f0f921\"]], \"type\": \"contour\"}], \"contourcarpet\": [{\"colorbar\": {\"outlinewidth\": 0, \"ticks\": \"\"}, \"type\": \"contourcarpet\"}], \"heatmap\": [{\"colorbar\": {\"outlinewidth\": 0, \"ticks\": \"\"}, \"colorscale\": [[0.0, \"#0d0887\"], [0.1111111111111111, \"#46039f\"], [0.2222222222222222, \"#7201a8\"], [0.3333333333333333, \"#9c179e\"], [0.4444444444444444, \"#bd3786\"], [0.5555555555555556, \"#d8576b\"], [0.6666666666666666, \"#ed7953\"], [0.7777777777777778, \"#fb9f3a\"], [0.8888888888888888, \"#fdca26\"], [1.0, \"#f0f921\"]], \"type\": \"heatmap\"}], \"heatmapgl\": [{\"colorbar\": {\"outlinewidth\": 0, \"ticks\": \"\"}, \"colorscale\": [[0.0, \"#0d0887\"], [0.1111111111111111, \"#46039f\"], [0.2222222222222222, \"#7201a8\"], [0.3333333333333333, \"#9c179e\"], [0.4444444444444444, \"#bd3786\"], [0.5555555555555556, \"#d8576b\"], [0.6666666666666666, \"#ed7953\"], [0.7777777777777778, \"#fb9f3a\"], [0.8888888888888888, \"#fdca26\"], [1.0, \"#f0f921\"]], \"type\": \"heatmapgl\"}], \"histogram\": [{\"marker\": {\"colorbar\": {\"outlinewidth\": 0, \"ticks\": \"\"}}, \"type\": \"histogram\"}], \"histogram2d\": [{\"colorbar\": {\"outlinewidth\": 0, \"ticks\": \"\"}, \"colorscale\": [[0.0, \"#0d0887\"], [0.1111111111111111, \"#46039f\"], [0.2222222222222222, \"#7201a8\"], [0.3333333333333333, \"#9c179e\"], [0.4444444444444444, \"#bd3786\"], [0.5555555555555556, \"#d8576b\"], [0.6666666666666666, \"#ed7953\"], [0.7777777777777778, \"#fb9f3a\"], [0.8888888888888888, \"#fdca26\"], [1.0, \"#f0f921\"]], \"type\": \"histogram2d\"}], \"histogram2dcontour\": [{\"colorbar\": {\"outlinewidth\": 0, \"ticks\": \"\"}, \"colorscale\": [[0.0, \"#0d0887\"], [0.1111111111111111, \"#46039f\"], [0.2222222222222222, \"#7201a8\"], [0.3333333333333333, \"#9c179e\"], [0.4444444444444444, \"#bd3786\"], [0.5555555555555556, \"#d8576b\"], [0.6666666666666666, \"#ed7953\"], [0.7777777777777778, \"#fb9f3a\"], [0.8888888888888888, \"#fdca26\"], [1.0, \"#f0f921\"]], \"type\": \"histogram2dcontour\"}], \"mesh3d\": [{\"colorbar\": {\"outlinewidth\": 0, \"ticks\": \"\"}, \"type\": \"mesh3d\"}], \"parcoords\": [{\"line\": {\"colorbar\": {\"outlinewidth\": 0, \"ticks\": \"\"}}, \"type\": \"parcoords\"}], \"scatter\": [{\"marker\": {\"colorbar\": {\"outlinewidth\": 0, \"ticks\": \"\"}}, \"type\": \"scatter\"}], \"scatter3d\": [{\"line\": {\"colorbar\": {\"outlinewidth\": 0, \"ticks\": \"\"}}, \"marker\": {\"colorbar\": {\"outlinewidth\": 0, \"ticks\": \"\"}}, \"type\": \"scatter3d\"}], \"scattercarpet\": [{\"marker\": {\"colorbar\": {\"outlinewidth\": 0, \"ticks\": \"\"}}, \"type\": \"scattercarpet\"}], \"scattergeo\": [{\"marker\": {\"colorbar\": {\"outlinewidth\": 0, \"ticks\": \"\"}}, \"type\": \"scattergeo\"}], \"scattergl\": [{\"marker\": {\"colorbar\": {\"outlinewidth\": 0, \"ticks\": \"\"}}, \"type\": \"scattergl\"}], \"scattermapbox\": [{\"marker\": {\"colorbar\": {\"outlinewidth\": 0, \"ticks\": \"\"}}, \"type\": \"scattermapbox\"}], \"scatterpolar\": [{\"marker\": {\"colorbar\": {\"outlinewidth\": 0, \"ticks\": \"\"}}, \"type\": \"scatterpolar\"}], \"scatterpolargl\": [{\"marker\": {\"colorbar\": {\"outlinewidth\": 0, \"ticks\": \"\"}}, \"type\": \"scatterpolargl\"}], \"scatterternary\": [{\"marker\": {\"colorbar\": {\"outlinewidth\": 0, \"ticks\": \"\"}}, \"type\": \"scatterternary\"}], \"surface\": [{\"colorbar\": {\"outlinewidth\": 0, \"ticks\": \"\"}, \"colorscale\": [[0.0, \"#0d0887\"], [0.1111111111111111, \"#46039f\"], [0.2222222222222222, \"#7201a8\"], [0.3333333333333333, \"#9c179e\"], [0.4444444444444444, \"#bd3786\"], [0.5555555555555556, \"#d8576b\"], [0.6666666666666666, \"#ed7953\"], [0.7777777777777778, \"#fb9f3a\"], [0.8888888888888888, \"#fdca26\"], [1.0, \"#f0f921\"]], \"type\": \"surface\"}], \"table\": [{\"cells\": {\"fill\": {\"color\": \"#EBF0F8\"}, \"line\": {\"color\": \"white\"}}, \"header\": {\"fill\": {\"color\": \"#C8D4E3\"}, \"line\": {\"color\": \"white\"}}, \"type\": \"table\"}]}, \"layout\": {\"annotationdefaults\": {\"arrowcolor\": \"#2a3f5f\", \"arrowhead\": 0, \"arrowwidth\": 1}, \"colorscale\": {\"diverging\": [[0, \"#8e0152\"], [0.1, \"#c51b7d\"], [0.2, \"#de77ae\"], [0.3, \"#f1b6da\"], [0.4, \"#fde0ef\"], [0.5, \"#f7f7f7\"], [0.6, \"#e6f5d0\"], [0.7, \"#b8e186\"], [0.8, \"#7fbc41\"], [0.9, \"#4d9221\"], [1, \"#276419\"]], \"sequential\": [[0.0, \"#0d0887\"], [0.1111111111111111, \"#46039f\"], [0.2222222222222222, \"#7201a8\"], [0.3333333333333333, \"#9c179e\"], [0.4444444444444444, \"#bd3786\"], [0.5555555555555556, \"#d8576b\"], [0.6666666666666666, \"#ed7953\"], [0.7777777777777778, \"#fb9f3a\"], [0.8888888888888888, \"#fdca26\"], [1.0, \"#f0f921\"]], \"sequentialminus\": [[0.0, \"#0d0887\"], [0.1111111111111111, \"#46039f\"], [0.2222222222222222, \"#7201a8\"], [0.3333333333333333, \"#9c179e\"], [0.4444444444444444, \"#bd3786\"], [0.5555555555555556, \"#d8576b\"], [0.6666666666666666, \"#ed7953\"], [0.7777777777777778, \"#fb9f3a\"], [0.8888888888888888, \"#fdca26\"], [1.0, \"#f0f921\"]]}, \"colorway\": [\"#636efa\", \"#EF553B\", \"#00cc96\", \"#ab63fa\", \"#FFA15A\", \"#19d3f3\", \"#FF6692\", \"#B6E880\", \"#FF97FF\", \"#FECB52\"], \"font\": {\"color\": \"#2a3f5f\"}, \"geo\": {\"bgcolor\": \"white\", \"lakecolor\": \"white\", \"landcolor\": \"#E5ECF6\", \"showlakes\": true, \"showland\": true, \"subunitcolor\": \"white\"}, \"hoverlabel\": {\"align\": \"left\"}, \"hovermode\": \"closest\", \"mapbox\": {\"style\": \"light\"}, \"paper_bgcolor\": \"white\", \"plot_bgcolor\": \"#E5ECF6\", \"polar\": {\"angularaxis\": {\"gridcolor\": \"white\", \"linecolor\": \"white\", \"ticks\": \"\"}, \"bgcolor\": \"#E5ECF6\", \"radialaxis\": {\"gridcolor\": \"white\", \"linecolor\": \"white\", \"ticks\": \"\"}}, \"scene\": {\"xaxis\": {\"backgroundcolor\": \"#E5ECF6\", \"gridcolor\": \"white\", \"gridwidth\": 2, \"linecolor\": \"white\", \"showbackground\": true, \"ticks\": \"\", \"zerolinecolor\": \"white\"}, \"yaxis\": {\"backgroundcolor\": \"#E5ECF6\", \"gridcolor\": \"white\", \"gridwidth\": 2, \"linecolor\": \"white\", \"showbackground\": true, \"ticks\": \"\", \"zerolinecolor\": \"white\"}, \"zaxis\": {\"backgroundcolor\": \"#E5ECF6\", \"gridcolor\": \"white\", \"gridwidth\": 2, \"linecolor\": \"white\", \"showbackground\": true, \"ticks\": \"\", \"zerolinecolor\": \"white\"}}, \"shapedefaults\": {\"line\": {\"color\": \"#2a3f5f\"}}, \"ternary\": {\"aaxis\": {\"gridcolor\": \"white\", \"linecolor\": \"white\", \"ticks\": \"\"}, \"baxis\": {\"gridcolor\": \"white\", \"linecolor\": \"white\", \"ticks\": \"\"}, \"bgcolor\": \"#E5ECF6\", \"caxis\": {\"gridcolor\": \"white\", \"linecolor\": \"white\", \"ticks\": \"\"}}, \"title\": {\"x\": 0.05}, \"xaxis\": {\"automargin\": true, \"gridcolor\": \"white\", \"linecolor\": \"white\", \"ticks\": \"\", \"zerolinecolor\": \"white\", \"zerolinewidth\": 2}, \"yaxis\": {\"automargin\": true, \"gridcolor\": \"white\", \"linecolor\": \"white\", \"ticks\": \"\", \"zerolinecolor\": \"white\", \"zerolinewidth\": 2}}}, \"title\": {\"text\": \"Health Stressors to Bee Colonies Jan 2015 - Dec 2018\"}, \"xaxis\": {\"title\": {\"text\": \"Quarter\"}}, \"yaxis\": {\"title\": {\"text\": \"Percentage of Colonies Affected\"}}},\n",
       "                        {\"responsive\": true}\n",
       "                    ).then(function(){\n",
       "                            \n",
       "var gd = document.getElementById('516875d3-f03f-4ccb-a704-cbb0f1d37d7d');\n",
       "var x = new MutationObserver(function (mutations, observer) {{\n",
       "        var display = window.getComputedStyle(gd).display;\n",
       "        if (!display || display === 'none') {{\n",
       "            console.log([gd, 'removed!']);\n",
       "            Plotly.purge(gd);\n",
       "            observer.disconnect();\n",
       "        }}\n",
       "}});\n",
       "\n",
       "// Listen for the removal of the full notebook cells\n",
       "var notebookContainer = gd.closest('#notebook-container');\n",
       "if (notebookContainer) {{\n",
       "    x.observe(notebookContainer, {childList: true});\n",
       "}}\n",
       "\n",
       "// Listen for the clearing of the current output cell\n",
       "var outputEl = gd.closest('.output');\n",
       "if (outputEl) {{\n",
       "    x.observe(outputEl, {childList: true});\n",
       "}}\n",
       "\n",
       "                        })\n",
       "                };\n",
       "                });\n",
       "            </script>\n",
       "        </div>"
      ]
     },
     "metadata": {},
     "output_type": "display_data"
    }
   ],
   "source": [
    "# Create traces\n",
    "fig = go.Figure()\n",
    "fig.add_trace(go.Scatter(x=ca_df.period, y=ca_df.lost_perc,\n",
    "                    mode='lines+markers',\n",
    "                    name='colonies lost'))\n",
    "fig.add_trace(go.Scatter(x=ca_df.period, y=ca_df.varroa_mites,\n",
    "                    mode='lines+markers',\n",
    "                    name='varroa mites'))\n",
    "fig.add_trace(go.Scatter(x=ca_df.period, y=ca_df.pesticides,\n",
    "                    mode='lines+markers', name='pesticides'))\n",
    "\n",
    "fig.add_trace(go.Scatter(x=ca_df.period, y=ca_df.other_pests,\n",
    "                    mode='lines+markers', name='other pests'))\n",
    "\n",
    "fig.add_trace(go.Scatter(x=ca_df.period, y=ca_df.diseases,\n",
    "                    mode='lines+markers', name='diseases'))\n",
    "\n",
    "fig.update_layout(title='Health Stressors to Bee Colonies Jan 2015 - Dec 2018',\n",
    "                   xaxis_title='Quarter',\n",
    "                   yaxis_title='Percentage of Colonies Affected')\n",
    "\n",
    "\n",
    "fig.show()"
   ]
  },
  {
   "cell_type": "code",
   "execution_count": 39,
   "metadata": {},
   "outputs": [],
   "source": [
    "mymap = generate_map_object2(colony_data, '2015Q1', 'varroa_mites')"
   ]
  },
  {
   "cell_type": "code",
   "execution_count": 40,
   "metadata": {},
   "outputs": [
    {
     "data": {
      "application/vnd.plotly.v1+json": {
       "config": {
        "plotlyServerURL": "https://plot.ly"
       },
       "data": [
        {
         "autocolorscale": false,
         "colorbar": {
          "title": {
           "text": "Density"
          }
         },
         "colorscale": [
          [
           0,
           "rgb(255,245,240)"
          ],
          [
           0.125,
           "rgb(254,224,210)"
          ],
          [
           0.25,
           "rgb(252,187,161)"
          ],
          [
           0.375,
           "rgb(252,146,114)"
          ],
          [
           0.5,
           "rgb(251,106,74)"
          ],
          [
           0.625,
           "rgb(239,59,44)"
          ],
          [
           0.75,
           "rgb(203,24,29)"
          ],
          [
           0.875,
           "rgb(165,15,21)"
          ],
          [
           1,
           "rgb(103,0,13)"
          ]
         ],
         "locationmode": "USA-states",
         "locations": [
          "AL",
          "AZ",
          "AR",
          "CA",
          "CO",
          "CT",
          "FL",
          "GA",
          "HI",
          "ID",
          "IL",
          "IN",
          "IA",
          "KS",
          "KY",
          "LA",
          "ME",
          "MD",
          "MA",
          "MI",
          "MN",
          "MS",
          "MO",
          "MT",
          "NE",
          "NJ",
          "NM",
          "NY",
          "NC",
          "ND",
          "OH",
          "OK",
          "OR",
          "PA",
          "SC",
          "SD",
          "TN",
          "TX",
          "UT",
          "VT",
          "VA",
          "WA",
          "WV",
          "WI"
         ],
         "marker": {
          "line": {
           "color": "white"
          }
         },
         "type": "choropleth",
         "z": [
          10,
          26.899999618530273,
          17.600000381469727,
          24.700000762939453,
          14.600000381469727,
          2.5,
          22.299999237060547,
          6.199999809265137,
          38.79999923706055,
          39.79999923706055,
          12.300000190734863,
          20.700000762939453,
          26,
          32.70000076293945,
          10.800000190734863,
          17.200000762939453,
          4.400000095367432,
          10.100000381469727,
          23.5,
          14.300000190734863,
          1.399999976158142,
          9.399999618530273,
          13.100000381469727,
          8.699999809265137,
          5.900000095367432,
          40.099998474121094,
          17.100000381469727,
          7.599999904632568,
          35.5,
          1.7000000476837158,
          10.699999809265137,
          14.5,
          20.200000762939453,
          28.100000381469727,
          10.5,
          1.2000000476837158,
          22.200000762939453,
          21.5,
          13.600000381469727,
          2.299999952316284,
          19,
          21.5,
          18,
          18.799999237060547
         ]
        }
       ],
       "layout": {
        "geo": {
         "lakecolor": "rgb(255, 255, 255)",
         "projection": {
          "type": "albers usa"
         },
         "scope": "usa",
         "showlakes": true
        },
        "template": {
         "data": {
          "bar": [
           {
            "error_x": {
             "color": "#2a3f5f"
            },
            "error_y": {
             "color": "#2a3f5f"
            },
            "marker": {
             "line": {
              "color": "#E5ECF6",
              "width": 0.5
             }
            },
            "type": "bar"
           }
          ],
          "barpolar": [
           {
            "marker": {
             "line": {
              "color": "#E5ECF6",
              "width": 0.5
             }
            },
            "type": "barpolar"
           }
          ],
          "carpet": [
           {
            "aaxis": {
             "endlinecolor": "#2a3f5f",
             "gridcolor": "white",
             "linecolor": "white",
             "minorgridcolor": "white",
             "startlinecolor": "#2a3f5f"
            },
            "baxis": {
             "endlinecolor": "#2a3f5f",
             "gridcolor": "white",
             "linecolor": "white",
             "minorgridcolor": "white",
             "startlinecolor": "#2a3f5f"
            },
            "type": "carpet"
           }
          ],
          "choropleth": [
           {
            "colorbar": {
             "outlinewidth": 0,
             "ticks": ""
            },
            "type": "choropleth"
           }
          ],
          "contour": [
           {
            "colorbar": {
             "outlinewidth": 0,
             "ticks": ""
            },
            "colorscale": [
             [
              0,
              "#0d0887"
             ],
             [
              0.1111111111111111,
              "#46039f"
             ],
             [
              0.2222222222222222,
              "#7201a8"
             ],
             [
              0.3333333333333333,
              "#9c179e"
             ],
             [
              0.4444444444444444,
              "#bd3786"
             ],
             [
              0.5555555555555556,
              "#d8576b"
             ],
             [
              0.6666666666666666,
              "#ed7953"
             ],
             [
              0.7777777777777778,
              "#fb9f3a"
             ],
             [
              0.8888888888888888,
              "#fdca26"
             ],
             [
              1,
              "#f0f921"
             ]
            ],
            "type": "contour"
           }
          ],
          "contourcarpet": [
           {
            "colorbar": {
             "outlinewidth": 0,
             "ticks": ""
            },
            "type": "contourcarpet"
           }
          ],
          "heatmap": [
           {
            "colorbar": {
             "outlinewidth": 0,
             "ticks": ""
            },
            "colorscale": [
             [
              0,
              "#0d0887"
             ],
             [
              0.1111111111111111,
              "#46039f"
             ],
             [
              0.2222222222222222,
              "#7201a8"
             ],
             [
              0.3333333333333333,
              "#9c179e"
             ],
             [
              0.4444444444444444,
              "#bd3786"
             ],
             [
              0.5555555555555556,
              "#d8576b"
             ],
             [
              0.6666666666666666,
              "#ed7953"
             ],
             [
              0.7777777777777778,
              "#fb9f3a"
             ],
             [
              0.8888888888888888,
              "#fdca26"
             ],
             [
              1,
              "#f0f921"
             ]
            ],
            "type": "heatmap"
           }
          ],
          "heatmapgl": [
           {
            "colorbar": {
             "outlinewidth": 0,
             "ticks": ""
            },
            "colorscale": [
             [
              0,
              "#0d0887"
             ],
             [
              0.1111111111111111,
              "#46039f"
             ],
             [
              0.2222222222222222,
              "#7201a8"
             ],
             [
              0.3333333333333333,
              "#9c179e"
             ],
             [
              0.4444444444444444,
              "#bd3786"
             ],
             [
              0.5555555555555556,
              "#d8576b"
             ],
             [
              0.6666666666666666,
              "#ed7953"
             ],
             [
              0.7777777777777778,
              "#fb9f3a"
             ],
             [
              0.8888888888888888,
              "#fdca26"
             ],
             [
              1,
              "#f0f921"
             ]
            ],
            "type": "heatmapgl"
           }
          ],
          "histogram": [
           {
            "marker": {
             "colorbar": {
              "outlinewidth": 0,
              "ticks": ""
             }
            },
            "type": "histogram"
           }
          ],
          "histogram2d": [
           {
            "colorbar": {
             "outlinewidth": 0,
             "ticks": ""
            },
            "colorscale": [
             [
              0,
              "#0d0887"
             ],
             [
              0.1111111111111111,
              "#46039f"
             ],
             [
              0.2222222222222222,
              "#7201a8"
             ],
             [
              0.3333333333333333,
              "#9c179e"
             ],
             [
              0.4444444444444444,
              "#bd3786"
             ],
             [
              0.5555555555555556,
              "#d8576b"
             ],
             [
              0.6666666666666666,
              "#ed7953"
             ],
             [
              0.7777777777777778,
              "#fb9f3a"
             ],
             [
              0.8888888888888888,
              "#fdca26"
             ],
             [
              1,
              "#f0f921"
             ]
            ],
            "type": "histogram2d"
           }
          ],
          "histogram2dcontour": [
           {
            "colorbar": {
             "outlinewidth": 0,
             "ticks": ""
            },
            "colorscale": [
             [
              0,
              "#0d0887"
             ],
             [
              0.1111111111111111,
              "#46039f"
             ],
             [
              0.2222222222222222,
              "#7201a8"
             ],
             [
              0.3333333333333333,
              "#9c179e"
             ],
             [
              0.4444444444444444,
              "#bd3786"
             ],
             [
              0.5555555555555556,
              "#d8576b"
             ],
             [
              0.6666666666666666,
              "#ed7953"
             ],
             [
              0.7777777777777778,
              "#fb9f3a"
             ],
             [
              0.8888888888888888,
              "#fdca26"
             ],
             [
              1,
              "#f0f921"
             ]
            ],
            "type": "histogram2dcontour"
           }
          ],
          "mesh3d": [
           {
            "colorbar": {
             "outlinewidth": 0,
             "ticks": ""
            },
            "type": "mesh3d"
           }
          ],
          "parcoords": [
           {
            "line": {
             "colorbar": {
              "outlinewidth": 0,
              "ticks": ""
             }
            },
            "type": "parcoords"
           }
          ],
          "scatter": [
           {
            "marker": {
             "colorbar": {
              "outlinewidth": 0,
              "ticks": ""
             }
            },
            "type": "scatter"
           }
          ],
          "scatter3d": [
           {
            "line": {
             "colorbar": {
              "outlinewidth": 0,
              "ticks": ""
             }
            },
            "marker": {
             "colorbar": {
              "outlinewidth": 0,
              "ticks": ""
             }
            },
            "type": "scatter3d"
           }
          ],
          "scattercarpet": [
           {
            "marker": {
             "colorbar": {
              "outlinewidth": 0,
              "ticks": ""
             }
            },
            "type": "scattercarpet"
           }
          ],
          "scattergeo": [
           {
            "marker": {
             "colorbar": {
              "outlinewidth": 0,
              "ticks": ""
             }
            },
            "type": "scattergeo"
           }
          ],
          "scattergl": [
           {
            "marker": {
             "colorbar": {
              "outlinewidth": 0,
              "ticks": ""
             }
            },
            "type": "scattergl"
           }
          ],
          "scattermapbox": [
           {
            "marker": {
             "colorbar": {
              "outlinewidth": 0,
              "ticks": ""
             }
            },
            "type": "scattermapbox"
           }
          ],
          "scatterpolar": [
           {
            "marker": {
             "colorbar": {
              "outlinewidth": 0,
              "ticks": ""
             }
            },
            "type": "scatterpolar"
           }
          ],
          "scatterpolargl": [
           {
            "marker": {
             "colorbar": {
              "outlinewidth": 0,
              "ticks": ""
             }
            },
            "type": "scatterpolargl"
           }
          ],
          "scatterternary": [
           {
            "marker": {
             "colorbar": {
              "outlinewidth": 0,
              "ticks": ""
             }
            },
            "type": "scatterternary"
           }
          ],
          "surface": [
           {
            "colorbar": {
             "outlinewidth": 0,
             "ticks": ""
            },
            "colorscale": [
             [
              0,
              "#0d0887"
             ],
             [
              0.1111111111111111,
              "#46039f"
             ],
             [
              0.2222222222222222,
              "#7201a8"
             ],
             [
              0.3333333333333333,
              "#9c179e"
             ],
             [
              0.4444444444444444,
              "#bd3786"
             ],
             [
              0.5555555555555556,
              "#d8576b"
             ],
             [
              0.6666666666666666,
              "#ed7953"
             ],
             [
              0.7777777777777778,
              "#fb9f3a"
             ],
             [
              0.8888888888888888,
              "#fdca26"
             ],
             [
              1,
              "#f0f921"
             ]
            ],
            "type": "surface"
           }
          ],
          "table": [
           {
            "cells": {
             "fill": {
              "color": "#EBF0F8"
             },
             "line": {
              "color": "white"
             }
            },
            "header": {
             "fill": {
              "color": "#C8D4E3"
             },
             "line": {
              "color": "white"
             }
            },
            "type": "table"
           }
          ]
         },
         "layout": {
          "annotationdefaults": {
           "arrowcolor": "#2a3f5f",
           "arrowhead": 0,
           "arrowwidth": 1
          },
          "colorscale": {
           "diverging": [
            [
             0,
             "#8e0152"
            ],
            [
             0.1,
             "#c51b7d"
            ],
            [
             0.2,
             "#de77ae"
            ],
            [
             0.3,
             "#f1b6da"
            ],
            [
             0.4,
             "#fde0ef"
            ],
            [
             0.5,
             "#f7f7f7"
            ],
            [
             0.6,
             "#e6f5d0"
            ],
            [
             0.7,
             "#b8e186"
            ],
            [
             0.8,
             "#7fbc41"
            ],
            [
             0.9,
             "#4d9221"
            ],
            [
             1,
             "#276419"
            ]
           ],
           "sequential": [
            [
             0,
             "#0d0887"
            ],
            [
             0.1111111111111111,
             "#46039f"
            ],
            [
             0.2222222222222222,
             "#7201a8"
            ],
            [
             0.3333333333333333,
             "#9c179e"
            ],
            [
             0.4444444444444444,
             "#bd3786"
            ],
            [
             0.5555555555555556,
             "#d8576b"
            ],
            [
             0.6666666666666666,
             "#ed7953"
            ],
            [
             0.7777777777777778,
             "#fb9f3a"
            ],
            [
             0.8888888888888888,
             "#fdca26"
            ],
            [
             1,
             "#f0f921"
            ]
           ],
           "sequentialminus": [
            [
             0,
             "#0d0887"
            ],
            [
             0.1111111111111111,
             "#46039f"
            ],
            [
             0.2222222222222222,
             "#7201a8"
            ],
            [
             0.3333333333333333,
             "#9c179e"
            ],
            [
             0.4444444444444444,
             "#bd3786"
            ],
            [
             0.5555555555555556,
             "#d8576b"
            ],
            [
             0.6666666666666666,
             "#ed7953"
            ],
            [
             0.7777777777777778,
             "#fb9f3a"
            ],
            [
             0.8888888888888888,
             "#fdca26"
            ],
            [
             1,
             "#f0f921"
            ]
           ]
          },
          "colorway": [
           "#636efa",
           "#EF553B",
           "#00cc96",
           "#ab63fa",
           "#FFA15A",
           "#19d3f3",
           "#FF6692",
           "#B6E880",
           "#FF97FF",
           "#FECB52"
          ],
          "font": {
           "color": "#2a3f5f"
          },
          "geo": {
           "bgcolor": "white",
           "lakecolor": "white",
           "landcolor": "#E5ECF6",
           "showlakes": true,
           "showland": true,
           "subunitcolor": "white"
          },
          "hoverlabel": {
           "align": "left"
          },
          "hovermode": "closest",
          "mapbox": {
           "style": "light"
          },
          "paper_bgcolor": "white",
          "plot_bgcolor": "#E5ECF6",
          "polar": {
           "angularaxis": {
            "gridcolor": "white",
            "linecolor": "white",
            "ticks": ""
           },
           "bgcolor": "#E5ECF6",
           "radialaxis": {
            "gridcolor": "white",
            "linecolor": "white",
            "ticks": ""
           }
          },
          "scene": {
           "xaxis": {
            "backgroundcolor": "#E5ECF6",
            "gridcolor": "white",
            "gridwidth": 2,
            "linecolor": "white",
            "showbackground": true,
            "ticks": "",
            "zerolinecolor": "white"
           },
           "yaxis": {
            "backgroundcolor": "#E5ECF6",
            "gridcolor": "white",
            "gridwidth": 2,
            "linecolor": "white",
            "showbackground": true,
            "ticks": "",
            "zerolinecolor": "white"
           },
           "zaxis": {
            "backgroundcolor": "#E5ECF6",
            "gridcolor": "white",
            "gridwidth": 2,
            "linecolor": "white",
            "showbackground": true,
            "ticks": "",
            "zerolinecolor": "white"
           }
          },
          "shapedefaults": {
           "line": {
            "color": "#2a3f5f"
           }
          },
          "ternary": {
           "aaxis": {
            "gridcolor": "white",
            "linecolor": "white",
            "ticks": ""
           },
           "baxis": {
            "gridcolor": "white",
            "linecolor": "white",
            "ticks": ""
           },
           "bgcolor": "#E5ECF6",
           "caxis": {
            "gridcolor": "white",
            "linecolor": "white",
            "ticks": ""
           }
          },
          "title": {
           "x": 0.05
          },
          "xaxis": {
           "automargin": true,
           "gridcolor": "white",
           "linecolor": "white",
           "ticks": "",
           "zerolinecolor": "white",
           "zerolinewidth": 2
          },
          "yaxis": {
           "automargin": true,
           "gridcolor": "white",
           "linecolor": "white",
           "ticks": "",
           "zerolinecolor": "white",
           "zerolinewidth": 2
          }
         }
        },
        "title": {
         "text": "2015Q1 varroa_mites Stressor<br>(Hover for breakdown)"
        }
       }
      },
      "text/html": [
       "<div>\n",
       "        \n",
       "        \n",
       "            <div id=\"e8cc270c-68a2-40fc-8f51-981aa4810e7d\" class=\"plotly-graph-div\" style=\"height:525px; width:100%;\"></div>\n",
       "            <script type=\"text/javascript\">\n",
       "                require([\"plotly\"], function(Plotly) {\n",
       "                    window.PLOTLYENV=window.PLOTLYENV || {};\n",
       "                    \n",
       "                if (document.getElementById(\"e8cc270c-68a2-40fc-8f51-981aa4810e7d\")) {\n",
       "                    Plotly.newPlot(\n",
       "                        'e8cc270c-68a2-40fc-8f51-981aa4810e7d',\n",
       "                        [{\"autocolorscale\": false, \"colorbar\": {\"title\": {\"text\": \"Density\"}}, \"colorscale\": [[0.0, \"rgb(255,245,240)\"], [0.125, \"rgb(254,224,210)\"], [0.25, \"rgb(252,187,161)\"], [0.375, \"rgb(252,146,114)\"], [0.5, \"rgb(251,106,74)\"], [0.625, \"rgb(239,59,44)\"], [0.75, \"rgb(203,24,29)\"], [0.875, \"rgb(165,15,21)\"], [1.0, \"rgb(103,0,13)\"]], \"locationmode\": \"USA-states\", \"locations\": [\"AL\", \"AZ\", \"AR\", \"CA\", \"CO\", \"CT\", \"FL\", \"GA\", \"HI\", \"ID\", \"IL\", \"IN\", \"IA\", \"KS\", \"KY\", \"LA\", \"ME\", \"MD\", \"MA\", \"MI\", \"MN\", \"MS\", \"MO\", \"MT\", \"NE\", \"NJ\", \"NM\", \"NY\", \"NC\", \"ND\", \"OH\", \"OK\", \"OR\", \"PA\", \"SC\", \"SD\", \"TN\", \"TX\", \"UT\", \"VT\", \"VA\", \"WA\", \"WV\", \"WI\"], \"marker\": {\"line\": {\"color\": \"white\"}}, \"type\": \"choropleth\", \"z\": [10.0, 26.899999618530273, 17.600000381469727, 24.700000762939453, 14.600000381469727, 2.5, 22.299999237060547, 6.199999809265137, 38.79999923706055, 39.79999923706055, 12.300000190734863, 20.700000762939453, 26.0, 32.70000076293945, 10.800000190734863, 17.200000762939453, 4.400000095367432, 10.100000381469727, 23.5, 14.300000190734863, 1.399999976158142, 9.399999618530273, 13.100000381469727, 8.699999809265137, 5.900000095367432, 40.099998474121094, 17.100000381469727, 7.599999904632568, 35.5, 1.7000000476837158, 10.699999809265137, 14.5, 20.200000762939453, 28.100000381469727, 10.5, 1.2000000476837158, 22.200000762939453, 21.5, 13.600000381469727, 2.299999952316284, 19.0, 21.5, 18.0, 18.799999237060547]}],\n",
       "                        {\"geo\": {\"lakecolor\": \"rgb(255, 255, 255)\", \"projection\": {\"type\": \"albers usa\"}, \"scope\": \"usa\", \"showlakes\": true}, \"template\": {\"data\": {\"bar\": [{\"error_x\": {\"color\": \"#2a3f5f\"}, \"error_y\": {\"color\": \"#2a3f5f\"}, \"marker\": {\"line\": {\"color\": \"#E5ECF6\", \"width\": 0.5}}, \"type\": \"bar\"}], \"barpolar\": [{\"marker\": {\"line\": {\"color\": \"#E5ECF6\", \"width\": 0.5}}, \"type\": \"barpolar\"}], \"carpet\": [{\"aaxis\": {\"endlinecolor\": \"#2a3f5f\", \"gridcolor\": \"white\", \"linecolor\": \"white\", \"minorgridcolor\": \"white\", \"startlinecolor\": \"#2a3f5f\"}, \"baxis\": {\"endlinecolor\": \"#2a3f5f\", \"gridcolor\": \"white\", \"linecolor\": \"white\", \"minorgridcolor\": \"white\", \"startlinecolor\": \"#2a3f5f\"}, \"type\": \"carpet\"}], \"choropleth\": [{\"colorbar\": {\"outlinewidth\": 0, \"ticks\": \"\"}, \"type\": \"choropleth\"}], \"contour\": [{\"colorbar\": {\"outlinewidth\": 0, \"ticks\": \"\"}, \"colorscale\": [[0.0, \"#0d0887\"], [0.1111111111111111, \"#46039f\"], [0.2222222222222222, \"#7201a8\"], [0.3333333333333333, \"#9c179e\"], [0.4444444444444444, \"#bd3786\"], [0.5555555555555556, \"#d8576b\"], [0.6666666666666666, \"#ed7953\"], [0.7777777777777778, \"#fb9f3a\"], [0.8888888888888888, \"#fdca26\"], [1.0, \"#f0f921\"]], \"type\": \"contour\"}], \"contourcarpet\": [{\"colorbar\": {\"outlinewidth\": 0, \"ticks\": \"\"}, \"type\": \"contourcarpet\"}], \"heatmap\": [{\"colorbar\": {\"outlinewidth\": 0, \"ticks\": \"\"}, \"colorscale\": [[0.0, \"#0d0887\"], [0.1111111111111111, \"#46039f\"], [0.2222222222222222, \"#7201a8\"], [0.3333333333333333, \"#9c179e\"], [0.4444444444444444, \"#bd3786\"], [0.5555555555555556, \"#d8576b\"], [0.6666666666666666, \"#ed7953\"], [0.7777777777777778, \"#fb9f3a\"], [0.8888888888888888, \"#fdca26\"], [1.0, \"#f0f921\"]], \"type\": \"heatmap\"}], \"heatmapgl\": [{\"colorbar\": {\"outlinewidth\": 0, \"ticks\": \"\"}, \"colorscale\": [[0.0, \"#0d0887\"], [0.1111111111111111, \"#46039f\"], [0.2222222222222222, \"#7201a8\"], [0.3333333333333333, \"#9c179e\"], [0.4444444444444444, \"#bd3786\"], [0.5555555555555556, \"#d8576b\"], [0.6666666666666666, \"#ed7953\"], [0.7777777777777778, \"#fb9f3a\"], [0.8888888888888888, \"#fdca26\"], [1.0, \"#f0f921\"]], \"type\": \"heatmapgl\"}], \"histogram\": [{\"marker\": {\"colorbar\": {\"outlinewidth\": 0, \"ticks\": \"\"}}, \"type\": \"histogram\"}], \"histogram2d\": [{\"colorbar\": {\"outlinewidth\": 0, \"ticks\": \"\"}, \"colorscale\": [[0.0, \"#0d0887\"], [0.1111111111111111, \"#46039f\"], [0.2222222222222222, \"#7201a8\"], [0.3333333333333333, \"#9c179e\"], [0.4444444444444444, \"#bd3786\"], [0.5555555555555556, \"#d8576b\"], [0.6666666666666666, \"#ed7953\"], [0.7777777777777778, \"#fb9f3a\"], [0.8888888888888888, \"#fdca26\"], [1.0, \"#f0f921\"]], \"type\": \"histogram2d\"}], \"histogram2dcontour\": [{\"colorbar\": {\"outlinewidth\": 0, \"ticks\": \"\"}, \"colorscale\": [[0.0, \"#0d0887\"], [0.1111111111111111, \"#46039f\"], [0.2222222222222222, \"#7201a8\"], [0.3333333333333333, \"#9c179e\"], [0.4444444444444444, \"#bd3786\"], [0.5555555555555556, \"#d8576b\"], [0.6666666666666666, \"#ed7953\"], [0.7777777777777778, \"#fb9f3a\"], [0.8888888888888888, \"#fdca26\"], [1.0, \"#f0f921\"]], \"type\": \"histogram2dcontour\"}], \"mesh3d\": [{\"colorbar\": {\"outlinewidth\": 0, \"ticks\": \"\"}, \"type\": \"mesh3d\"}], \"parcoords\": [{\"line\": {\"colorbar\": {\"outlinewidth\": 0, \"ticks\": \"\"}}, \"type\": \"parcoords\"}], \"scatter\": [{\"marker\": {\"colorbar\": {\"outlinewidth\": 0, \"ticks\": \"\"}}, \"type\": \"scatter\"}], \"scatter3d\": [{\"line\": {\"colorbar\": {\"outlinewidth\": 0, \"ticks\": \"\"}}, \"marker\": {\"colorbar\": {\"outlinewidth\": 0, \"ticks\": \"\"}}, \"type\": \"scatter3d\"}], \"scattercarpet\": [{\"marker\": {\"colorbar\": {\"outlinewidth\": 0, \"ticks\": \"\"}}, \"type\": \"scattercarpet\"}], \"scattergeo\": [{\"marker\": {\"colorbar\": {\"outlinewidth\": 0, \"ticks\": \"\"}}, \"type\": \"scattergeo\"}], \"scattergl\": [{\"marker\": {\"colorbar\": {\"outlinewidth\": 0, \"ticks\": \"\"}}, \"type\": \"scattergl\"}], \"scattermapbox\": [{\"marker\": {\"colorbar\": {\"outlinewidth\": 0, \"ticks\": \"\"}}, \"type\": \"scattermapbox\"}], \"scatterpolar\": [{\"marker\": {\"colorbar\": {\"outlinewidth\": 0, \"ticks\": \"\"}}, \"type\": \"scatterpolar\"}], \"scatterpolargl\": [{\"marker\": {\"colorbar\": {\"outlinewidth\": 0, \"ticks\": \"\"}}, \"type\": \"scatterpolargl\"}], \"scatterternary\": [{\"marker\": {\"colorbar\": {\"outlinewidth\": 0, \"ticks\": \"\"}}, \"type\": \"scatterternary\"}], \"surface\": [{\"colorbar\": {\"outlinewidth\": 0, \"ticks\": \"\"}, \"colorscale\": [[0.0, \"#0d0887\"], [0.1111111111111111, \"#46039f\"], [0.2222222222222222, \"#7201a8\"], [0.3333333333333333, \"#9c179e\"], [0.4444444444444444, \"#bd3786\"], [0.5555555555555556, \"#d8576b\"], [0.6666666666666666, \"#ed7953\"], [0.7777777777777778, \"#fb9f3a\"], [0.8888888888888888, \"#fdca26\"], [1.0, \"#f0f921\"]], \"type\": \"surface\"}], \"table\": [{\"cells\": {\"fill\": {\"color\": \"#EBF0F8\"}, \"line\": {\"color\": \"white\"}}, \"header\": {\"fill\": {\"color\": \"#C8D4E3\"}, \"line\": {\"color\": \"white\"}}, \"type\": \"table\"}]}, \"layout\": {\"annotationdefaults\": {\"arrowcolor\": \"#2a3f5f\", \"arrowhead\": 0, \"arrowwidth\": 1}, \"colorscale\": {\"diverging\": [[0, \"#8e0152\"], [0.1, \"#c51b7d\"], [0.2, \"#de77ae\"], [0.3, \"#f1b6da\"], [0.4, \"#fde0ef\"], [0.5, \"#f7f7f7\"], [0.6, \"#e6f5d0\"], [0.7, \"#b8e186\"], [0.8, \"#7fbc41\"], [0.9, \"#4d9221\"], [1, \"#276419\"]], \"sequential\": [[0.0, \"#0d0887\"], [0.1111111111111111, \"#46039f\"], [0.2222222222222222, \"#7201a8\"], [0.3333333333333333, \"#9c179e\"], [0.4444444444444444, \"#bd3786\"], [0.5555555555555556, \"#d8576b\"], [0.6666666666666666, \"#ed7953\"], [0.7777777777777778, \"#fb9f3a\"], [0.8888888888888888, \"#fdca26\"], [1.0, \"#f0f921\"]], \"sequentialminus\": [[0.0, \"#0d0887\"], [0.1111111111111111, \"#46039f\"], [0.2222222222222222, \"#7201a8\"], [0.3333333333333333, \"#9c179e\"], [0.4444444444444444, \"#bd3786\"], [0.5555555555555556, \"#d8576b\"], [0.6666666666666666, \"#ed7953\"], [0.7777777777777778, \"#fb9f3a\"], [0.8888888888888888, \"#fdca26\"], [1.0, \"#f0f921\"]]}, \"colorway\": [\"#636efa\", \"#EF553B\", \"#00cc96\", \"#ab63fa\", \"#FFA15A\", \"#19d3f3\", \"#FF6692\", \"#B6E880\", \"#FF97FF\", \"#FECB52\"], \"font\": {\"color\": \"#2a3f5f\"}, \"geo\": {\"bgcolor\": \"white\", \"lakecolor\": \"white\", \"landcolor\": \"#E5ECF6\", \"showlakes\": true, \"showland\": true, \"subunitcolor\": \"white\"}, \"hoverlabel\": {\"align\": \"left\"}, \"hovermode\": \"closest\", \"mapbox\": {\"style\": \"light\"}, \"paper_bgcolor\": \"white\", \"plot_bgcolor\": \"#E5ECF6\", \"polar\": {\"angularaxis\": {\"gridcolor\": \"white\", \"linecolor\": \"white\", \"ticks\": \"\"}, \"bgcolor\": \"#E5ECF6\", \"radialaxis\": {\"gridcolor\": \"white\", \"linecolor\": \"white\", \"ticks\": \"\"}}, \"scene\": {\"xaxis\": {\"backgroundcolor\": \"#E5ECF6\", \"gridcolor\": \"white\", \"gridwidth\": 2, \"linecolor\": \"white\", \"showbackground\": true, \"ticks\": \"\", \"zerolinecolor\": \"white\"}, \"yaxis\": {\"backgroundcolor\": \"#E5ECF6\", \"gridcolor\": \"white\", \"gridwidth\": 2, \"linecolor\": \"white\", \"showbackground\": true, \"ticks\": \"\", \"zerolinecolor\": \"white\"}, \"zaxis\": {\"backgroundcolor\": \"#E5ECF6\", \"gridcolor\": \"white\", \"gridwidth\": 2, \"linecolor\": \"white\", \"showbackground\": true, \"ticks\": \"\", \"zerolinecolor\": \"white\"}}, \"shapedefaults\": {\"line\": {\"color\": \"#2a3f5f\"}}, \"ternary\": {\"aaxis\": {\"gridcolor\": \"white\", \"linecolor\": \"white\", \"ticks\": \"\"}, \"baxis\": {\"gridcolor\": \"white\", \"linecolor\": \"white\", \"ticks\": \"\"}, \"bgcolor\": \"#E5ECF6\", \"caxis\": {\"gridcolor\": \"white\", \"linecolor\": \"white\", \"ticks\": \"\"}}, \"title\": {\"x\": 0.05}, \"xaxis\": {\"automargin\": true, \"gridcolor\": \"white\", \"linecolor\": \"white\", \"ticks\": \"\", \"zerolinecolor\": \"white\", \"zerolinewidth\": 2}, \"yaxis\": {\"automargin\": true, \"gridcolor\": \"white\", \"linecolor\": \"white\", \"ticks\": \"\", \"zerolinecolor\": \"white\", \"zerolinewidth\": 2}}}, \"title\": {\"text\": \"2015Q1 varroa_mites Stressor<br>(Hover for breakdown)\"}},\n",
       "                        {\"responsive\": true}\n",
       "                    ).then(function(){\n",
       "                            \n",
       "var gd = document.getElementById('e8cc270c-68a2-40fc-8f51-981aa4810e7d');\n",
       "var x = new MutationObserver(function (mutations, observer) {{\n",
       "        var display = window.getComputedStyle(gd).display;\n",
       "        if (!display || display === 'none') {{\n",
       "            console.log([gd, 'removed!']);\n",
       "            Plotly.purge(gd);\n",
       "            observer.disconnect();\n",
       "        }}\n",
       "}});\n",
       "\n",
       "// Listen for the removal of the full notebook cells\n",
       "var notebookContainer = gd.closest('#notebook-container');\n",
       "if (notebookContainer) {{\n",
       "    x.observe(notebookContainer, {childList: true});\n",
       "}}\n",
       "\n",
       "// Listen for the clearing of the current output cell\n",
       "var outputEl = gd.closest('.output');\n",
       "if (outputEl) {{\n",
       "    x.observe(outputEl, {childList: true});\n",
       "}}\n",
       "\n",
       "                        })\n",
       "                };\n",
       "                });\n",
       "            </script>\n",
       "        </div>"
      ]
     },
     "metadata": {},
     "output_type": "display_data"
    }
   ],
   "source": [
    "mymap.show()"
   ]
  },
  {
   "cell_type": "code",
   "execution_count": 41,
   "metadata": {},
   "outputs": [
    {
     "data": {
      "application/vnd.plotly.v1+json": {
       "config": {
        "plotlyServerURL": "https://plot.ly"
       },
       "data": [
        {
         "connectgaps": true,
         "line": {
          "color": "rgb(189,189,189)",
          "width": 2
         },
         "mode": "lines",
         "name": "Alabama",
         "type": "scatter",
         "x": [
          "2015Q1",
          "2015Q2",
          "2015Q3",
          "2015Q4",
          "2016Q1",
          "2016Q2",
          "2016Q3",
          "2016Q4",
          "2017Q1",
          "2017Q2",
          "2017Q3",
          "2017Q4",
          "2018Q1",
          "2018Q2",
          "2018Q3",
          "2018Q4"
         ],
         "y": [
          10,
          16.700000762939453,
          63.099998474121094,
          3.0999999046325684,
          24.200000762939453,
          9.600000381469727,
          11.699999809265137,
          12.300000190734863,
          19.899999618530273,
          17.899999618530273,
          69.5,
          22.299999237060547,
          29.200000762939453,
          25.200000762939453,
          77.5,
          20.600000381469727
         ]
        },
        {
         "marker": {
          "color": "rgb(189,189,189)",
          "size": 8
         },
         "mode": "markers",
         "name": "Alabama",
         "type": "scatter",
         "x": [
          "2015Q1",
          "2018Q4"
         ],
         "y": [
          10,
          20.600000381469727
         ]
        },
        {
         "connectgaps": true,
         "line": {
          "color": "rgb(189,189,189)",
          "width": 2
         },
         "mode": "lines",
         "name": "Arizona",
         "type": "scatter",
         "x": [
          "2015Q1",
          "2015Q2",
          "2015Q3",
          "2015Q4",
          "2016Q1",
          "2016Q2",
          "2016Q3",
          "2016Q4",
          "2017Q1",
          "2017Q2",
          "2017Q3",
          "2017Q4",
          "2018Q1",
          "2018Q2",
          "2018Q3",
          "2018Q4"
         ],
         "y": [
          26.899999618530273,
          8.399999618530273,
          53.5,
          50.099998474121094,
          33.79999923706055,
          26.799999237060547,
          41.70000076293945,
          98.80000305175781,
          35.599998474121094,
          58.400001525878906,
          19.799999237060547,
          61.599998474121094,
          36.29999923706055,
          73.80000305175781,
          52.5,
          20.600000381469727
         ]
        },
        {
         "marker": {
          "color": "rgb(189,189,189)",
          "size": 8
         },
         "mode": "markers",
         "name": "Arizona",
         "type": "scatter",
         "x": [
          "2015Q1",
          "2018Q4"
         ],
         "y": [
          26.899999618530273,
          20.600000381469727
         ]
        },
        {
         "connectgaps": true,
         "line": {
          "color": "red",
          "width": 4
         },
         "mode": "lines",
         "name": "Arkansas",
         "type": "scatter",
         "x": [
          "2015Q1",
          "2015Q2",
          "2015Q3",
          "2015Q4",
          "2016Q1",
          "2016Q2",
          "2016Q3",
          "2016Q4",
          "2017Q1",
          "2017Q2",
          "2017Q3",
          "2017Q4",
          "2018Q1",
          "2018Q2",
          "2018Q3",
          "2018Q4"
         ],
         "y": [
          17.600000381469727,
          65.9000015258789,
          69.19999694824219,
          38.099998474121094,
          57.400001525878906,
          84.9000015258789,
          80.69999694824219,
          21.100000381469727,
          31.5,
          19.399999618530273,
          61.400001525878906,
          37.5,
          21.100000381469727,
          30.899999618530273,
          29.899999618530273,
          82.80000305175781
         ]
        },
        {
         "marker": {
          "color": "red",
          "size": 12
         },
         "mode": "markers",
         "name": "Arkansas",
         "type": "scatter",
         "x": [
          "2015Q1",
          "2018Q4"
         ],
         "y": [
          17.600000381469727,
          82.80000305175781
         ]
        },
        {
         "connectgaps": true,
         "line": {
          "color": "rgb(189,189,189)",
          "width": 2
         },
         "mode": "lines",
         "name": "California",
         "type": "scatter",
         "x": [
          "2015Q1",
          "2015Q2",
          "2015Q3",
          "2015Q4",
          "2016Q1",
          "2016Q2",
          "2016Q3",
          "2016Q4",
          "2017Q1",
          "2017Q2",
          "2017Q3",
          "2017Q4",
          "2018Q1",
          "2018Q2",
          "2018Q3",
          "2018Q4"
         ],
         "y": [
          24.700000762939453,
          50.900001525878906,
          39.900001525878906,
          37.29999923706055,
          38.099998474121094,
          49.70000076293945,
          42.20000076293945,
          41.900001525878906,
          37.70000076293945,
          38,
          42.29999923706055,
          47.900001525878906,
          41.29999923706055,
          41.5,
          57.29999923706055,
          44.099998474121094
         ]
        },
        {
         "marker": {
          "color": "rgb(189,189,189)",
          "size": 8
         },
         "mode": "markers",
         "name": "California",
         "type": "scatter",
         "x": [
          "2015Q1",
          "2018Q4"
         ],
         "y": [
          24.700000762939453,
          44.099998474121094
         ]
        },
        {
         "connectgaps": true,
         "line": {
          "color": "red",
          "width": 4
         },
         "mode": "lines",
         "name": "Colorado",
         "type": "scatter",
         "x": [
          "2015Q1",
          "2015Q2",
          "2015Q3",
          "2015Q4",
          "2016Q1",
          "2016Q2",
          "2016Q3",
          "2016Q4",
          "2017Q1",
          "2017Q2",
          "2017Q3",
          "2017Q4",
          "2018Q1",
          "2018Q2",
          "2018Q3",
          "2018Q4"
         ],
         "y": [
          14.600000381469727,
          38.599998474121094,
          50.5,
          47.599998474121094,
          2.9000000953674316,
          38.70000076293945,
          49.29999923706055,
          32.400001525878906,
          17,
          31.299999237060547,
          52.900001525878906,
          30.200000762939453,
          31.700000762939453,
          41.70000076293945,
          72.5999984741211,
          73.19999694824219
         ]
        },
        {
         "marker": {
          "color": "red",
          "size": 12
         },
         "mode": "markers",
         "name": "Colorado",
         "type": "scatter",
         "x": [
          "2015Q1",
          "2018Q4"
         ],
         "y": [
          14.600000381469727,
          73.19999694824219
         ]
        },
        {
         "connectgaps": true,
         "line": {
          "color": "rgb(189,189,189)",
          "width": 2
         },
         "mode": "lines",
         "name": "Connecticut",
         "type": "scatter",
         "x": [
          "2015Q1",
          "2015Q2",
          "2015Q3",
          "2015Q4",
          "2016Q1",
          "2016Q2",
          "2016Q3",
          "2016Q4",
          "2017Q1",
          "2017Q2",
          "2017Q3",
          "2017Q4",
          "2018Q1",
          "2018Q2",
          "2018Q3",
          "2018Q4"
         ],
         "y": [
          2.5,
          10.199999809265137,
          39.29999923706055,
          10.5,
          12.300000190734863,
          9.300000190734863,
          18.799999237060547,
          14.699999809265137,
          51.5,
          9.100000381469727,
          25.100000381469727,
          36.400001525878906,
          14.5,
          11.100000381469727,
          13,
          12.5
         ]
        },
        {
         "marker": {
          "color": "rgb(189,189,189)",
          "size": 8
         },
         "mode": "markers",
         "name": "Connecticut",
         "type": "scatter",
         "x": [
          "2015Q1",
          "2018Q4"
         ],
         "y": [
          2.5,
          12.5
         ]
        },
        {
         "connectgaps": true,
         "line": {
          "color": "rgb(189,189,189)",
          "width": 2
         },
         "mode": "lines",
         "name": "Florida",
         "type": "scatter",
         "x": [
          "2015Q1",
          "2015Q2",
          "2015Q3",
          "2015Q4",
          "2016Q1",
          "2016Q2",
          "2016Q3",
          "2016Q4",
          "2017Q1",
          "2017Q2",
          "2017Q3",
          "2017Q4",
          "2018Q1",
          "2018Q2",
          "2018Q3",
          "2018Q4"
         ],
         "y": [
          22.299999237060547,
          44.20000076293945,
          39.5,
          27.299999237060547,
          23.600000381469727,
          48.20000076293945,
          45.099998474121094,
          30.899999618530273,
          37.599998474121094,
          36.5,
          42.900001525878906,
          41.400001525878906,
          31.700000762939453,
          45.29999923706055,
          35,
          46.70000076293945
         ]
        },
        {
         "marker": {
          "color": "rgb(189,189,189)",
          "size": 8
         },
         "mode": "markers",
         "name": "Florida",
         "type": "scatter",
         "x": [
          "2015Q1",
          "2018Q4"
         ],
         "y": [
          22.299999237060547,
          46.70000076293945
         ]
        },
        {
         "connectgaps": true,
         "line": {
          "color": "rgb(189,189,189)",
          "width": 2
         },
         "mode": "lines",
         "name": "Georgia",
         "type": "scatter",
         "x": [
          "2015Q1",
          "2015Q2",
          "2015Q3",
          "2015Q4",
          "2016Q1",
          "2016Q2",
          "2016Q3",
          "2016Q4",
          "2017Q1",
          "2017Q2",
          "2017Q3",
          "2017Q4",
          "2018Q1",
          "2018Q2",
          "2018Q3",
          "2018Q4"
         ],
         "y": [
          6.199999809265137,
          52.79999923706055,
          47.599998474121094,
          43.5,
          32.29999923706055,
          59.29999923706055,
          30.700000762939453,
          43.599998474121094,
          35.29999923706055,
          34.099998474121094,
          47.599998474121094,
          56.79999923706055,
          39.599998474121094,
          53,
          49.79999923706055,
          41.400001525878906
         ]
        },
        {
         "marker": {
          "color": "rgb(189,189,189)",
          "size": 8
         },
         "mode": "markers",
         "name": "Georgia",
         "type": "scatter",
         "x": [
          "2015Q1",
          "2018Q4"
         ],
         "y": [
          6.199999809265137,
          41.400001525878906
         ]
        },
        {
         "connectgaps": true,
         "line": {
          "color": "red",
          "width": 4
         },
         "mode": "lines",
         "name": "Hawaii",
         "type": "scatter",
         "x": [
          "2015Q1",
          "2015Q2",
          "2015Q3",
          "2015Q4",
          "2016Q1",
          "2016Q2",
          "2016Q3",
          "2016Q4",
          "2017Q1",
          "2017Q2",
          "2017Q3",
          "2017Q4",
          "2018Q1",
          "2018Q2",
          "2018Q3",
          "2018Q4"
         ],
         "y": [
          38.79999923706055,
          60.099998474121094,
          78.0999984741211,
          31,
          0.30000001192092896,
          35.599998474121094,
          67.80000305175781,
          39.900001525878906,
          1.2000000476837158,
          88.9000015258789,
          2.799999952316284,
          57.20000076293945,
          83,
          88.30000305175781,
          88.30000305175781,
          70.5
         ]
        },
        {
         "marker": {
          "color": "red",
          "size": 12
         },
         "mode": "markers",
         "name": "Hawaii",
         "type": "scatter",
         "x": [
          "2015Q1",
          "2018Q4"
         ],
         "y": [
          38.79999923706055,
          70.5
         ]
        },
        {
         "connectgaps": true,
         "line": {
          "color": "red",
          "width": 4
         },
         "mode": "lines",
         "name": "Idaho",
         "type": "scatter",
         "x": [
          "2015Q1",
          "2015Q2",
          "2015Q3",
          "2015Q4",
          "2016Q1",
          "2016Q2",
          "2016Q3",
          "2016Q4",
          "2017Q1",
          "2017Q2",
          "2017Q3",
          "2017Q4",
          "2018Q1",
          "2018Q2",
          "2018Q3",
          "2018Q4"
         ],
         "y": [
          39.79999923706055,
          25.5,
          46.79999923706055,
          38.900001525878906,
          31.5,
          21.200000762939453,
          25.299999237060547,
          31.899999618530273,
          74.19999694824219,
          30.5,
          53.70000076293945,
          34,
          28.299999237060547,
          51.599998474121094,
          83.5999984741211,
          64.9000015258789
         ]
        },
        {
         "marker": {
          "color": "red",
          "size": 12
         },
         "mode": "markers",
         "name": "Idaho",
         "type": "scatter",
         "x": [
          "2015Q1",
          "2018Q4"
         ],
         "y": [
          39.79999923706055,
          64.9000015258789
         ]
        },
        {
         "connectgaps": true,
         "line": {
          "color": "rgb(189,189,189)",
          "width": 2
         },
         "mode": "lines",
         "name": "Illinois",
         "type": "scatter",
         "x": [
          "2015Q1",
          "2015Q2",
          "2015Q3",
          "2015Q4",
          "2016Q1",
          "2016Q2",
          "2016Q3",
          "2016Q4",
          "2017Q1",
          "2017Q2",
          "2017Q3",
          "2017Q4",
          "2018Q1",
          "2018Q2",
          "2018Q3",
          "2018Q4"
         ],
         "y": [
          12.300000190734863,
          10.300000190734863,
          7.699999809265137,
          9.399999618530273,
          12.399999618530273,
          11.399999618530273,
          17.399999618530273,
          27.799999237060547,
          21.200000762939453,
          11.300000190734863,
          29.899999618530273,
          28.899999618530273,
          25.700000762939453,
          13.699999809265137,
          21.200000762939453,
          27.200000762939453
         ]
        },
        {
         "marker": {
          "color": "rgb(189,189,189)",
          "size": 8
         },
         "mode": "markers",
         "name": "Illinois",
         "type": "scatter",
         "x": [
          "2015Q1",
          "2018Q4"
         ],
         "y": [
          12.300000190734863,
          27.200000762939453
         ]
        },
        {
         "connectgaps": true,
         "line": {
          "color": "rgb(189,189,189)",
          "width": 2
         },
         "mode": "lines",
         "name": "Indiana",
         "type": "scatter",
         "x": [
          "2015Q1",
          "2015Q2",
          "2015Q3",
          "2015Q4",
          "2016Q1",
          "2016Q2",
          "2016Q3",
          "2016Q4",
          "2017Q1",
          "2017Q2",
          "2017Q3",
          "2017Q4",
          "2018Q1",
          "2018Q2",
          "2018Q3",
          "2018Q4"
         ],
         "y": [
          20.700000762939453,
          15.399999618530273,
          13.699999809265137,
          15.100000381469727,
          17.399999618530273,
          12.5,
          50.400001525878906,
          28.200000762939453,
          15.800000190734863,
          5.5,
          13.899999618530273,
          23.5,
          33.400001525878906,
          78,
          29.5,
          51.29999923706055
         ]
        },
        {
         "marker": {
          "color": "rgb(189,189,189)",
          "size": 8
         },
         "mode": "markers",
         "name": "Indiana",
         "type": "scatter",
         "x": [
          "2015Q1",
          "2018Q4"
         ],
         "y": [
          20.700000762939453,
          51.29999923706055
         ]
        },
        {
         "connectgaps": true,
         "line": {
          "color": "rgb(189,189,189)",
          "width": 2
         },
         "mode": "lines",
         "name": "Iowa",
         "type": "scatter",
         "x": [
          "2015Q1",
          "2015Q2",
          "2015Q3",
          "2015Q4",
          "2016Q1",
          "2016Q2",
          "2016Q3",
          "2016Q4",
          "2017Q1",
          "2017Q2",
          "2017Q3",
          "2017Q4",
          "2018Q1",
          "2018Q2",
          "2018Q3",
          "2018Q4"
         ],
         "y": [
          26,
          21.5,
          17.399999618530273,
          53.400001525878906,
          52.79999923706055,
          23.5,
          32.599998474121094,
          18.700000762939453,
          33.599998474121094,
          39.29999923706055,
          17.200000762939453,
          61,
          5.300000190734863,
          12.699999809265137,
          29.899999618530273,
          55.099998474121094
         ]
        },
        {
         "marker": {
          "color": "rgb(189,189,189)",
          "size": 8
         },
         "mode": "markers",
         "name": "Iowa",
         "type": "scatter",
         "x": [
          "2015Q1",
          "2018Q4"
         ],
         "y": [
          26,
          55.099998474121094
         ]
        },
        {
         "connectgaps": true,
         "line": {
          "color": "red",
          "width": 4
         },
         "mode": "lines",
         "name": "Kansas",
         "type": "scatter",
         "x": [
          "2015Q1",
          "2015Q2",
          "2015Q3",
          "2015Q4",
          "2016Q1",
          "2016Q2",
          "2016Q3",
          "2016Q4",
          "2017Q1",
          "2017Q2",
          "2017Q3",
          "2017Q4",
          "2018Q1",
          "2018Q2",
          "2018Q3",
          "2018Q4"
         ],
         "y": [
          32.70000076293945,
          14.399999618530273,
          22.5,
          44.5,
          30.299999237060547,
          47.29999923706055,
          42.79999923706055,
          29.200000762939453,
          47.20000076293945,
          17.299999237060547,
          65.4000015258789,
          17.899999618530273,
          63,
          42.79999923706055,
          76.80000305175781,
          62
         ]
        },
        {
         "marker": {
          "color": "red",
          "size": 12
         },
         "mode": "markers",
         "name": "Kansas",
         "type": "scatter",
         "x": [
          "2015Q1",
          "2018Q4"
         ],
         "y": [
          32.70000076293945,
          62
         ]
        },
        {
         "connectgaps": true,
         "line": {
          "color": "rgb(189,189,189)",
          "width": 2
         },
         "mode": "lines",
         "name": "Kentucky",
         "type": "scatter",
         "x": [
          "2015Q1",
          "2015Q2",
          "2015Q3",
          "2015Q4",
          "2016Q1",
          "2016Q2",
          "2016Q3",
          "2016Q4",
          "2017Q1",
          "2017Q2",
          "2017Q3",
          "2017Q4",
          "2018Q1",
          "2018Q2",
          "2018Q3",
          "2018Q4"
         ],
         "y": [
          10.800000190734863,
          21.700000762939453,
          40.400001525878906,
          22.200000762939453,
          23.600000381469727,
          38.900001525878906,
          42.29999923706055,
          48.20000076293945,
          31.899999618530273,
          25.700000762939453,
          46.400001525878906,
          54.29999923706055,
          43,
          40.900001525878906,
          47.099998474121094,
          57.099998474121094
         ]
        },
        {
         "marker": {
          "color": "rgb(189,189,189)",
          "size": 8
         },
         "mode": "markers",
         "name": "Kentucky",
         "type": "scatter",
         "x": [
          "2015Q1",
          "2018Q4"
         ],
         "y": [
          10.800000190734863,
          57.099998474121094
         ]
        },
        {
         "connectgaps": true,
         "line": {
          "color": "rgb(189,189,189)",
          "width": 2
         },
         "mode": "lines",
         "name": "Louisiana",
         "type": "scatter",
         "x": [
          "2015Q1",
          "2015Q2",
          "2015Q3",
          "2015Q4",
          "2016Q1",
          "2016Q2",
          "2016Q3",
          "2016Q4",
          "2017Q1",
          "2017Q2",
          "2017Q3",
          "2017Q4",
          "2018Q1",
          "2018Q2",
          "2018Q3",
          "2018Q4"
         ],
         "y": [
          17.200000762939453,
          36.400001525878906,
          25.899999618530273,
          10.899999618530273,
          22.799999237060547,
          20.700000762939453,
          39.5,
          2.9000000953674316,
          25.799999237060547,
          23.200000762939453,
          59.20000076293945,
          31.5,
          4.900000095367432,
          8.100000381469727,
          31.299999237060547,
          16.600000381469727
         ]
        },
        {
         "marker": {
          "color": "rgb(189,189,189)",
          "size": 8
         },
         "mode": "markers",
         "name": "Louisiana",
         "type": "scatter",
         "x": [
          "2015Q1",
          "2018Q4"
         ],
         "y": [
          17.200000762939453,
          16.600000381469727
         ]
        },
        {
         "connectgaps": true,
         "line": {
          "color": "rgb(189,189,189)",
          "width": 2
         },
         "mode": "lines",
         "name": "Maine",
         "type": "scatter",
         "x": [
          "2015Q1",
          "2015Q2",
          "2015Q3",
          "2015Q4",
          "2016Q1",
          "2016Q2",
          "2016Q3",
          "2016Q4",
          "2017Q1",
          "2017Q2",
          "2017Q3",
          "2017Q4",
          "2018Q1",
          "2018Q2",
          "2018Q3",
          "2018Q4"
         ],
         "y": [
          4.400000095367432,
          72.0999984741211,
          9.899999618530273,
          18,
          3.299999952316284,
          82.69999694824219,
          9.300000190734863,
          10.699999809265137,
          23.899999618530273,
          4.400000095367432,
          3.4000000953674316,
          24.899999618530273,
          23.600000381469727,
          1.399999976158142,
          37,
          9.300000190734863
         ]
        },
        {
         "marker": {
          "color": "rgb(189,189,189)",
          "size": 8
         },
         "mode": "markers",
         "name": "Maine",
         "type": "scatter",
         "x": [
          "2015Q1",
          "2018Q4"
         ],
         "y": [
          4.400000095367432,
          9.300000190734863
         ]
        },
        {
         "connectgaps": true,
         "line": {
          "color": "rgb(189,189,189)",
          "width": 2
         },
         "mode": "lines",
         "name": "Maryland",
         "type": "scatter",
         "x": [
          "2015Q1",
          "2015Q2",
          "2015Q3",
          "2015Q4",
          "2016Q1",
          "2016Q2",
          "2016Q3",
          "2016Q4",
          "2017Q1",
          "2017Q2",
          "2017Q3",
          "2017Q4",
          "2018Q1",
          "2018Q2",
          "2018Q3",
          "2018Q4"
         ],
         "y": [
          10.100000381469727,
          4.900000095367432,
          26.899999618530273,
          5.599999904632568,
          26.200000762939453,
          4.199999809265137,
          10.800000190734863,
          23.799999237060547,
          11.300000190734863,
          3.299999952316284,
          8.800000190734863,
          7.900000095367432,
          18.200000762939453,
          11.800000190734863,
          11.699999809265137,
          16.600000381469727
         ]
        },
        {
         "marker": {
          "color": "rgb(189,189,189)",
          "size": 8
         },
         "mode": "markers",
         "name": "Maryland",
         "type": "scatter",
         "x": [
          "2015Q1",
          "2018Q4"
         ],
         "y": [
          10.100000381469727,
          16.600000381469727
         ]
        },
        {
         "connectgaps": true,
         "line": {
          "color": "rgb(189,189,189)",
          "width": 2
         },
         "mode": "lines",
         "name": "Massachusetts",
         "type": "scatter",
         "x": [
          "2015Q1",
          "2015Q2",
          "2015Q3",
          "2015Q4",
          "2016Q1",
          "2016Q2",
          "2016Q3",
          "2016Q4",
          "2017Q1",
          "2017Q2",
          "2017Q3",
          "2017Q4",
          "2018Q1",
          "2018Q2",
          "2018Q3",
          "2018Q4"
         ],
         "y": [
          23.5,
          66.80000305175781,
          16.299999237060547,
          31.399999618530273,
          10.100000381469727,
          40.5,
          14.100000381469727,
          6.099999904632568,
          32.5,
          14.800000190734863,
          82,
          13.199999809265137,
          19.600000381469727,
          6.300000190734863,
          75.9000015258789,
          33.20000076293945
         ]
        },
        {
         "marker": {
          "color": "rgb(189,189,189)",
          "size": 8
         },
         "mode": "markers",
         "name": "Massachusetts",
         "type": "scatter",
         "x": [
          "2015Q1",
          "2018Q4"
         ],
         "y": [
          23.5,
          33.20000076293945
         ]
        },
        {
         "connectgaps": true,
         "line": {
          "color": "rgb(189,189,189)",
          "width": 2
         },
         "mode": "lines",
         "name": "Michigan",
         "type": "scatter",
         "x": [
          "2015Q1",
          "2015Q2",
          "2015Q3",
          "2015Q4",
          "2016Q1",
          "2016Q2",
          "2016Q3",
          "2016Q4",
          "2017Q1",
          "2017Q2",
          "2017Q3",
          "2017Q4",
          "2018Q1",
          "2018Q2",
          "2018Q3",
          "2018Q4"
         ],
         "y": [
          14.300000190734863,
          26.899999618530273,
          44.599998474121094,
          30.200000762939453,
          5.900000095367432,
          54.099998474121094,
          64.0999984741211,
          23.899999618530273,
          7.900000095367432,
          19.100000381469727,
          56.79999923706055,
          53.79999923706055,
          21.399999618530273,
          75.4000015258789,
          92.4000015258789,
          52
         ]
        },
        {
         "marker": {
          "color": "rgb(189,189,189)",
          "size": 8
         },
         "mode": "markers",
         "name": "Michigan",
         "type": "scatter",
         "x": [
          "2015Q1",
          "2018Q4"
         ],
         "y": [
          14.300000190734863,
          52
         ]
        },
        {
         "connectgaps": true,
         "line": {
          "color": "rgb(189,189,189)",
          "width": 2
         },
         "mode": "lines",
         "name": "Minnesota",
         "type": "scatter",
         "x": [
          "2015Q1",
          "2015Q2",
          "2015Q3",
          "2015Q4",
          "2016Q1",
          "2016Q2",
          "2016Q3",
          "2016Q4",
          "2017Q1",
          "2017Q2",
          "2017Q3",
          "2017Q4",
          "2018Q1",
          "2018Q2",
          "2018Q3",
          "2018Q4"
         ],
         "y": [
          1.399999976158142,
          25.399999618530273,
          33.29999923706055,
          43.599998474121094,
          12.100000381469727,
          20.799999237060547,
          47.20000076293945,
          27.5,
          2.0999999046325684,
          20.5,
          39.79999923706055,
          62.900001525878906,
          2,
          12.899999618530273,
          44.5,
          28.399999618530273
         ]
        },
        {
         "marker": {
          "color": "rgb(189,189,189)",
          "size": 8
         },
         "mode": "markers",
         "name": "Minnesota",
         "type": "scatter",
         "x": [
          "2015Q1",
          "2018Q4"
         ],
         "y": [
          1.399999976158142,
          28.399999618530273
         ]
        },
        {
         "connectgaps": true,
         "line": {
          "color": "rgb(189,189,189)",
          "width": 2
         },
         "mode": "lines",
         "name": "Mississippi",
         "type": "scatter",
         "x": [
          "2015Q1",
          "2015Q2",
          "2015Q3",
          "2015Q4",
          "2016Q1",
          "2016Q2",
          "2016Q3",
          "2016Q4",
          "2017Q1",
          "2017Q2",
          "2017Q3",
          "2017Q4",
          "2018Q1",
          "2018Q2",
          "2018Q3",
          "2018Q4"
         ],
         "y": [
          9.399999618530273,
          10.100000381469727,
          45.5,
          10.600000381469727,
          13.800000190734863,
          12.300000190734863,
          27.5,
          21.899999618530273,
          41.70000076293945,
          14,
          71.0999984741211,
          19.299999237060547,
          7,
          44.599998474121094,
          25.200000762939453,
          26.5
         ]
        },
        {
         "marker": {
          "color": "rgb(189,189,189)",
          "size": 8
         },
         "mode": "markers",
         "name": "Mississippi",
         "type": "scatter",
         "x": [
          "2015Q1",
          "2018Q4"
         ],
         "y": [
          9.399999618530273,
          26.5
         ]
        },
        {
         "connectgaps": true,
         "line": {
          "color": "rgb(189,189,189)",
          "width": 2
         },
         "mode": "lines",
         "name": "Missouri",
         "type": "scatter",
         "x": [
          "2015Q1",
          "2015Q2",
          "2015Q3",
          "2015Q4",
          "2016Q1",
          "2016Q2",
          "2016Q3",
          "2016Q4",
          "2017Q1",
          "2017Q2",
          "2017Q3",
          "2017Q4",
          "2018Q1",
          "2018Q2",
          "2018Q3",
          "2018Q4"
         ],
         "y": [
          13.100000381469727,
          5.099999904632568,
          11.100000381469727,
          2.799999952316284,
          20.200000762939453,
          17.200000762939453,
          13.300000190734863,
          16.100000381469727,
          16.600000381469727,
          13.399999618530273,
          77.69999694824219,
          16.700000762939453,
          86,
          11.800000190734863,
          18.200000762939453,
          37
         ]
        },
        {
         "marker": {
          "color": "rgb(189,189,189)",
          "size": 8
         },
         "mode": "markers",
         "name": "Missouri",
         "type": "scatter",
         "x": [
          "2015Q1",
          "2018Q4"
         ],
         "y": [
          13.100000381469727,
          37
         ]
        },
        {
         "connectgaps": true,
         "line": {
          "color": "rgb(189,189,189)",
          "width": 2
         },
         "mode": "lines",
         "name": "Montana",
         "type": "scatter",
         "x": [
          "2015Q1",
          "2015Q2",
          "2015Q3",
          "2015Q4",
          "2016Q1",
          "2016Q2",
          "2016Q3",
          "2016Q4",
          "2017Q1",
          "2017Q2",
          "2017Q3",
          "2017Q4",
          "2018Q1",
          "2018Q2",
          "2018Q3",
          "2018Q4"
         ],
         "y": [
          8.699999809265137,
          9,
          52.5,
          35.5,
          0.6000000238418579,
          30.299999237060547,
          41.900001525878906,
          59.099998474121094,
          34,
          20,
          42.29999923706055,
          54.20000076293945,
          28.899999618530273,
          42.900001525878906,
          43.79999923706055,
          40.70000076293945
         ]
        },
        {
         "marker": {
          "color": "rgb(189,189,189)",
          "size": 8
         },
         "mode": "markers",
         "name": "Montana",
         "type": "scatter",
         "x": [
          "2015Q1",
          "2018Q4"
         ],
         "y": [
          8.699999809265137,
          40.70000076293945
         ]
        },
        {
         "connectgaps": true,
         "line": {
          "color": "rgb(189,189,189)",
          "width": 2
         },
         "mode": "lines",
         "name": "Nebraska",
         "type": "scatter",
         "x": [
          "2015Q1",
          "2015Q2",
          "2015Q3",
          "2015Q4",
          "2016Q1",
          "2016Q2",
          "2016Q3",
          "2016Q4",
          "2017Q1",
          "2017Q2",
          "2017Q3",
          "2017Q4",
          "2018Q1",
          "2018Q2",
          "2018Q3",
          "2018Q4"
         ],
         "y": [
          5.900000095367432,
          6.5,
          33.20000076293945,
          15.5,
          1.7999999523162842,
          6.099999904632568,
          20.399999618530273,
          10.5,
          14.800000190734863,
          50.099998474121094,
          15.100000381469727,
          26.600000381469727,
          4.5,
          5,
          24.100000381469727,
          3
         ]
        },
        {
         "marker": {
          "color": "rgb(189,189,189)",
          "size": 8
         },
         "mode": "markers",
         "name": "Nebraska",
         "type": "scatter",
         "x": [
          "2015Q1",
          "2018Q4"
         ],
         "y": [
          5.900000095367432,
          3
         ]
        },
        {
         "connectgaps": true,
         "line": {
          "color": "rgb(189,189,189)",
          "width": 2
         },
         "mode": "lines",
         "name": "New Jersey",
         "type": "scatter",
         "x": [
          "2015Q1",
          "2015Q2",
          "2015Q3",
          "2015Q4",
          "2016Q1",
          "2016Q2",
          "2016Q3",
          "2016Q4",
          "2017Q1",
          "2017Q2",
          "2017Q3",
          "2017Q4",
          "2018Q1",
          "2018Q2",
          "2018Q3",
          "2018Q4"
         ],
         "y": [
          40.099998474121094,
          52.5,
          7.199999809265137,
          7.699999809265137,
          8,
          11.899999618530273,
          20.200000762939453,
          28.600000381469727,
          16.299999237060547,
          21.399999618530273,
          10.699999809265137,
          18.899999618530273,
          14.899999618530273,
          16.5,
          12.300000190734863,
          14
         ]
        },
        {
         "marker": {
          "color": "rgb(189,189,189)",
          "size": 8
         },
         "mode": "markers",
         "name": "New Jersey",
         "type": "scatter",
         "x": [
          "2015Q1",
          "2018Q4"
         ],
         "y": [
          40.099998474121094,
          14
         ]
        },
        {
         "connectgaps": true,
         "line": {
          "color": "red",
          "width": 4
         },
         "mode": "lines",
         "name": "New Mexico",
         "type": "scatter",
         "x": [
          "2015Q1",
          "2015Q2",
          "2015Q3",
          "2015Q4",
          "2016Q1",
          "2016Q2",
          "2016Q3",
          "2016Q4",
          "2017Q1",
          "2017Q2",
          "2017Q3",
          "2017Q4",
          "2018Q1",
          "2018Q2",
          "2018Q3",
          "2018Q4"
         ],
         "y": [
          17.100000381469727,
          38.79999923706055,
          61.20000076293945,
          30.899999618530273,
          69,
          59.099998474121094,
          59.5,
          46.20000076293945,
          93.9000015258789,
          88.4000015258789,
          74.30000305175781,
          86.0999984741211,
          42.79999923706055,
          0.30000001192092896,
          null,
          81.30000305175781
         ]
        },
        {
         "marker": {
          "color": "red",
          "size": 12
         },
         "mode": "markers",
         "name": "New Mexico",
         "type": "scatter",
         "x": [
          "2015Q1",
          "2018Q4"
         ],
         "y": [
          17.100000381469727,
          81.30000305175781
         ]
        },
        {
         "connectgaps": true,
         "line": {
          "color": "rgb(189,189,189)",
          "width": 2
         },
         "mode": "lines",
         "name": "New York",
         "type": "scatter",
         "x": [
          "2015Q1",
          "2015Q2",
          "2015Q3",
          "2015Q4",
          "2016Q1",
          "2016Q2",
          "2016Q3",
          "2016Q4",
          "2017Q1",
          "2017Q2",
          "2017Q3",
          "2017Q4",
          "2018Q1",
          "2018Q2",
          "2018Q3",
          "2018Q4"
         ],
         "y": [
          7.599999904632568,
          19.100000381469727,
          40,
          24.5,
          27.5,
          20.399999618530273,
          37.400001525878906,
          27.799999237060547,
          20.399999618530273,
          22.200000762939453,
          45.099998474121094,
          22.299999237060547,
          25.299999237060547,
          39.599998474121094,
          40.70000076293945,
          26
         ]
        },
        {
         "marker": {
          "color": "rgb(189,189,189)",
          "size": 8
         },
         "mode": "markers",
         "name": "New York",
         "type": "scatter",
         "x": [
          "2015Q1",
          "2018Q4"
         ],
         "y": [
          7.599999904632568,
          26
         ]
        },
        {
         "connectgaps": true,
         "line": {
          "color": "rgb(189,189,189)",
          "width": 2
         },
         "mode": "lines",
         "name": "North Carolina",
         "type": "scatter",
         "x": [
          "2015Q1",
          "2015Q2",
          "2015Q3",
          "2015Q4",
          "2016Q1",
          "2016Q2",
          "2016Q3",
          "2016Q4",
          "2017Q1",
          "2017Q2",
          "2017Q3",
          "2017Q4",
          "2018Q1",
          "2018Q2",
          "2018Q3",
          "2018Q4"
         ],
         "y": [
          35.5,
          51,
          33.900001525878906,
          9.600000381469727,
          9.5,
          51.79999923706055,
          27.799999237060547,
          24,
          34.70000076293945,
          23.399999618530273,
          74.5,
          64.19999694824219,
          29.700000762939453,
          9.699999809265137,
          66,
          53
         ]
        },
        {
         "marker": {
          "color": "rgb(189,189,189)",
          "size": 8
         },
         "mode": "markers",
         "name": "North Carolina",
         "type": "scatter",
         "x": [
          "2015Q1",
          "2018Q4"
         ],
         "y": [
          35.5,
          53
         ]
        },
        {
         "connectgaps": true,
         "line": {
          "color": "rgb(189,189,189)",
          "width": 2
         },
         "mode": "lines",
         "name": "North Dakota",
         "type": "scatter",
         "x": [
          "2015Q1",
          "2015Q2",
          "2015Q3",
          "2015Q4",
          "2016Q1",
          "2016Q2",
          "2016Q3",
          "2016Q4",
          "2017Q1",
          "2017Q2",
          "2017Q3",
          "2017Q4",
          "2018Q1",
          "2018Q2",
          "2018Q3",
          "2018Q4"
         ],
         "y": [
          1.7000000476837158,
          15.5,
          33.79999923706055,
          10.800000190734863,
          2.700000047683716,
          16.200000762939453,
          38,
          23.5,
          0.800000011920929,
          29.299999237060547,
          42,
          41.70000076293945,
          1.399999976158142,
          34.79999923706055,
          52.599998474121094,
          29.5
         ]
        },
        {
         "marker": {
          "color": "rgb(189,189,189)",
          "size": 8
         },
         "mode": "markers",
         "name": "North Dakota",
         "type": "scatter",
         "x": [
          "2015Q1",
          "2018Q4"
         ],
         "y": [
          1.7000000476837158,
          29.5
         ]
        },
        {
         "connectgaps": true,
         "line": {
          "color": "rgb(189,189,189)",
          "width": 2
         },
         "mode": "lines",
         "name": "Ohio",
         "type": "scatter",
         "x": [
          "2015Q1",
          "2015Q2",
          "2015Q3",
          "2015Q4",
          "2016Q1",
          "2016Q2",
          "2016Q3",
          "2016Q4",
          "2017Q1",
          "2017Q2",
          "2017Q3",
          "2017Q4",
          "2018Q1",
          "2018Q2",
          "2018Q3",
          "2018Q4"
         ],
         "y": [
          10.699999809265137,
          15.800000190734863,
          30.700000762939453,
          36.29999923706055,
          41.599998474121094,
          10.600000381469727,
          60.599998474121094,
          42,
          25.799999237060547,
          45.5,
          51.5,
          45.29999923706055,
          39.599998474121094,
          38.79999923706055,
          58.900001525878906,
          29.299999237060547
         ]
        },
        {
         "marker": {
          "color": "rgb(189,189,189)",
          "size": 8
         },
         "mode": "markers",
         "name": "Ohio",
         "type": "scatter",
         "x": [
          "2015Q1",
          "2018Q4"
         ],
         "y": [
          10.699999809265137,
          29.299999237060547
         ]
        },
        {
         "connectgaps": true,
         "line": {
          "color": "rgb(189,189,189)",
          "width": 2
         },
         "mode": "lines",
         "name": "Oklahoma",
         "type": "scatter",
         "x": [
          "2015Q1",
          "2015Q2",
          "2015Q3",
          "2015Q4",
          "2016Q1",
          "2016Q2",
          "2016Q3",
          "2016Q4",
          "2017Q1",
          "2017Q2",
          "2017Q3",
          "2017Q4",
          "2018Q1",
          "2018Q2",
          "2018Q3",
          "2018Q4"
         ],
         "y": [
          14.5,
          66.0999984741211,
          1.600000023841858,
          2.799999952316284,
          4.900000095367432,
          51.79999923706055,
          7.5,
          4.900000095367432,
          11.899999618530273,
          23.600000381469727,
          22,
          1,
          24.100000381469727,
          60.20000076293945,
          59.599998474121094,
          13.100000381469727
         ]
        },
        {
         "marker": {
          "color": "rgb(189,189,189)",
          "size": 8
         },
         "mode": "markers",
         "name": "Oklahoma",
         "type": "scatter",
         "x": [
          "2015Q1",
          "2018Q4"
         ],
         "y": [
          14.5,
          13.100000381469727
         ]
        },
        {
         "connectgaps": true,
         "line": {
          "color": "rgb(189,189,189)",
          "width": 2
         },
         "mode": "lines",
         "name": "Oregon",
         "type": "scatter",
         "x": [
          "2015Q1",
          "2015Q2",
          "2015Q3",
          "2015Q4",
          "2016Q1",
          "2016Q2",
          "2016Q3",
          "2016Q4",
          "2017Q1",
          "2017Q2",
          "2017Q3",
          "2017Q4",
          "2018Q1",
          "2018Q2",
          "2018Q3",
          "2018Q4"
         ],
         "y": [
          20.200000762939453,
          39.29999923706055,
          56,
          16.399999618530273,
          20.399999618530273,
          52.70000076293945,
          52.900001525878906,
          25.5,
          28.700000762939453,
          37.20000076293945,
          54.400001525878906,
          50.599998474121094,
          36,
          46.099998474121094,
          57.20000076293945,
          44.099998474121094
         ]
        },
        {
         "marker": {
          "color": "rgb(189,189,189)",
          "size": 8
         },
         "mode": "markers",
         "name": "Oregon",
         "type": "scatter",
         "x": [
          "2015Q1",
          "2018Q4"
         ],
         "y": [
          20.200000762939453,
          44.099998474121094
         ]
        },
        {
         "connectgaps": true,
         "line": {
          "color": "rgb(189,189,189)",
          "width": 2
         },
         "mode": "lines",
         "name": "Pennsylvania",
         "type": "scatter",
         "x": [
          "2015Q1",
          "2015Q2",
          "2015Q3",
          "2015Q4",
          "2016Q1",
          "2016Q2",
          "2016Q3",
          "2016Q4",
          "2017Q1",
          "2017Q2",
          "2017Q3",
          "2017Q4",
          "2018Q1",
          "2018Q2",
          "2018Q3",
          "2018Q4"
         ],
         "y": [
          28.100000381469727,
          11.399999618530273,
          45.099998474121094,
          32.20000076293945,
          44.79999923706055,
          18.700000762939453,
          27.299999237060547,
          18.700000762939453,
          20.899999618530273,
          13.5,
          41.400001525878906,
          44.70000076293945,
          34.400001525878906,
          31.299999237060547,
          23.5,
          26.899999618530273
         ]
        },
        {
         "marker": {
          "color": "rgb(189,189,189)",
          "size": 8
         },
         "mode": "markers",
         "name": "Pennsylvania",
         "type": "scatter",
         "x": [
          "2015Q1",
          "2018Q4"
         ],
         "y": [
          28.100000381469727,
          26.899999618530273
         ]
        },
        {
         "connectgaps": true,
         "line": {
          "color": "rgb(189,189,189)",
          "width": 2
         },
         "mode": "lines",
         "name": "South Carolina",
         "type": "scatter",
         "x": [
          "2015Q1",
          "2015Q2",
          "2015Q3",
          "2015Q4",
          "2016Q1",
          "2016Q2",
          "2016Q3",
          "2016Q4",
          "2017Q1",
          "2017Q2",
          "2017Q3",
          "2017Q4",
          "2018Q1",
          "2018Q2",
          "2018Q3",
          "2018Q4"
         ],
         "y": [
          10.5,
          29.899999618530273,
          58.400001525878906,
          14.199999809265137,
          10.699999809265137,
          51.29999923706055,
          20.399999618530273,
          29,
          12.600000381469727,
          24.299999237060547,
          26.399999618530273,
          31.600000381469727,
          29.299999237060547,
          14.199999809265137,
          76.80000305175781,
          32.20000076293945
         ]
        },
        {
         "marker": {
          "color": "rgb(189,189,189)",
          "size": 8
         },
         "mode": "markers",
         "name": "South Carolina",
         "type": "scatter",
         "x": [
          "2015Q1",
          "2018Q4"
         ],
         "y": [
          10.5,
          32.20000076293945
         ]
        },
        {
         "connectgaps": true,
         "line": {
          "color": "rgb(189,189,189)",
          "width": 2
         },
         "mode": "lines",
         "name": "South Dakota",
         "type": "scatter",
         "x": [
          "2015Q1",
          "2015Q2",
          "2015Q3",
          "2015Q4",
          "2016Q1",
          "2016Q2",
          "2016Q3",
          "2016Q4",
          "2017Q1",
          "2017Q2",
          "2017Q3",
          "2017Q4",
          "2018Q1",
          "2018Q2",
          "2018Q3",
          "2018Q4"
         ],
         "y": [
          1.2000000476837158,
          9.800000190734863,
          22,
          16.799999237060547,
          0.20000000298023224,
          32.400001525878906,
          48.79999923706055,
          48.900001525878906,
          2.9000000953674316,
          8.699999809265137,
          47.400001525878906,
          17.299999237060547,
          4.400000095367432,
          55.099998474121094,
          54.70000076293945,
          12.800000190734863
         ]
        },
        {
         "marker": {
          "color": "rgb(189,189,189)",
          "size": 8
         },
         "mode": "markers",
         "name": "South Dakota",
         "type": "scatter",
         "x": [
          "2015Q1",
          "2018Q4"
         ],
         "y": [
          1.2000000476837158,
          12.800000190734863
         ]
        },
        {
         "connectgaps": true,
         "line": {
          "color": "rgb(189,189,189)",
          "width": 2
         },
         "mode": "lines",
         "name": "Tennessee",
         "type": "scatter",
         "x": [
          "2015Q1",
          "2015Q2",
          "2015Q3",
          "2015Q4",
          "2016Q1",
          "2016Q2",
          "2016Q3",
          "2016Q4",
          "2017Q1",
          "2017Q2",
          "2017Q3",
          "2017Q4",
          "2018Q1",
          "2018Q2",
          "2018Q3",
          "2018Q4"
         ],
         "y": [
          22.200000762939453,
          47.79999923706055,
          50.79999923706055,
          43.599998474121094,
          19.700000762939453,
          40.900001525878906,
          22.5,
          19.899999618530273,
          28.600000381469727,
          53.400001525878906,
          42.79999923706055,
          22.799999237060547,
          29.200000762939453,
          30,
          70.5999984741211,
          49.79999923706055
         ]
        },
        {
         "marker": {
          "color": "rgb(189,189,189)",
          "size": 8
         },
         "mode": "markers",
         "name": "Tennessee",
         "type": "scatter",
         "x": [
          "2015Q1",
          "2018Q4"
         ],
         "y": [
          22.200000762939453,
          49.79999923706055
         ]
        },
        {
         "connectgaps": true,
         "line": {
          "color": "rgb(189,189,189)",
          "width": 2
         },
         "mode": "lines",
         "name": "Texas",
         "type": "scatter",
         "x": [
          "2015Q1",
          "2015Q2",
          "2015Q3",
          "2015Q4",
          "2016Q1",
          "2016Q2",
          "2016Q3",
          "2016Q4",
          "2017Q1",
          "2017Q2",
          "2017Q3",
          "2017Q4",
          "2018Q1",
          "2018Q2",
          "2018Q3",
          "2018Q4"
         ],
         "y": [
          21.5,
          19.299999237060547,
          30.700000762939453,
          20.899999618530273,
          19.399999618530273,
          26.100000381469727,
          47.20000076293945,
          33.099998474121094,
          36.20000076293945,
          28.700000762939453,
          33.70000076293945,
          33.900001525878906,
          21.5,
          26.5,
          18.799999237060547,
          18.600000381469727
         ]
        },
        {
         "marker": {
          "color": "rgb(189,189,189)",
          "size": 8
         },
         "mode": "markers",
         "name": "Texas",
         "type": "scatter",
         "x": [
          "2015Q1",
          "2018Q4"
         ],
         "y": [
          21.5,
          18.600000381469727
         ]
        },
        {
         "connectgaps": true,
         "line": {
          "color": "rgb(189,189,189)",
          "width": 2
         },
         "mode": "lines",
         "name": "Utah",
         "type": "scatter",
         "x": [
          "2015Q1",
          "2015Q2",
          "2015Q3",
          "2015Q4",
          "2016Q1",
          "2016Q2",
          "2016Q3",
          "2016Q4",
          "2017Q1",
          "2017Q2",
          "2017Q3",
          "2017Q4",
          "2018Q1",
          "2018Q2",
          "2018Q3",
          "2018Q4"
         ],
         "y": [
          13.600000381469727,
          27.200000762939453,
          40.099998474121094,
          75.80000305175781,
          26.200000762939453,
          23,
          32.099998474121094,
          26.399999618530273,
          38.70000076293945,
          36.70000076293945,
          40.5,
          24.299999237060547,
          18.700000762939453,
          43.5,
          34,
          48
         ]
        },
        {
         "marker": {
          "color": "rgb(189,189,189)",
          "size": 8
         },
         "mode": "markers",
         "name": "Utah",
         "type": "scatter",
         "x": [
          "2015Q1",
          "2018Q4"
         ],
         "y": [
          13.600000381469727,
          48
         ]
        },
        {
         "connectgaps": true,
         "line": {
          "color": "rgb(189,189,189)",
          "width": 2
         },
         "mode": "lines",
         "name": "Vermont",
         "type": "scatter",
         "x": [
          "2015Q1",
          "2015Q2",
          "2015Q3",
          "2015Q4",
          "2016Q1",
          "2016Q2",
          "2016Q3",
          "2016Q4",
          "2017Q1",
          "2017Q2",
          "2017Q3",
          "2017Q4",
          "2018Q1",
          "2018Q2",
          "2018Q3",
          "2018Q4"
         ],
         "y": [
          2.299999952316284,
          3.700000047683716,
          22.700000762939453,
          57.099998474121094,
          1.2999999523162842,
          2.5999999046325684,
          5.599999904632568,
          44.5,
          6,
          3.299999952316284,
          16.799999237060547,
          96.5999984741211,
          17,
          21.799999237060547,
          29.299999237060547,
          6.199999809265137
         ]
        },
        {
         "marker": {
          "color": "rgb(189,189,189)",
          "size": 8
         },
         "mode": "markers",
         "name": "Vermont",
         "type": "scatter",
         "x": [
          "2015Q1",
          "2018Q4"
         ],
         "y": [
          2.299999952316284,
          6.199999809265137
         ]
        },
        {
         "connectgaps": true,
         "line": {
          "color": "rgb(189,189,189)",
          "width": 2
         },
         "mode": "lines",
         "name": "Virginia",
         "type": "scatter",
         "x": [
          "2015Q1",
          "2015Q2",
          "2015Q3",
          "2015Q4",
          "2016Q1",
          "2016Q2",
          "2016Q3",
          "2016Q4",
          "2017Q1",
          "2017Q2",
          "2017Q3",
          "2017Q4",
          "2018Q1",
          "2018Q2",
          "2018Q3",
          "2018Q4"
         ],
         "y": [
          19,
          26.200000762939453,
          29,
          26.299999237060547,
          32.70000076293945,
          23.100000381469727,
          39.099998474121094,
          31.399999618530273,
          21.399999618530273,
          18.700000762939453,
          50.29999923706055,
          20.899999618530273,
          26,
          22.700000762939453,
          39,
          57.099998474121094
         ]
        },
        {
         "marker": {
          "color": "rgb(189,189,189)",
          "size": 8
         },
         "mode": "markers",
         "name": "Virginia",
         "type": "scatter",
         "x": [
          "2015Q1",
          "2018Q4"
         ],
         "y": [
          19,
          57.099998474121094
         ]
        },
        {
         "connectgaps": true,
         "line": {
          "color": "rgb(189,189,189)",
          "width": 2
         },
         "mode": "lines",
         "name": "Washington",
         "type": "scatter",
         "x": [
          "2015Q1",
          "2015Q2",
          "2015Q3",
          "2015Q4",
          "2016Q1",
          "2016Q2",
          "2016Q3",
          "2016Q4",
          "2017Q1",
          "2017Q2",
          "2017Q3",
          "2017Q4",
          "2018Q1",
          "2018Q2",
          "2018Q3",
          "2018Q4"
         ],
         "y": [
          21.5,
          48.70000076293945,
          45.599998474121094,
          6.900000095367432,
          23.299999237060547,
          40.900001525878906,
          65.19999694824219,
          21.399999618530273,
          6.800000190734863,
          21.299999237060547,
          23.700000762939453,
          21.700000762939453,
          8.5,
          55.900001525878906,
          7.099999904632568,
          34.5
         ]
        },
        {
         "marker": {
          "color": "rgb(189,189,189)",
          "size": 8
         },
         "mode": "markers",
         "name": "Washington",
         "type": "scatter",
         "x": [
          "2015Q1",
          "2018Q4"
         ],
         "y": [
          21.5,
          34.5
         ]
        },
        {
         "connectgaps": true,
         "line": {
          "color": "rgb(189,189,189)",
          "width": 2
         },
         "mode": "lines",
         "name": "West Virginia",
         "type": "scatter",
         "x": [
          "2015Q1",
          "2015Q2",
          "2015Q3",
          "2015Q4",
          "2016Q1",
          "2016Q2",
          "2016Q3",
          "2016Q4",
          "2017Q1",
          "2017Q2",
          "2017Q3",
          "2017Q4",
          "2018Q1",
          "2018Q2",
          "2018Q3",
          "2018Q4"
         ],
         "y": [
          18,
          15.600000381469727,
          21.700000762939453,
          18.799999237060547,
          21.899999618530273,
          20.100000381469727,
          41.5,
          23.799999237060547,
          15.800000190734863,
          11.600000381469727,
          23.200000762939453,
          60.099998474121094,
          15,
          13.800000190734863,
          57,
          29.5
         ]
        },
        {
         "marker": {
          "color": "rgb(189,189,189)",
          "size": 8
         },
         "mode": "markers",
         "name": "West Virginia",
         "type": "scatter",
         "x": [
          "2015Q1",
          "2018Q4"
         ],
         "y": [
          18,
          29.5
         ]
        },
        {
         "connectgaps": true,
         "line": {
          "color": "rgb(189,189,189)",
          "width": 2
         },
         "mode": "lines",
         "name": "Wisconsin",
         "type": "scatter",
         "x": [
          "2015Q1",
          "2015Q2",
          "2015Q3",
          "2015Q4",
          "2016Q1",
          "2016Q2",
          "2016Q3",
          "2016Q4",
          "2017Q1",
          "2017Q2",
          "2017Q3",
          "2017Q4",
          "2018Q1",
          "2018Q2",
          "2018Q3",
          "2018Q4"
         ],
         "y": [
          18.799999237060547,
          35.29999923706055,
          47.29999923706055,
          49.400001525878906,
          24.200000762939453,
          23.399999618530273,
          31.5,
          69.30000305175781,
          19,
          13.800000190734863,
          61.599998474121094,
          53.099998474121094,
          14.100000381469727,
          32.099998474121094,
          54.400001525878906,
          29.899999618530273
         ]
        },
        {
         "marker": {
          "color": "rgb(189,189,189)",
          "size": 8
         },
         "mode": "markers",
         "name": "Wisconsin",
         "type": "scatter",
         "x": [
          "2015Q1",
          "2018Q4"
         ],
         "y": [
          18.799999237060547,
          29.899999618530273
         ]
        }
       ],
       "layout": {
        "annotations": [
         {
          "font": {
           "family": "Arial",
           "size": 16
          },
          "showarrow": false,
          "text": "Arkansas",
          "x": 0.05,
          "xanchor": "right",
          "xref": "paper",
          "y": 17.600000381469727,
          "yanchor": "middle"
         },
         {
          "font": {
           "family": "Arial",
           "size": 16
          },
          "showarrow": false,
          "text": "82%",
          "x": 0.95,
          "xanchor": "left",
          "xref": "paper",
          "y": 82.80000305175781,
          "yanchor": "middle"
         },
         {
          "font": {
           "family": "Arial",
           "size": 16
          },
          "showarrow": false,
          "text": "Colorado",
          "x": 0.05,
          "xanchor": "right",
          "xref": "paper",
          "y": 14.600000381469727,
          "yanchor": "middle"
         },
         {
          "font": {
           "family": "Arial",
           "size": 16
          },
          "showarrow": false,
          "text": "73%",
          "x": 0.95,
          "xanchor": "left",
          "xref": "paper",
          "y": 73.19999694824219,
          "yanchor": "middle"
         },
         {
          "font": {
           "family": "Arial",
           "size": 16
          },
          "showarrow": false,
          "text": "Hawaii",
          "x": 0.05,
          "xanchor": "right",
          "xref": "paper",
          "y": 38.79999923706055,
          "yanchor": "middle"
         },
         {
          "font": {
           "family": "Arial",
           "size": 16
          },
          "showarrow": false,
          "text": "70%",
          "x": 0.95,
          "xanchor": "left",
          "xref": "paper",
          "y": 70.5,
          "yanchor": "middle"
         },
         {
          "font": {
           "family": "Arial",
           "size": 16
          },
          "showarrow": false,
          "text": "Idaho",
          "x": 0.05,
          "xanchor": "right",
          "xref": "paper",
          "y": 39.79999923706055,
          "yanchor": "middle"
         },
         {
          "font": {
           "family": "Arial",
           "size": 16
          },
          "showarrow": false,
          "text": "64%",
          "x": 0.95,
          "xanchor": "left",
          "xref": "paper",
          "y": 64.9000015258789,
          "yanchor": "middle"
         },
         {
          "font": {
           "family": "Arial",
           "size": 16
          },
          "showarrow": false,
          "text": "Kansas",
          "x": 0.05,
          "xanchor": "right",
          "xref": "paper",
          "y": 32.70000076293945,
          "yanchor": "middle"
         },
         {
          "font": {
           "family": "Arial",
           "size": 16
          },
          "showarrow": false,
          "text": "62%",
          "x": 0.95,
          "xanchor": "left",
          "xref": "paper",
          "y": 62,
          "yanchor": "middle"
         },
         {
          "font": {
           "family": "Arial",
           "size": 16
          },
          "showarrow": false,
          "text": "New Mexico",
          "x": 0.05,
          "xanchor": "right",
          "xref": "paper",
          "y": 17.100000381469727,
          "yanchor": "middle"
         },
         {
          "font": {
           "family": "Arial",
           "size": 16
          },
          "showarrow": false,
          "text": "81%",
          "x": 0.95,
          "xanchor": "left",
          "xref": "paper",
          "y": 81.30000305175781,
          "yanchor": "middle"
         },
         {
          "font": {
           "color": "rgb(37,37,37)",
           "family": "Arial",
           "size": 30
          },
          "showarrow": false,
          "text": "Varroa Mites",
          "x": 0,
          "xanchor": "left",
          "xref": "paper",
          "y": 1.05,
          "yanchor": "bottom",
          "yref": "paper"
         },
         {
          "font": {
           "color": "rgb(150,150,150)",
           "family": "Arial",
           "size": 12
          },
          "showarrow": false,
          "text": "Source: PewResearch Center & Storytelling with data",
          "x": 0.5,
          "xanchor": "center",
          "xref": "paper",
          "y": -0.2,
          "yanchor": "top",
          "yref": "paper"
         }
        ],
        "autosize": false,
        "height": 800,
        "margin": {
         "autoexpand": false,
         "l": 100,
         "r": 20,
         "t": 110
        },
        "plot_bgcolor": "white",
        "showlegend": false,
        "template": {
         "data": {
          "bar": [
           {
            "error_x": {
             "color": "#2a3f5f"
            },
            "error_y": {
             "color": "#2a3f5f"
            },
            "marker": {
             "line": {
              "color": "#E5ECF6",
              "width": 0.5
             }
            },
            "type": "bar"
           }
          ],
          "barpolar": [
           {
            "marker": {
             "line": {
              "color": "#E5ECF6",
              "width": 0.5
             }
            },
            "type": "barpolar"
           }
          ],
          "carpet": [
           {
            "aaxis": {
             "endlinecolor": "#2a3f5f",
             "gridcolor": "white",
             "linecolor": "white",
             "minorgridcolor": "white",
             "startlinecolor": "#2a3f5f"
            },
            "baxis": {
             "endlinecolor": "#2a3f5f",
             "gridcolor": "white",
             "linecolor": "white",
             "minorgridcolor": "white",
             "startlinecolor": "#2a3f5f"
            },
            "type": "carpet"
           }
          ],
          "choropleth": [
           {
            "colorbar": {
             "outlinewidth": 0,
             "ticks": ""
            },
            "type": "choropleth"
           }
          ],
          "contour": [
           {
            "colorbar": {
             "outlinewidth": 0,
             "ticks": ""
            },
            "colorscale": [
             [
              0,
              "#0d0887"
             ],
             [
              0.1111111111111111,
              "#46039f"
             ],
             [
              0.2222222222222222,
              "#7201a8"
             ],
             [
              0.3333333333333333,
              "#9c179e"
             ],
             [
              0.4444444444444444,
              "#bd3786"
             ],
             [
              0.5555555555555556,
              "#d8576b"
             ],
             [
              0.6666666666666666,
              "#ed7953"
             ],
             [
              0.7777777777777778,
              "#fb9f3a"
             ],
             [
              0.8888888888888888,
              "#fdca26"
             ],
             [
              1,
              "#f0f921"
             ]
            ],
            "type": "contour"
           }
          ],
          "contourcarpet": [
           {
            "colorbar": {
             "outlinewidth": 0,
             "ticks": ""
            },
            "type": "contourcarpet"
           }
          ],
          "heatmap": [
           {
            "colorbar": {
             "outlinewidth": 0,
             "ticks": ""
            },
            "colorscale": [
             [
              0,
              "#0d0887"
             ],
             [
              0.1111111111111111,
              "#46039f"
             ],
             [
              0.2222222222222222,
              "#7201a8"
             ],
             [
              0.3333333333333333,
              "#9c179e"
             ],
             [
              0.4444444444444444,
              "#bd3786"
             ],
             [
              0.5555555555555556,
              "#d8576b"
             ],
             [
              0.6666666666666666,
              "#ed7953"
             ],
             [
              0.7777777777777778,
              "#fb9f3a"
             ],
             [
              0.8888888888888888,
              "#fdca26"
             ],
             [
              1,
              "#f0f921"
             ]
            ],
            "type": "heatmap"
           }
          ],
          "heatmapgl": [
           {
            "colorbar": {
             "outlinewidth": 0,
             "ticks": ""
            },
            "colorscale": [
             [
              0,
              "#0d0887"
             ],
             [
              0.1111111111111111,
              "#46039f"
             ],
             [
              0.2222222222222222,
              "#7201a8"
             ],
             [
              0.3333333333333333,
              "#9c179e"
             ],
             [
              0.4444444444444444,
              "#bd3786"
             ],
             [
              0.5555555555555556,
              "#d8576b"
             ],
             [
              0.6666666666666666,
              "#ed7953"
             ],
             [
              0.7777777777777778,
              "#fb9f3a"
             ],
             [
              0.8888888888888888,
              "#fdca26"
             ],
             [
              1,
              "#f0f921"
             ]
            ],
            "type": "heatmapgl"
           }
          ],
          "histogram": [
           {
            "marker": {
             "colorbar": {
              "outlinewidth": 0,
              "ticks": ""
             }
            },
            "type": "histogram"
           }
          ],
          "histogram2d": [
           {
            "colorbar": {
             "outlinewidth": 0,
             "ticks": ""
            },
            "colorscale": [
             [
              0,
              "#0d0887"
             ],
             [
              0.1111111111111111,
              "#46039f"
             ],
             [
              0.2222222222222222,
              "#7201a8"
             ],
             [
              0.3333333333333333,
              "#9c179e"
             ],
             [
              0.4444444444444444,
              "#bd3786"
             ],
             [
              0.5555555555555556,
              "#d8576b"
             ],
             [
              0.6666666666666666,
              "#ed7953"
             ],
             [
              0.7777777777777778,
              "#fb9f3a"
             ],
             [
              0.8888888888888888,
              "#fdca26"
             ],
             [
              1,
              "#f0f921"
             ]
            ],
            "type": "histogram2d"
           }
          ],
          "histogram2dcontour": [
           {
            "colorbar": {
             "outlinewidth": 0,
             "ticks": ""
            },
            "colorscale": [
             [
              0,
              "#0d0887"
             ],
             [
              0.1111111111111111,
              "#46039f"
             ],
             [
              0.2222222222222222,
              "#7201a8"
             ],
             [
              0.3333333333333333,
              "#9c179e"
             ],
             [
              0.4444444444444444,
              "#bd3786"
             ],
             [
              0.5555555555555556,
              "#d8576b"
             ],
             [
              0.6666666666666666,
              "#ed7953"
             ],
             [
              0.7777777777777778,
              "#fb9f3a"
             ],
             [
              0.8888888888888888,
              "#fdca26"
             ],
             [
              1,
              "#f0f921"
             ]
            ],
            "type": "histogram2dcontour"
           }
          ],
          "mesh3d": [
           {
            "colorbar": {
             "outlinewidth": 0,
             "ticks": ""
            },
            "type": "mesh3d"
           }
          ],
          "parcoords": [
           {
            "line": {
             "colorbar": {
              "outlinewidth": 0,
              "ticks": ""
             }
            },
            "type": "parcoords"
           }
          ],
          "scatter": [
           {
            "marker": {
             "colorbar": {
              "outlinewidth": 0,
              "ticks": ""
             }
            },
            "type": "scatter"
           }
          ],
          "scatter3d": [
           {
            "line": {
             "colorbar": {
              "outlinewidth": 0,
              "ticks": ""
             }
            },
            "marker": {
             "colorbar": {
              "outlinewidth": 0,
              "ticks": ""
             }
            },
            "type": "scatter3d"
           }
          ],
          "scattercarpet": [
           {
            "marker": {
             "colorbar": {
              "outlinewidth": 0,
              "ticks": ""
             }
            },
            "type": "scattercarpet"
           }
          ],
          "scattergeo": [
           {
            "marker": {
             "colorbar": {
              "outlinewidth": 0,
              "ticks": ""
             }
            },
            "type": "scattergeo"
           }
          ],
          "scattergl": [
           {
            "marker": {
             "colorbar": {
              "outlinewidth": 0,
              "ticks": ""
             }
            },
            "type": "scattergl"
           }
          ],
          "scattermapbox": [
           {
            "marker": {
             "colorbar": {
              "outlinewidth": 0,
              "ticks": ""
             }
            },
            "type": "scattermapbox"
           }
          ],
          "scatterpolar": [
           {
            "marker": {
             "colorbar": {
              "outlinewidth": 0,
              "ticks": ""
             }
            },
            "type": "scatterpolar"
           }
          ],
          "scatterpolargl": [
           {
            "marker": {
             "colorbar": {
              "outlinewidth": 0,
              "ticks": ""
             }
            },
            "type": "scatterpolargl"
           }
          ],
          "scatterternary": [
           {
            "marker": {
             "colorbar": {
              "outlinewidth": 0,
              "ticks": ""
             }
            },
            "type": "scatterternary"
           }
          ],
          "surface": [
           {
            "colorbar": {
             "outlinewidth": 0,
             "ticks": ""
            },
            "colorscale": [
             [
              0,
              "#0d0887"
             ],
             [
              0.1111111111111111,
              "#46039f"
             ],
             [
              0.2222222222222222,
              "#7201a8"
             ],
             [
              0.3333333333333333,
              "#9c179e"
             ],
             [
              0.4444444444444444,
              "#bd3786"
             ],
             [
              0.5555555555555556,
              "#d8576b"
             ],
             [
              0.6666666666666666,
              "#ed7953"
             ],
             [
              0.7777777777777778,
              "#fb9f3a"
             ],
             [
              0.8888888888888888,
              "#fdca26"
             ],
             [
              1,
              "#f0f921"
             ]
            ],
            "type": "surface"
           }
          ],
          "table": [
           {
            "cells": {
             "fill": {
              "color": "#EBF0F8"
             },
             "line": {
              "color": "white"
             }
            },
            "header": {
             "fill": {
              "color": "#C8D4E3"
             },
             "line": {
              "color": "white"
             }
            },
            "type": "table"
           }
          ]
         },
         "layout": {
          "annotationdefaults": {
           "arrowcolor": "#2a3f5f",
           "arrowhead": 0,
           "arrowwidth": 1
          },
          "colorscale": {
           "diverging": [
            [
             0,
             "#8e0152"
            ],
            [
             0.1,
             "#c51b7d"
            ],
            [
             0.2,
             "#de77ae"
            ],
            [
             0.3,
             "#f1b6da"
            ],
            [
             0.4,
             "#fde0ef"
            ],
            [
             0.5,
             "#f7f7f7"
            ],
            [
             0.6,
             "#e6f5d0"
            ],
            [
             0.7,
             "#b8e186"
            ],
            [
             0.8,
             "#7fbc41"
            ],
            [
             0.9,
             "#4d9221"
            ],
            [
             1,
             "#276419"
            ]
           ],
           "sequential": [
            [
             0,
             "#0d0887"
            ],
            [
             0.1111111111111111,
             "#46039f"
            ],
            [
             0.2222222222222222,
             "#7201a8"
            ],
            [
             0.3333333333333333,
             "#9c179e"
            ],
            [
             0.4444444444444444,
             "#bd3786"
            ],
            [
             0.5555555555555556,
             "#d8576b"
            ],
            [
             0.6666666666666666,
             "#ed7953"
            ],
            [
             0.7777777777777778,
             "#fb9f3a"
            ],
            [
             0.8888888888888888,
             "#fdca26"
            ],
            [
             1,
             "#f0f921"
            ]
           ],
           "sequentialminus": [
            [
             0,
             "#0d0887"
            ],
            [
             0.1111111111111111,
             "#46039f"
            ],
            [
             0.2222222222222222,
             "#7201a8"
            ],
            [
             0.3333333333333333,
             "#9c179e"
            ],
            [
             0.4444444444444444,
             "#bd3786"
            ],
            [
             0.5555555555555556,
             "#d8576b"
            ],
            [
             0.6666666666666666,
             "#ed7953"
            ],
            [
             0.7777777777777778,
             "#fb9f3a"
            ],
            [
             0.8888888888888888,
             "#fdca26"
            ],
            [
             1,
             "#f0f921"
            ]
           ]
          },
          "colorway": [
           "#636efa",
           "#EF553B",
           "#00cc96",
           "#ab63fa",
           "#FFA15A",
           "#19d3f3",
           "#FF6692",
           "#B6E880",
           "#FF97FF",
           "#FECB52"
          ],
          "font": {
           "color": "#2a3f5f"
          },
          "geo": {
           "bgcolor": "white",
           "lakecolor": "white",
           "landcolor": "#E5ECF6",
           "showlakes": true,
           "showland": true,
           "subunitcolor": "white"
          },
          "hoverlabel": {
           "align": "left"
          },
          "hovermode": "closest",
          "mapbox": {
           "style": "light"
          },
          "paper_bgcolor": "white",
          "plot_bgcolor": "#E5ECF6",
          "polar": {
           "angularaxis": {
            "gridcolor": "white",
            "linecolor": "white",
            "ticks": ""
           },
           "bgcolor": "#E5ECF6",
           "radialaxis": {
            "gridcolor": "white",
            "linecolor": "white",
            "ticks": ""
           }
          },
          "scene": {
           "xaxis": {
            "backgroundcolor": "#E5ECF6",
            "gridcolor": "white",
            "gridwidth": 2,
            "linecolor": "white",
            "showbackground": true,
            "ticks": "",
            "zerolinecolor": "white"
           },
           "yaxis": {
            "backgroundcolor": "#E5ECF6",
            "gridcolor": "white",
            "gridwidth": 2,
            "linecolor": "white",
            "showbackground": true,
            "ticks": "",
            "zerolinecolor": "white"
           },
           "zaxis": {
            "backgroundcolor": "#E5ECF6",
            "gridcolor": "white",
            "gridwidth": 2,
            "linecolor": "white",
            "showbackground": true,
            "ticks": "",
            "zerolinecolor": "white"
           }
          },
          "shapedefaults": {
           "line": {
            "color": "#2a3f5f"
           }
          },
          "ternary": {
           "aaxis": {
            "gridcolor": "white",
            "linecolor": "white",
            "ticks": ""
           },
           "baxis": {
            "gridcolor": "white",
            "linecolor": "white",
            "ticks": ""
           },
           "bgcolor": "#E5ECF6",
           "caxis": {
            "gridcolor": "white",
            "linecolor": "white",
            "ticks": ""
           }
          },
          "title": {
           "x": 0.05
          },
          "xaxis": {
           "automargin": true,
           "gridcolor": "white",
           "linecolor": "white",
           "ticks": "",
           "zerolinecolor": "white",
           "zerolinewidth": 2
          },
          "yaxis": {
           "automargin": true,
           "gridcolor": "white",
           "linecolor": "white",
           "ticks": "",
           "zerolinecolor": "white",
           "zerolinewidth": 2
          }
         }
        },
        "width": 800,
        "xaxis": {
         "linecolor": "rgb(204, 204, 204)",
         "linewidth": 2,
         "showgrid": false,
         "showline": true,
         "showticklabels": true,
         "tickfont": {
          "color": "rgb(82, 82, 82)",
          "family": "Arial",
          "size": 12
         },
         "ticks": "outside"
        },
        "yaxis": {
         "showgrid": false,
         "showline": false,
         "showticklabels": false,
         "zeroline": false
        }
       }
      },
      "text/html": [
       "<div>\n",
       "        \n",
       "        \n",
       "            <div id=\"f1174c3d-625c-4cf8-aea3-ef8774e86caa\" class=\"plotly-graph-div\" style=\"height:800px; width:800px;\"></div>\n",
       "            <script type=\"text/javascript\">\n",
       "                require([\"plotly\"], function(Plotly) {\n",
       "                    window.PLOTLYENV=window.PLOTLYENV || {};\n",
       "                    \n",
       "                if (document.getElementById(\"f1174c3d-625c-4cf8-aea3-ef8774e86caa\")) {\n",
       "                    Plotly.newPlot(\n",
       "                        'f1174c3d-625c-4cf8-aea3-ef8774e86caa',\n",
       "                        [{\"connectgaps\": true, \"line\": {\"color\": \"rgb(189,189,189)\", \"width\": 2}, \"mode\": \"lines\", \"name\": \"Alabama\", \"type\": \"scatter\", \"x\": [\"2015Q1\", \"2015Q2\", \"2015Q3\", \"2015Q4\", \"2016Q1\", \"2016Q2\", \"2016Q3\", \"2016Q4\", \"2017Q1\", \"2017Q2\", \"2017Q3\", \"2017Q4\", \"2018Q1\", \"2018Q2\", \"2018Q3\", \"2018Q4\"], \"y\": [10.0, 16.700000762939453, 63.099998474121094, 3.0999999046325684, 24.200000762939453, 9.600000381469727, 11.699999809265137, 12.300000190734863, 19.899999618530273, 17.899999618530273, 69.5, 22.299999237060547, 29.200000762939453, 25.200000762939453, 77.5, 20.600000381469727]}, {\"marker\": {\"color\": \"rgb(189,189,189)\", \"size\": 8}, \"mode\": \"markers\", \"name\": \"Alabama\", \"type\": \"scatter\", \"x\": [\"2015Q1\", \"2018Q4\"], \"y\": [10.0, 20.600000381469727]}, {\"connectgaps\": true, \"line\": {\"color\": \"rgb(189,189,189)\", \"width\": 2}, \"mode\": \"lines\", \"name\": \"Arizona\", \"type\": \"scatter\", \"x\": [\"2015Q1\", \"2015Q2\", \"2015Q3\", \"2015Q4\", \"2016Q1\", \"2016Q2\", \"2016Q3\", \"2016Q4\", \"2017Q1\", \"2017Q2\", \"2017Q3\", \"2017Q4\", \"2018Q1\", \"2018Q2\", \"2018Q3\", \"2018Q4\"], \"y\": [26.899999618530273, 8.399999618530273, 53.5, 50.099998474121094, 33.79999923706055, 26.799999237060547, 41.70000076293945, 98.80000305175781, 35.599998474121094, 58.400001525878906, 19.799999237060547, 61.599998474121094, 36.29999923706055, 73.80000305175781, 52.5, 20.600000381469727]}, {\"marker\": {\"color\": \"rgb(189,189,189)\", \"size\": 8}, \"mode\": \"markers\", \"name\": \"Arizona\", \"type\": \"scatter\", \"x\": [\"2015Q1\", \"2018Q4\"], \"y\": [26.899999618530273, 20.600000381469727]}, {\"connectgaps\": true, \"line\": {\"color\": \"red\", \"width\": 4}, \"mode\": \"lines\", \"name\": \"Arkansas\", \"type\": \"scatter\", \"x\": [\"2015Q1\", \"2015Q2\", \"2015Q3\", \"2015Q4\", \"2016Q1\", \"2016Q2\", \"2016Q3\", \"2016Q4\", \"2017Q1\", \"2017Q2\", \"2017Q3\", \"2017Q4\", \"2018Q1\", \"2018Q2\", \"2018Q3\", \"2018Q4\"], \"y\": [17.600000381469727, 65.9000015258789, 69.19999694824219, 38.099998474121094, 57.400001525878906, 84.9000015258789, 80.69999694824219, 21.100000381469727, 31.5, 19.399999618530273, 61.400001525878906, 37.5, 21.100000381469727, 30.899999618530273, 29.899999618530273, 82.80000305175781]}, {\"marker\": {\"color\": \"red\", \"size\": 12}, \"mode\": \"markers\", \"name\": \"Arkansas\", \"type\": \"scatter\", \"x\": [\"2015Q1\", \"2018Q4\"], \"y\": [17.600000381469727, 82.80000305175781]}, {\"connectgaps\": true, \"line\": {\"color\": \"rgb(189,189,189)\", \"width\": 2}, \"mode\": \"lines\", \"name\": \"California\", \"type\": \"scatter\", \"x\": [\"2015Q1\", \"2015Q2\", \"2015Q3\", \"2015Q4\", \"2016Q1\", \"2016Q2\", \"2016Q3\", \"2016Q4\", \"2017Q1\", \"2017Q2\", \"2017Q3\", \"2017Q4\", \"2018Q1\", \"2018Q2\", \"2018Q3\", \"2018Q4\"], \"y\": [24.700000762939453, 50.900001525878906, 39.900001525878906, 37.29999923706055, 38.099998474121094, 49.70000076293945, 42.20000076293945, 41.900001525878906, 37.70000076293945, 38.0, 42.29999923706055, 47.900001525878906, 41.29999923706055, 41.5, 57.29999923706055, 44.099998474121094]}, {\"marker\": {\"color\": \"rgb(189,189,189)\", \"size\": 8}, \"mode\": \"markers\", \"name\": \"California\", \"type\": \"scatter\", \"x\": [\"2015Q1\", \"2018Q4\"], \"y\": [24.700000762939453, 44.099998474121094]}, {\"connectgaps\": true, \"line\": {\"color\": \"red\", \"width\": 4}, \"mode\": \"lines\", \"name\": \"Colorado\", \"type\": \"scatter\", \"x\": [\"2015Q1\", \"2015Q2\", \"2015Q3\", \"2015Q4\", \"2016Q1\", \"2016Q2\", \"2016Q3\", \"2016Q4\", \"2017Q1\", \"2017Q2\", \"2017Q3\", \"2017Q4\", \"2018Q1\", \"2018Q2\", \"2018Q3\", \"2018Q4\"], \"y\": [14.600000381469727, 38.599998474121094, 50.5, 47.599998474121094, 2.9000000953674316, 38.70000076293945, 49.29999923706055, 32.400001525878906, 17.0, 31.299999237060547, 52.900001525878906, 30.200000762939453, 31.700000762939453, 41.70000076293945, 72.5999984741211, 73.19999694824219]}, {\"marker\": {\"color\": \"red\", \"size\": 12}, \"mode\": \"markers\", \"name\": \"Colorado\", \"type\": \"scatter\", \"x\": [\"2015Q1\", \"2018Q4\"], \"y\": [14.600000381469727, 73.19999694824219]}, {\"connectgaps\": true, \"line\": {\"color\": \"rgb(189,189,189)\", \"width\": 2}, \"mode\": \"lines\", \"name\": \"Connecticut\", \"type\": \"scatter\", \"x\": [\"2015Q1\", \"2015Q2\", \"2015Q3\", \"2015Q4\", \"2016Q1\", \"2016Q2\", \"2016Q3\", \"2016Q4\", \"2017Q1\", \"2017Q2\", \"2017Q3\", \"2017Q4\", \"2018Q1\", \"2018Q2\", \"2018Q3\", \"2018Q4\"], \"y\": [2.5, 10.199999809265137, 39.29999923706055, 10.5, 12.300000190734863, 9.300000190734863, 18.799999237060547, 14.699999809265137, 51.5, 9.100000381469727, 25.100000381469727, 36.400001525878906, 14.5, 11.100000381469727, 13.0, 12.5]}, {\"marker\": {\"color\": \"rgb(189,189,189)\", \"size\": 8}, \"mode\": \"markers\", \"name\": \"Connecticut\", \"type\": \"scatter\", \"x\": [\"2015Q1\", \"2018Q4\"], \"y\": [2.5, 12.5]}, {\"connectgaps\": true, \"line\": {\"color\": \"rgb(189,189,189)\", \"width\": 2}, \"mode\": \"lines\", \"name\": \"Florida\", \"type\": \"scatter\", \"x\": [\"2015Q1\", \"2015Q2\", \"2015Q3\", \"2015Q4\", \"2016Q1\", \"2016Q2\", \"2016Q3\", \"2016Q4\", \"2017Q1\", \"2017Q2\", \"2017Q3\", \"2017Q4\", \"2018Q1\", \"2018Q2\", \"2018Q3\", \"2018Q4\"], \"y\": [22.299999237060547, 44.20000076293945, 39.5, 27.299999237060547, 23.600000381469727, 48.20000076293945, 45.099998474121094, 30.899999618530273, 37.599998474121094, 36.5, 42.900001525878906, 41.400001525878906, 31.700000762939453, 45.29999923706055, 35.0, 46.70000076293945]}, {\"marker\": {\"color\": \"rgb(189,189,189)\", \"size\": 8}, \"mode\": \"markers\", \"name\": \"Florida\", \"type\": \"scatter\", \"x\": [\"2015Q1\", \"2018Q4\"], \"y\": [22.299999237060547, 46.70000076293945]}, {\"connectgaps\": true, \"line\": {\"color\": \"rgb(189,189,189)\", \"width\": 2}, \"mode\": \"lines\", \"name\": \"Georgia\", \"type\": \"scatter\", \"x\": [\"2015Q1\", \"2015Q2\", \"2015Q3\", \"2015Q4\", \"2016Q1\", \"2016Q2\", \"2016Q3\", \"2016Q4\", \"2017Q1\", \"2017Q2\", \"2017Q3\", \"2017Q4\", \"2018Q1\", \"2018Q2\", \"2018Q3\", \"2018Q4\"], \"y\": [6.199999809265137, 52.79999923706055, 47.599998474121094, 43.5, 32.29999923706055, 59.29999923706055, 30.700000762939453, 43.599998474121094, 35.29999923706055, 34.099998474121094, 47.599998474121094, 56.79999923706055, 39.599998474121094, 53.0, 49.79999923706055, 41.400001525878906]}, {\"marker\": {\"color\": \"rgb(189,189,189)\", \"size\": 8}, \"mode\": \"markers\", \"name\": \"Georgia\", \"type\": \"scatter\", \"x\": [\"2015Q1\", \"2018Q4\"], \"y\": [6.199999809265137, 41.400001525878906]}, {\"connectgaps\": true, \"line\": {\"color\": \"red\", \"width\": 4}, \"mode\": \"lines\", \"name\": \"Hawaii\", \"type\": \"scatter\", \"x\": [\"2015Q1\", \"2015Q2\", \"2015Q3\", \"2015Q4\", \"2016Q1\", \"2016Q2\", \"2016Q3\", \"2016Q4\", \"2017Q1\", \"2017Q2\", \"2017Q3\", \"2017Q4\", \"2018Q1\", \"2018Q2\", \"2018Q3\", \"2018Q4\"], \"y\": [38.79999923706055, 60.099998474121094, 78.0999984741211, 31.0, 0.30000001192092896, 35.599998474121094, 67.80000305175781, 39.900001525878906, 1.2000000476837158, 88.9000015258789, 2.799999952316284, 57.20000076293945, 83.0, 88.30000305175781, 88.30000305175781, 70.5]}, {\"marker\": {\"color\": \"red\", \"size\": 12}, \"mode\": \"markers\", \"name\": \"Hawaii\", \"type\": \"scatter\", \"x\": [\"2015Q1\", \"2018Q4\"], \"y\": [38.79999923706055, 70.5]}, {\"connectgaps\": true, \"line\": {\"color\": \"red\", \"width\": 4}, \"mode\": \"lines\", \"name\": \"Idaho\", \"type\": \"scatter\", \"x\": [\"2015Q1\", \"2015Q2\", \"2015Q3\", \"2015Q4\", \"2016Q1\", \"2016Q2\", \"2016Q3\", \"2016Q4\", \"2017Q1\", \"2017Q2\", \"2017Q3\", \"2017Q4\", \"2018Q1\", \"2018Q2\", \"2018Q3\", \"2018Q4\"], \"y\": [39.79999923706055, 25.5, 46.79999923706055, 38.900001525878906, 31.5, 21.200000762939453, 25.299999237060547, 31.899999618530273, 74.19999694824219, 30.5, 53.70000076293945, 34.0, 28.299999237060547, 51.599998474121094, 83.5999984741211, 64.9000015258789]}, {\"marker\": {\"color\": \"red\", \"size\": 12}, \"mode\": \"markers\", \"name\": \"Idaho\", \"type\": \"scatter\", \"x\": [\"2015Q1\", \"2018Q4\"], \"y\": [39.79999923706055, 64.9000015258789]}, {\"connectgaps\": true, \"line\": {\"color\": \"rgb(189,189,189)\", \"width\": 2}, \"mode\": \"lines\", \"name\": \"Illinois\", \"type\": \"scatter\", \"x\": [\"2015Q1\", \"2015Q2\", \"2015Q3\", \"2015Q4\", \"2016Q1\", \"2016Q2\", \"2016Q3\", \"2016Q4\", \"2017Q1\", \"2017Q2\", \"2017Q3\", \"2017Q4\", \"2018Q1\", \"2018Q2\", \"2018Q3\", \"2018Q4\"], \"y\": [12.300000190734863, 10.300000190734863, 7.699999809265137, 9.399999618530273, 12.399999618530273, 11.399999618530273, 17.399999618530273, 27.799999237060547, 21.200000762939453, 11.300000190734863, 29.899999618530273, 28.899999618530273, 25.700000762939453, 13.699999809265137, 21.200000762939453, 27.200000762939453]}, {\"marker\": {\"color\": \"rgb(189,189,189)\", \"size\": 8}, \"mode\": \"markers\", \"name\": \"Illinois\", \"type\": \"scatter\", \"x\": [\"2015Q1\", \"2018Q4\"], \"y\": [12.300000190734863, 27.200000762939453]}, {\"connectgaps\": true, \"line\": {\"color\": \"rgb(189,189,189)\", \"width\": 2}, \"mode\": \"lines\", \"name\": \"Indiana\", \"type\": \"scatter\", \"x\": [\"2015Q1\", \"2015Q2\", \"2015Q3\", \"2015Q4\", \"2016Q1\", \"2016Q2\", \"2016Q3\", \"2016Q4\", \"2017Q1\", \"2017Q2\", \"2017Q3\", \"2017Q4\", \"2018Q1\", \"2018Q2\", \"2018Q3\", \"2018Q4\"], \"y\": [20.700000762939453, 15.399999618530273, 13.699999809265137, 15.100000381469727, 17.399999618530273, 12.5, 50.400001525878906, 28.200000762939453, 15.800000190734863, 5.5, 13.899999618530273, 23.5, 33.400001525878906, 78.0, 29.5, 51.29999923706055]}, {\"marker\": {\"color\": \"rgb(189,189,189)\", \"size\": 8}, \"mode\": \"markers\", \"name\": \"Indiana\", \"type\": \"scatter\", \"x\": [\"2015Q1\", \"2018Q4\"], \"y\": [20.700000762939453, 51.29999923706055]}, {\"connectgaps\": true, \"line\": {\"color\": \"rgb(189,189,189)\", \"width\": 2}, \"mode\": \"lines\", \"name\": \"Iowa\", \"type\": \"scatter\", \"x\": [\"2015Q1\", \"2015Q2\", \"2015Q3\", \"2015Q4\", \"2016Q1\", \"2016Q2\", \"2016Q3\", \"2016Q4\", \"2017Q1\", \"2017Q2\", \"2017Q3\", \"2017Q4\", \"2018Q1\", \"2018Q2\", \"2018Q3\", \"2018Q4\"], \"y\": [26.0, 21.5, 17.399999618530273, 53.400001525878906, 52.79999923706055, 23.5, 32.599998474121094, 18.700000762939453, 33.599998474121094, 39.29999923706055, 17.200000762939453, 61.0, 5.300000190734863, 12.699999809265137, 29.899999618530273, 55.099998474121094]}, {\"marker\": {\"color\": \"rgb(189,189,189)\", \"size\": 8}, \"mode\": \"markers\", \"name\": \"Iowa\", \"type\": \"scatter\", \"x\": [\"2015Q1\", \"2018Q4\"], \"y\": [26.0, 55.099998474121094]}, {\"connectgaps\": true, \"line\": {\"color\": \"red\", \"width\": 4}, \"mode\": \"lines\", \"name\": \"Kansas\", \"type\": \"scatter\", \"x\": [\"2015Q1\", \"2015Q2\", \"2015Q3\", \"2015Q4\", \"2016Q1\", \"2016Q2\", \"2016Q3\", \"2016Q4\", \"2017Q1\", \"2017Q2\", \"2017Q3\", \"2017Q4\", \"2018Q1\", \"2018Q2\", \"2018Q3\", \"2018Q4\"], \"y\": [32.70000076293945, 14.399999618530273, 22.5, 44.5, 30.299999237060547, 47.29999923706055, 42.79999923706055, 29.200000762939453, 47.20000076293945, 17.299999237060547, 65.4000015258789, 17.899999618530273, 63.0, 42.79999923706055, 76.80000305175781, 62.0]}, {\"marker\": {\"color\": \"red\", \"size\": 12}, \"mode\": \"markers\", \"name\": \"Kansas\", \"type\": \"scatter\", \"x\": [\"2015Q1\", \"2018Q4\"], \"y\": [32.70000076293945, 62.0]}, {\"connectgaps\": true, \"line\": {\"color\": \"rgb(189,189,189)\", \"width\": 2}, \"mode\": \"lines\", \"name\": \"Kentucky\", \"type\": \"scatter\", \"x\": [\"2015Q1\", \"2015Q2\", \"2015Q3\", \"2015Q4\", \"2016Q1\", \"2016Q2\", \"2016Q3\", \"2016Q4\", \"2017Q1\", \"2017Q2\", \"2017Q3\", \"2017Q4\", \"2018Q1\", \"2018Q2\", \"2018Q3\", \"2018Q4\"], \"y\": [10.800000190734863, 21.700000762939453, 40.400001525878906, 22.200000762939453, 23.600000381469727, 38.900001525878906, 42.29999923706055, 48.20000076293945, 31.899999618530273, 25.700000762939453, 46.400001525878906, 54.29999923706055, 43.0, 40.900001525878906, 47.099998474121094, 57.099998474121094]}, {\"marker\": {\"color\": \"rgb(189,189,189)\", \"size\": 8}, \"mode\": \"markers\", \"name\": \"Kentucky\", \"type\": \"scatter\", \"x\": [\"2015Q1\", \"2018Q4\"], \"y\": [10.800000190734863, 57.099998474121094]}, {\"connectgaps\": true, \"line\": {\"color\": \"rgb(189,189,189)\", \"width\": 2}, \"mode\": \"lines\", \"name\": \"Louisiana\", \"type\": \"scatter\", \"x\": [\"2015Q1\", \"2015Q2\", \"2015Q3\", \"2015Q4\", \"2016Q1\", \"2016Q2\", \"2016Q3\", \"2016Q4\", \"2017Q1\", \"2017Q2\", \"2017Q3\", \"2017Q4\", \"2018Q1\", \"2018Q2\", \"2018Q3\", \"2018Q4\"], \"y\": [17.200000762939453, 36.400001525878906, 25.899999618530273, 10.899999618530273, 22.799999237060547, 20.700000762939453, 39.5, 2.9000000953674316, 25.799999237060547, 23.200000762939453, 59.20000076293945, 31.5, 4.900000095367432, 8.100000381469727, 31.299999237060547, 16.600000381469727]}, {\"marker\": {\"color\": \"rgb(189,189,189)\", \"size\": 8}, \"mode\": \"markers\", \"name\": \"Louisiana\", \"type\": \"scatter\", \"x\": [\"2015Q1\", \"2018Q4\"], \"y\": [17.200000762939453, 16.600000381469727]}, {\"connectgaps\": true, \"line\": {\"color\": \"rgb(189,189,189)\", \"width\": 2}, \"mode\": \"lines\", \"name\": \"Maine\", \"type\": \"scatter\", \"x\": [\"2015Q1\", \"2015Q2\", \"2015Q3\", \"2015Q4\", \"2016Q1\", \"2016Q2\", \"2016Q3\", \"2016Q4\", \"2017Q1\", \"2017Q2\", \"2017Q3\", \"2017Q4\", \"2018Q1\", \"2018Q2\", \"2018Q3\", \"2018Q4\"], \"y\": [4.400000095367432, 72.0999984741211, 9.899999618530273, 18.0, 3.299999952316284, 82.69999694824219, 9.300000190734863, 10.699999809265137, 23.899999618530273, 4.400000095367432, 3.4000000953674316, 24.899999618530273, 23.600000381469727, 1.399999976158142, 37.0, 9.300000190734863]}, {\"marker\": {\"color\": \"rgb(189,189,189)\", \"size\": 8}, \"mode\": \"markers\", \"name\": \"Maine\", \"type\": \"scatter\", \"x\": [\"2015Q1\", \"2018Q4\"], \"y\": [4.400000095367432, 9.300000190734863]}, {\"connectgaps\": true, \"line\": {\"color\": \"rgb(189,189,189)\", \"width\": 2}, \"mode\": \"lines\", \"name\": \"Maryland\", \"type\": \"scatter\", \"x\": [\"2015Q1\", \"2015Q2\", \"2015Q3\", \"2015Q4\", \"2016Q1\", \"2016Q2\", \"2016Q3\", \"2016Q4\", \"2017Q1\", \"2017Q2\", \"2017Q3\", \"2017Q4\", \"2018Q1\", \"2018Q2\", \"2018Q3\", \"2018Q4\"], \"y\": [10.100000381469727, 4.900000095367432, 26.899999618530273, 5.599999904632568, 26.200000762939453, 4.199999809265137, 10.800000190734863, 23.799999237060547, 11.300000190734863, 3.299999952316284, 8.800000190734863, 7.900000095367432, 18.200000762939453, 11.800000190734863, 11.699999809265137, 16.600000381469727]}, {\"marker\": {\"color\": \"rgb(189,189,189)\", \"size\": 8}, \"mode\": \"markers\", \"name\": \"Maryland\", \"type\": \"scatter\", \"x\": [\"2015Q1\", \"2018Q4\"], \"y\": [10.100000381469727, 16.600000381469727]}, {\"connectgaps\": true, \"line\": {\"color\": \"rgb(189,189,189)\", \"width\": 2}, \"mode\": \"lines\", \"name\": \"Massachusetts\", \"type\": \"scatter\", \"x\": [\"2015Q1\", \"2015Q2\", \"2015Q3\", \"2015Q4\", \"2016Q1\", \"2016Q2\", \"2016Q3\", \"2016Q4\", \"2017Q1\", \"2017Q2\", \"2017Q3\", \"2017Q4\", \"2018Q1\", \"2018Q2\", \"2018Q3\", \"2018Q4\"], \"y\": [23.5, 66.80000305175781, 16.299999237060547, 31.399999618530273, 10.100000381469727, 40.5, 14.100000381469727, 6.099999904632568, 32.5, 14.800000190734863, 82.0, 13.199999809265137, 19.600000381469727, 6.300000190734863, 75.9000015258789, 33.20000076293945]}, {\"marker\": {\"color\": \"rgb(189,189,189)\", \"size\": 8}, \"mode\": \"markers\", \"name\": \"Massachusetts\", \"type\": \"scatter\", \"x\": [\"2015Q1\", \"2018Q4\"], \"y\": [23.5, 33.20000076293945]}, {\"connectgaps\": true, \"line\": {\"color\": \"rgb(189,189,189)\", \"width\": 2}, \"mode\": \"lines\", \"name\": \"Michigan\", \"type\": \"scatter\", \"x\": [\"2015Q1\", \"2015Q2\", \"2015Q3\", \"2015Q4\", \"2016Q1\", \"2016Q2\", \"2016Q3\", \"2016Q4\", \"2017Q1\", \"2017Q2\", \"2017Q3\", \"2017Q4\", \"2018Q1\", \"2018Q2\", \"2018Q3\", \"2018Q4\"], \"y\": [14.300000190734863, 26.899999618530273, 44.599998474121094, 30.200000762939453, 5.900000095367432, 54.099998474121094, 64.0999984741211, 23.899999618530273, 7.900000095367432, 19.100000381469727, 56.79999923706055, 53.79999923706055, 21.399999618530273, 75.4000015258789, 92.4000015258789, 52.0]}, {\"marker\": {\"color\": \"rgb(189,189,189)\", \"size\": 8}, \"mode\": \"markers\", \"name\": \"Michigan\", \"type\": \"scatter\", \"x\": [\"2015Q1\", \"2018Q4\"], \"y\": [14.300000190734863, 52.0]}, {\"connectgaps\": true, \"line\": {\"color\": \"rgb(189,189,189)\", \"width\": 2}, \"mode\": \"lines\", \"name\": \"Minnesota\", \"type\": \"scatter\", \"x\": [\"2015Q1\", \"2015Q2\", \"2015Q3\", \"2015Q4\", \"2016Q1\", \"2016Q2\", \"2016Q3\", \"2016Q4\", \"2017Q1\", \"2017Q2\", \"2017Q3\", \"2017Q4\", \"2018Q1\", \"2018Q2\", \"2018Q3\", \"2018Q4\"], \"y\": [1.399999976158142, 25.399999618530273, 33.29999923706055, 43.599998474121094, 12.100000381469727, 20.799999237060547, 47.20000076293945, 27.5, 2.0999999046325684, 20.5, 39.79999923706055, 62.900001525878906, 2.0, 12.899999618530273, 44.5, 28.399999618530273]}, {\"marker\": {\"color\": \"rgb(189,189,189)\", \"size\": 8}, \"mode\": \"markers\", \"name\": \"Minnesota\", \"type\": \"scatter\", \"x\": [\"2015Q1\", \"2018Q4\"], \"y\": [1.399999976158142, 28.399999618530273]}, {\"connectgaps\": true, \"line\": {\"color\": \"rgb(189,189,189)\", \"width\": 2}, \"mode\": \"lines\", \"name\": \"Mississippi\", \"type\": \"scatter\", \"x\": [\"2015Q1\", \"2015Q2\", \"2015Q3\", \"2015Q4\", \"2016Q1\", \"2016Q2\", \"2016Q3\", \"2016Q4\", \"2017Q1\", \"2017Q2\", \"2017Q3\", \"2017Q4\", \"2018Q1\", \"2018Q2\", \"2018Q3\", \"2018Q4\"], \"y\": [9.399999618530273, 10.100000381469727, 45.5, 10.600000381469727, 13.800000190734863, 12.300000190734863, 27.5, 21.899999618530273, 41.70000076293945, 14.0, 71.0999984741211, 19.299999237060547, 7.0, 44.599998474121094, 25.200000762939453, 26.5]}, {\"marker\": {\"color\": \"rgb(189,189,189)\", \"size\": 8}, \"mode\": \"markers\", \"name\": \"Mississippi\", \"type\": \"scatter\", \"x\": [\"2015Q1\", \"2018Q4\"], \"y\": [9.399999618530273, 26.5]}, {\"connectgaps\": true, \"line\": {\"color\": \"rgb(189,189,189)\", \"width\": 2}, \"mode\": \"lines\", \"name\": \"Missouri\", \"type\": \"scatter\", \"x\": [\"2015Q1\", \"2015Q2\", \"2015Q3\", \"2015Q4\", \"2016Q1\", \"2016Q2\", \"2016Q3\", \"2016Q4\", \"2017Q1\", \"2017Q2\", \"2017Q3\", \"2017Q4\", \"2018Q1\", \"2018Q2\", \"2018Q3\", \"2018Q4\"], \"y\": [13.100000381469727, 5.099999904632568, 11.100000381469727, 2.799999952316284, 20.200000762939453, 17.200000762939453, 13.300000190734863, 16.100000381469727, 16.600000381469727, 13.399999618530273, 77.69999694824219, 16.700000762939453, 86.0, 11.800000190734863, 18.200000762939453, 37.0]}, {\"marker\": {\"color\": \"rgb(189,189,189)\", \"size\": 8}, \"mode\": \"markers\", \"name\": \"Missouri\", \"type\": \"scatter\", \"x\": [\"2015Q1\", \"2018Q4\"], \"y\": [13.100000381469727, 37.0]}, {\"connectgaps\": true, \"line\": {\"color\": \"rgb(189,189,189)\", \"width\": 2}, \"mode\": \"lines\", \"name\": \"Montana\", \"type\": \"scatter\", \"x\": [\"2015Q1\", \"2015Q2\", \"2015Q3\", \"2015Q4\", \"2016Q1\", \"2016Q2\", \"2016Q3\", \"2016Q4\", \"2017Q1\", \"2017Q2\", \"2017Q3\", \"2017Q4\", \"2018Q1\", \"2018Q2\", \"2018Q3\", \"2018Q4\"], \"y\": [8.699999809265137, 9.0, 52.5, 35.5, 0.6000000238418579, 30.299999237060547, 41.900001525878906, 59.099998474121094, 34.0, 20.0, 42.29999923706055, 54.20000076293945, 28.899999618530273, 42.900001525878906, 43.79999923706055, 40.70000076293945]}, {\"marker\": {\"color\": \"rgb(189,189,189)\", \"size\": 8}, \"mode\": \"markers\", \"name\": \"Montana\", \"type\": \"scatter\", \"x\": [\"2015Q1\", \"2018Q4\"], \"y\": [8.699999809265137, 40.70000076293945]}, {\"connectgaps\": true, \"line\": {\"color\": \"rgb(189,189,189)\", \"width\": 2}, \"mode\": \"lines\", \"name\": \"Nebraska\", \"type\": \"scatter\", \"x\": [\"2015Q1\", \"2015Q2\", \"2015Q3\", \"2015Q4\", \"2016Q1\", \"2016Q2\", \"2016Q3\", \"2016Q4\", \"2017Q1\", \"2017Q2\", \"2017Q3\", \"2017Q4\", \"2018Q1\", \"2018Q2\", \"2018Q3\", \"2018Q4\"], \"y\": [5.900000095367432, 6.5, 33.20000076293945, 15.5, 1.7999999523162842, 6.099999904632568, 20.399999618530273, 10.5, 14.800000190734863, 50.099998474121094, 15.100000381469727, 26.600000381469727, 4.5, 5.0, 24.100000381469727, 3.0]}, {\"marker\": {\"color\": \"rgb(189,189,189)\", \"size\": 8}, \"mode\": \"markers\", \"name\": \"Nebraska\", \"type\": \"scatter\", \"x\": [\"2015Q1\", \"2018Q4\"], \"y\": [5.900000095367432, 3.0]}, {\"connectgaps\": true, \"line\": {\"color\": \"rgb(189,189,189)\", \"width\": 2}, \"mode\": \"lines\", \"name\": \"New Jersey\", \"type\": \"scatter\", \"x\": [\"2015Q1\", \"2015Q2\", \"2015Q3\", \"2015Q4\", \"2016Q1\", \"2016Q2\", \"2016Q3\", \"2016Q4\", \"2017Q1\", \"2017Q2\", \"2017Q3\", \"2017Q4\", \"2018Q1\", \"2018Q2\", \"2018Q3\", \"2018Q4\"], \"y\": [40.099998474121094, 52.5, 7.199999809265137, 7.699999809265137, 8.0, 11.899999618530273, 20.200000762939453, 28.600000381469727, 16.299999237060547, 21.399999618530273, 10.699999809265137, 18.899999618530273, 14.899999618530273, 16.5, 12.300000190734863, 14.0]}, {\"marker\": {\"color\": \"rgb(189,189,189)\", \"size\": 8}, \"mode\": \"markers\", \"name\": \"New Jersey\", \"type\": \"scatter\", \"x\": [\"2015Q1\", \"2018Q4\"], \"y\": [40.099998474121094, 14.0]}, {\"connectgaps\": true, \"line\": {\"color\": \"red\", \"width\": 4}, \"mode\": \"lines\", \"name\": \"New Mexico\", \"type\": \"scatter\", \"x\": [\"2015Q1\", \"2015Q2\", \"2015Q3\", \"2015Q4\", \"2016Q1\", \"2016Q2\", \"2016Q3\", \"2016Q4\", \"2017Q1\", \"2017Q2\", \"2017Q3\", \"2017Q4\", \"2018Q1\", \"2018Q2\", \"2018Q3\", \"2018Q4\"], \"y\": [17.100000381469727, 38.79999923706055, 61.20000076293945, 30.899999618530273, 69.0, 59.099998474121094, 59.5, 46.20000076293945, 93.9000015258789, 88.4000015258789, 74.30000305175781, 86.0999984741211, 42.79999923706055, 0.30000001192092896, null, 81.30000305175781]}, {\"marker\": {\"color\": \"red\", \"size\": 12}, \"mode\": \"markers\", \"name\": \"New Mexico\", \"type\": \"scatter\", \"x\": [\"2015Q1\", \"2018Q4\"], \"y\": [17.100000381469727, 81.30000305175781]}, {\"connectgaps\": true, \"line\": {\"color\": \"rgb(189,189,189)\", \"width\": 2}, \"mode\": \"lines\", \"name\": \"New York\", \"type\": \"scatter\", \"x\": [\"2015Q1\", \"2015Q2\", \"2015Q3\", \"2015Q4\", \"2016Q1\", \"2016Q2\", \"2016Q3\", \"2016Q4\", \"2017Q1\", \"2017Q2\", \"2017Q3\", \"2017Q4\", \"2018Q1\", \"2018Q2\", \"2018Q3\", \"2018Q4\"], \"y\": [7.599999904632568, 19.100000381469727, 40.0, 24.5, 27.5, 20.399999618530273, 37.400001525878906, 27.799999237060547, 20.399999618530273, 22.200000762939453, 45.099998474121094, 22.299999237060547, 25.299999237060547, 39.599998474121094, 40.70000076293945, 26.0]}, {\"marker\": {\"color\": \"rgb(189,189,189)\", \"size\": 8}, \"mode\": \"markers\", \"name\": \"New York\", \"type\": \"scatter\", \"x\": [\"2015Q1\", \"2018Q4\"], \"y\": [7.599999904632568, 26.0]}, {\"connectgaps\": true, \"line\": {\"color\": \"rgb(189,189,189)\", \"width\": 2}, \"mode\": \"lines\", \"name\": \"North Carolina\", \"type\": \"scatter\", \"x\": [\"2015Q1\", \"2015Q2\", \"2015Q3\", \"2015Q4\", \"2016Q1\", \"2016Q2\", \"2016Q3\", \"2016Q4\", \"2017Q1\", \"2017Q2\", \"2017Q3\", \"2017Q4\", \"2018Q1\", \"2018Q2\", \"2018Q3\", \"2018Q4\"], \"y\": [35.5, 51.0, 33.900001525878906, 9.600000381469727, 9.5, 51.79999923706055, 27.799999237060547, 24.0, 34.70000076293945, 23.399999618530273, 74.5, 64.19999694824219, 29.700000762939453, 9.699999809265137, 66.0, 53.0]}, {\"marker\": {\"color\": \"rgb(189,189,189)\", \"size\": 8}, \"mode\": \"markers\", \"name\": \"North Carolina\", \"type\": \"scatter\", \"x\": [\"2015Q1\", \"2018Q4\"], \"y\": [35.5, 53.0]}, {\"connectgaps\": true, \"line\": {\"color\": \"rgb(189,189,189)\", \"width\": 2}, \"mode\": \"lines\", \"name\": \"North Dakota\", \"type\": \"scatter\", \"x\": [\"2015Q1\", \"2015Q2\", \"2015Q3\", \"2015Q4\", \"2016Q1\", \"2016Q2\", \"2016Q3\", \"2016Q4\", \"2017Q1\", \"2017Q2\", \"2017Q3\", \"2017Q4\", \"2018Q1\", \"2018Q2\", \"2018Q3\", \"2018Q4\"], \"y\": [1.7000000476837158, 15.5, 33.79999923706055, 10.800000190734863, 2.700000047683716, 16.200000762939453, 38.0, 23.5, 0.800000011920929, 29.299999237060547, 42.0, 41.70000076293945, 1.399999976158142, 34.79999923706055, 52.599998474121094, 29.5]}, {\"marker\": {\"color\": \"rgb(189,189,189)\", \"size\": 8}, \"mode\": \"markers\", \"name\": \"North Dakota\", \"type\": \"scatter\", \"x\": [\"2015Q1\", \"2018Q4\"], \"y\": [1.7000000476837158, 29.5]}, {\"connectgaps\": true, \"line\": {\"color\": \"rgb(189,189,189)\", \"width\": 2}, \"mode\": \"lines\", \"name\": \"Ohio\", \"type\": \"scatter\", \"x\": [\"2015Q1\", \"2015Q2\", \"2015Q3\", \"2015Q4\", \"2016Q1\", \"2016Q2\", \"2016Q3\", \"2016Q4\", \"2017Q1\", \"2017Q2\", \"2017Q3\", \"2017Q4\", \"2018Q1\", \"2018Q2\", \"2018Q3\", \"2018Q4\"], \"y\": [10.699999809265137, 15.800000190734863, 30.700000762939453, 36.29999923706055, 41.599998474121094, 10.600000381469727, 60.599998474121094, 42.0, 25.799999237060547, 45.5, 51.5, 45.29999923706055, 39.599998474121094, 38.79999923706055, 58.900001525878906, 29.299999237060547]}, {\"marker\": {\"color\": \"rgb(189,189,189)\", \"size\": 8}, \"mode\": \"markers\", \"name\": \"Ohio\", \"type\": \"scatter\", \"x\": [\"2015Q1\", \"2018Q4\"], \"y\": [10.699999809265137, 29.299999237060547]}, {\"connectgaps\": true, \"line\": {\"color\": \"rgb(189,189,189)\", \"width\": 2}, \"mode\": \"lines\", \"name\": \"Oklahoma\", \"type\": \"scatter\", \"x\": [\"2015Q1\", \"2015Q2\", \"2015Q3\", \"2015Q4\", \"2016Q1\", \"2016Q2\", \"2016Q3\", \"2016Q4\", \"2017Q1\", \"2017Q2\", \"2017Q3\", \"2017Q4\", \"2018Q1\", \"2018Q2\", \"2018Q3\", \"2018Q4\"], \"y\": [14.5, 66.0999984741211, 1.600000023841858, 2.799999952316284, 4.900000095367432, 51.79999923706055, 7.5, 4.900000095367432, 11.899999618530273, 23.600000381469727, 22.0, 1.0, 24.100000381469727, 60.20000076293945, 59.599998474121094, 13.100000381469727]}, {\"marker\": {\"color\": \"rgb(189,189,189)\", \"size\": 8}, \"mode\": \"markers\", \"name\": \"Oklahoma\", \"type\": \"scatter\", \"x\": [\"2015Q1\", \"2018Q4\"], \"y\": [14.5, 13.100000381469727]}, {\"connectgaps\": true, \"line\": {\"color\": \"rgb(189,189,189)\", \"width\": 2}, \"mode\": \"lines\", \"name\": \"Oregon\", \"type\": \"scatter\", \"x\": [\"2015Q1\", \"2015Q2\", \"2015Q3\", \"2015Q4\", \"2016Q1\", \"2016Q2\", \"2016Q3\", \"2016Q4\", \"2017Q1\", \"2017Q2\", \"2017Q3\", \"2017Q4\", \"2018Q1\", \"2018Q2\", \"2018Q3\", \"2018Q4\"], \"y\": [20.200000762939453, 39.29999923706055, 56.0, 16.399999618530273, 20.399999618530273, 52.70000076293945, 52.900001525878906, 25.5, 28.700000762939453, 37.20000076293945, 54.400001525878906, 50.599998474121094, 36.0, 46.099998474121094, 57.20000076293945, 44.099998474121094]}, {\"marker\": {\"color\": \"rgb(189,189,189)\", \"size\": 8}, \"mode\": \"markers\", \"name\": \"Oregon\", \"type\": \"scatter\", \"x\": [\"2015Q1\", \"2018Q4\"], \"y\": [20.200000762939453, 44.099998474121094]}, {\"connectgaps\": true, \"line\": {\"color\": \"rgb(189,189,189)\", \"width\": 2}, \"mode\": \"lines\", \"name\": \"Pennsylvania\", \"type\": \"scatter\", \"x\": [\"2015Q1\", \"2015Q2\", \"2015Q3\", \"2015Q4\", \"2016Q1\", \"2016Q2\", \"2016Q3\", \"2016Q4\", \"2017Q1\", \"2017Q2\", \"2017Q3\", \"2017Q4\", \"2018Q1\", \"2018Q2\", \"2018Q3\", \"2018Q4\"], \"y\": [28.100000381469727, 11.399999618530273, 45.099998474121094, 32.20000076293945, 44.79999923706055, 18.700000762939453, 27.299999237060547, 18.700000762939453, 20.899999618530273, 13.5, 41.400001525878906, 44.70000076293945, 34.400001525878906, 31.299999237060547, 23.5, 26.899999618530273]}, {\"marker\": {\"color\": \"rgb(189,189,189)\", \"size\": 8}, \"mode\": \"markers\", \"name\": \"Pennsylvania\", \"type\": \"scatter\", \"x\": [\"2015Q1\", \"2018Q4\"], \"y\": [28.100000381469727, 26.899999618530273]}, {\"connectgaps\": true, \"line\": {\"color\": \"rgb(189,189,189)\", \"width\": 2}, \"mode\": \"lines\", \"name\": \"South Carolina\", \"type\": \"scatter\", \"x\": [\"2015Q1\", \"2015Q2\", \"2015Q3\", \"2015Q4\", \"2016Q1\", \"2016Q2\", \"2016Q3\", \"2016Q4\", \"2017Q1\", \"2017Q2\", \"2017Q3\", \"2017Q4\", \"2018Q1\", \"2018Q2\", \"2018Q3\", \"2018Q4\"], \"y\": [10.5, 29.899999618530273, 58.400001525878906, 14.199999809265137, 10.699999809265137, 51.29999923706055, 20.399999618530273, 29.0, 12.600000381469727, 24.299999237060547, 26.399999618530273, 31.600000381469727, 29.299999237060547, 14.199999809265137, 76.80000305175781, 32.20000076293945]}, {\"marker\": {\"color\": \"rgb(189,189,189)\", \"size\": 8}, \"mode\": \"markers\", \"name\": \"South Carolina\", \"type\": \"scatter\", \"x\": [\"2015Q1\", \"2018Q4\"], \"y\": [10.5, 32.20000076293945]}, {\"connectgaps\": true, \"line\": {\"color\": \"rgb(189,189,189)\", \"width\": 2}, \"mode\": \"lines\", \"name\": \"South Dakota\", \"type\": \"scatter\", \"x\": [\"2015Q1\", \"2015Q2\", \"2015Q3\", \"2015Q4\", \"2016Q1\", \"2016Q2\", \"2016Q3\", \"2016Q4\", \"2017Q1\", \"2017Q2\", \"2017Q3\", \"2017Q4\", \"2018Q1\", \"2018Q2\", \"2018Q3\", \"2018Q4\"], \"y\": [1.2000000476837158, 9.800000190734863, 22.0, 16.799999237060547, 0.20000000298023224, 32.400001525878906, 48.79999923706055, 48.900001525878906, 2.9000000953674316, 8.699999809265137, 47.400001525878906, 17.299999237060547, 4.400000095367432, 55.099998474121094, 54.70000076293945, 12.800000190734863]}, {\"marker\": {\"color\": \"rgb(189,189,189)\", \"size\": 8}, \"mode\": \"markers\", \"name\": \"South Dakota\", \"type\": \"scatter\", \"x\": [\"2015Q1\", \"2018Q4\"], \"y\": [1.2000000476837158, 12.800000190734863]}, {\"connectgaps\": true, \"line\": {\"color\": \"rgb(189,189,189)\", \"width\": 2}, \"mode\": \"lines\", \"name\": \"Tennessee\", \"type\": \"scatter\", \"x\": [\"2015Q1\", \"2015Q2\", \"2015Q3\", \"2015Q4\", \"2016Q1\", \"2016Q2\", \"2016Q3\", \"2016Q4\", \"2017Q1\", \"2017Q2\", \"2017Q3\", \"2017Q4\", \"2018Q1\", \"2018Q2\", \"2018Q3\", \"2018Q4\"], \"y\": [22.200000762939453, 47.79999923706055, 50.79999923706055, 43.599998474121094, 19.700000762939453, 40.900001525878906, 22.5, 19.899999618530273, 28.600000381469727, 53.400001525878906, 42.79999923706055, 22.799999237060547, 29.200000762939453, 30.0, 70.5999984741211, 49.79999923706055]}, {\"marker\": {\"color\": \"rgb(189,189,189)\", \"size\": 8}, \"mode\": \"markers\", \"name\": \"Tennessee\", \"type\": \"scatter\", \"x\": [\"2015Q1\", \"2018Q4\"], \"y\": [22.200000762939453, 49.79999923706055]}, {\"connectgaps\": true, \"line\": {\"color\": \"rgb(189,189,189)\", \"width\": 2}, \"mode\": \"lines\", \"name\": \"Texas\", \"type\": \"scatter\", \"x\": [\"2015Q1\", \"2015Q2\", \"2015Q3\", \"2015Q4\", \"2016Q1\", \"2016Q2\", \"2016Q3\", \"2016Q4\", \"2017Q1\", \"2017Q2\", \"2017Q3\", \"2017Q4\", \"2018Q1\", \"2018Q2\", \"2018Q3\", \"2018Q4\"], \"y\": [21.5, 19.299999237060547, 30.700000762939453, 20.899999618530273, 19.399999618530273, 26.100000381469727, 47.20000076293945, 33.099998474121094, 36.20000076293945, 28.700000762939453, 33.70000076293945, 33.900001525878906, 21.5, 26.5, 18.799999237060547, 18.600000381469727]}, {\"marker\": {\"color\": \"rgb(189,189,189)\", \"size\": 8}, \"mode\": \"markers\", \"name\": \"Texas\", \"type\": \"scatter\", \"x\": [\"2015Q1\", \"2018Q4\"], \"y\": [21.5, 18.600000381469727]}, {\"connectgaps\": true, \"line\": {\"color\": \"rgb(189,189,189)\", \"width\": 2}, \"mode\": \"lines\", \"name\": \"Utah\", \"type\": \"scatter\", \"x\": [\"2015Q1\", \"2015Q2\", \"2015Q3\", \"2015Q4\", \"2016Q1\", \"2016Q2\", \"2016Q3\", \"2016Q4\", \"2017Q1\", \"2017Q2\", \"2017Q3\", \"2017Q4\", \"2018Q1\", \"2018Q2\", \"2018Q3\", \"2018Q4\"], \"y\": [13.600000381469727, 27.200000762939453, 40.099998474121094, 75.80000305175781, 26.200000762939453, 23.0, 32.099998474121094, 26.399999618530273, 38.70000076293945, 36.70000076293945, 40.5, 24.299999237060547, 18.700000762939453, 43.5, 34.0, 48.0]}, {\"marker\": {\"color\": \"rgb(189,189,189)\", \"size\": 8}, \"mode\": \"markers\", \"name\": \"Utah\", \"type\": \"scatter\", \"x\": [\"2015Q1\", \"2018Q4\"], \"y\": [13.600000381469727, 48.0]}, {\"connectgaps\": true, \"line\": {\"color\": \"rgb(189,189,189)\", \"width\": 2}, \"mode\": \"lines\", \"name\": \"Vermont\", \"type\": \"scatter\", \"x\": [\"2015Q1\", \"2015Q2\", \"2015Q3\", \"2015Q4\", \"2016Q1\", \"2016Q2\", \"2016Q3\", \"2016Q4\", \"2017Q1\", \"2017Q2\", \"2017Q3\", \"2017Q4\", \"2018Q1\", \"2018Q2\", \"2018Q3\", \"2018Q4\"], \"y\": [2.299999952316284, 3.700000047683716, 22.700000762939453, 57.099998474121094, 1.2999999523162842, 2.5999999046325684, 5.599999904632568, 44.5, 6.0, 3.299999952316284, 16.799999237060547, 96.5999984741211, 17.0, 21.799999237060547, 29.299999237060547, 6.199999809265137]}, {\"marker\": {\"color\": \"rgb(189,189,189)\", \"size\": 8}, \"mode\": \"markers\", \"name\": \"Vermont\", \"type\": \"scatter\", \"x\": [\"2015Q1\", \"2018Q4\"], \"y\": [2.299999952316284, 6.199999809265137]}, {\"connectgaps\": true, \"line\": {\"color\": \"rgb(189,189,189)\", \"width\": 2}, \"mode\": \"lines\", \"name\": \"Virginia\", \"type\": \"scatter\", \"x\": [\"2015Q1\", \"2015Q2\", \"2015Q3\", \"2015Q4\", \"2016Q1\", \"2016Q2\", \"2016Q3\", \"2016Q4\", \"2017Q1\", \"2017Q2\", \"2017Q3\", \"2017Q4\", \"2018Q1\", \"2018Q2\", \"2018Q3\", \"2018Q4\"], \"y\": [19.0, 26.200000762939453, 29.0, 26.299999237060547, 32.70000076293945, 23.100000381469727, 39.099998474121094, 31.399999618530273, 21.399999618530273, 18.700000762939453, 50.29999923706055, 20.899999618530273, 26.0, 22.700000762939453, 39.0, 57.099998474121094]}, {\"marker\": {\"color\": \"rgb(189,189,189)\", \"size\": 8}, \"mode\": \"markers\", \"name\": \"Virginia\", \"type\": \"scatter\", \"x\": [\"2015Q1\", \"2018Q4\"], \"y\": [19.0, 57.099998474121094]}, {\"connectgaps\": true, \"line\": {\"color\": \"rgb(189,189,189)\", \"width\": 2}, \"mode\": \"lines\", \"name\": \"Washington\", \"type\": \"scatter\", \"x\": [\"2015Q1\", \"2015Q2\", \"2015Q3\", \"2015Q4\", \"2016Q1\", \"2016Q2\", \"2016Q3\", \"2016Q4\", \"2017Q1\", \"2017Q2\", \"2017Q3\", \"2017Q4\", \"2018Q1\", \"2018Q2\", \"2018Q3\", \"2018Q4\"], \"y\": [21.5, 48.70000076293945, 45.599998474121094, 6.900000095367432, 23.299999237060547, 40.900001525878906, 65.19999694824219, 21.399999618530273, 6.800000190734863, 21.299999237060547, 23.700000762939453, 21.700000762939453, 8.5, 55.900001525878906, 7.099999904632568, 34.5]}, {\"marker\": {\"color\": \"rgb(189,189,189)\", \"size\": 8}, \"mode\": \"markers\", \"name\": \"Washington\", \"type\": \"scatter\", \"x\": [\"2015Q1\", \"2018Q4\"], \"y\": [21.5, 34.5]}, {\"connectgaps\": true, \"line\": {\"color\": \"rgb(189,189,189)\", \"width\": 2}, \"mode\": \"lines\", \"name\": \"West Virginia\", \"type\": \"scatter\", \"x\": [\"2015Q1\", \"2015Q2\", \"2015Q3\", \"2015Q4\", \"2016Q1\", \"2016Q2\", \"2016Q3\", \"2016Q4\", \"2017Q1\", \"2017Q2\", \"2017Q3\", \"2017Q4\", \"2018Q1\", \"2018Q2\", \"2018Q3\", \"2018Q4\"], \"y\": [18.0, 15.600000381469727, 21.700000762939453, 18.799999237060547, 21.899999618530273, 20.100000381469727, 41.5, 23.799999237060547, 15.800000190734863, 11.600000381469727, 23.200000762939453, 60.099998474121094, 15.0, 13.800000190734863, 57.0, 29.5]}, {\"marker\": {\"color\": \"rgb(189,189,189)\", \"size\": 8}, \"mode\": \"markers\", \"name\": \"West Virginia\", \"type\": \"scatter\", \"x\": [\"2015Q1\", \"2018Q4\"], \"y\": [18.0, 29.5]}, {\"connectgaps\": true, \"line\": {\"color\": \"rgb(189,189,189)\", \"width\": 2}, \"mode\": \"lines\", \"name\": \"Wisconsin\", \"type\": \"scatter\", \"x\": [\"2015Q1\", \"2015Q2\", \"2015Q3\", \"2015Q4\", \"2016Q1\", \"2016Q2\", \"2016Q3\", \"2016Q4\", \"2017Q1\", \"2017Q2\", \"2017Q3\", \"2017Q4\", \"2018Q1\", \"2018Q2\", \"2018Q3\", \"2018Q4\"], \"y\": [18.799999237060547, 35.29999923706055, 47.29999923706055, 49.400001525878906, 24.200000762939453, 23.399999618530273, 31.5, 69.30000305175781, 19.0, 13.800000190734863, 61.599998474121094, 53.099998474121094, 14.100000381469727, 32.099998474121094, 54.400001525878906, 29.899999618530273]}, {\"marker\": {\"color\": \"rgb(189,189,189)\", \"size\": 8}, \"mode\": \"markers\", \"name\": \"Wisconsin\", \"type\": \"scatter\", \"x\": [\"2015Q1\", \"2018Q4\"], \"y\": [18.799999237060547, 29.899999618530273]}],\n",
       "                        {\"annotations\": [{\"font\": {\"family\": \"Arial\", \"size\": 16}, \"showarrow\": false, \"text\": \"Arkansas\", \"x\": 0.05, \"xanchor\": \"right\", \"xref\": \"paper\", \"y\": 17.600000381469727, \"yanchor\": \"middle\"}, {\"font\": {\"family\": \"Arial\", \"size\": 16}, \"showarrow\": false, \"text\": \"82%\", \"x\": 0.95, \"xanchor\": \"left\", \"xref\": \"paper\", \"y\": 82.80000305175781, \"yanchor\": \"middle\"}, {\"font\": {\"family\": \"Arial\", \"size\": 16}, \"showarrow\": false, \"text\": \"Colorado\", \"x\": 0.05, \"xanchor\": \"right\", \"xref\": \"paper\", \"y\": 14.600000381469727, \"yanchor\": \"middle\"}, {\"font\": {\"family\": \"Arial\", \"size\": 16}, \"showarrow\": false, \"text\": \"73%\", \"x\": 0.95, \"xanchor\": \"left\", \"xref\": \"paper\", \"y\": 73.19999694824219, \"yanchor\": \"middle\"}, {\"font\": {\"family\": \"Arial\", \"size\": 16}, \"showarrow\": false, \"text\": \"Hawaii\", \"x\": 0.05, \"xanchor\": \"right\", \"xref\": \"paper\", \"y\": 38.79999923706055, \"yanchor\": \"middle\"}, {\"font\": {\"family\": \"Arial\", \"size\": 16}, \"showarrow\": false, \"text\": \"70%\", \"x\": 0.95, \"xanchor\": \"left\", \"xref\": \"paper\", \"y\": 70.5, \"yanchor\": \"middle\"}, {\"font\": {\"family\": \"Arial\", \"size\": 16}, \"showarrow\": false, \"text\": \"Idaho\", \"x\": 0.05, \"xanchor\": \"right\", \"xref\": \"paper\", \"y\": 39.79999923706055, \"yanchor\": \"middle\"}, {\"font\": {\"family\": \"Arial\", \"size\": 16}, \"showarrow\": false, \"text\": \"64%\", \"x\": 0.95, \"xanchor\": \"left\", \"xref\": \"paper\", \"y\": 64.9000015258789, \"yanchor\": \"middle\"}, {\"font\": {\"family\": \"Arial\", \"size\": 16}, \"showarrow\": false, \"text\": \"Kansas\", \"x\": 0.05, \"xanchor\": \"right\", \"xref\": \"paper\", \"y\": 32.70000076293945, \"yanchor\": \"middle\"}, {\"font\": {\"family\": \"Arial\", \"size\": 16}, \"showarrow\": false, \"text\": \"62%\", \"x\": 0.95, \"xanchor\": \"left\", \"xref\": \"paper\", \"y\": 62.0, \"yanchor\": \"middle\"}, {\"font\": {\"family\": \"Arial\", \"size\": 16}, \"showarrow\": false, \"text\": \"New Mexico\", \"x\": 0.05, \"xanchor\": \"right\", \"xref\": \"paper\", \"y\": 17.100000381469727, \"yanchor\": \"middle\"}, {\"font\": {\"family\": \"Arial\", \"size\": 16}, \"showarrow\": false, \"text\": \"81%\", \"x\": 0.95, \"xanchor\": \"left\", \"xref\": \"paper\", \"y\": 81.30000305175781, \"yanchor\": \"middle\"}, {\"font\": {\"color\": \"rgb(37,37,37)\", \"family\": \"Arial\", \"size\": 30}, \"showarrow\": false, \"text\": \"Varroa Mites\", \"x\": 0.0, \"xanchor\": \"left\", \"xref\": \"paper\", \"y\": 1.05, \"yanchor\": \"bottom\", \"yref\": \"paper\"}, {\"font\": {\"color\": \"rgb(150,150,150)\", \"family\": \"Arial\", \"size\": 12}, \"showarrow\": false, \"text\": \"Source: PewResearch Center & Storytelling with data\", \"x\": 0.5, \"xanchor\": \"center\", \"xref\": \"paper\", \"y\": -0.2, \"yanchor\": \"top\", \"yref\": \"paper\"}], \"autosize\": false, \"height\": 800, \"margin\": {\"autoexpand\": false, \"l\": 100, \"r\": 20, \"t\": 110}, \"plot_bgcolor\": \"white\", \"showlegend\": false, \"template\": {\"data\": {\"bar\": [{\"error_x\": {\"color\": \"#2a3f5f\"}, \"error_y\": {\"color\": \"#2a3f5f\"}, \"marker\": {\"line\": {\"color\": \"#E5ECF6\", \"width\": 0.5}}, \"type\": \"bar\"}], \"barpolar\": [{\"marker\": {\"line\": {\"color\": \"#E5ECF6\", \"width\": 0.5}}, \"type\": \"barpolar\"}], \"carpet\": [{\"aaxis\": {\"endlinecolor\": \"#2a3f5f\", \"gridcolor\": \"white\", \"linecolor\": \"white\", \"minorgridcolor\": \"white\", \"startlinecolor\": \"#2a3f5f\"}, \"baxis\": {\"endlinecolor\": \"#2a3f5f\", \"gridcolor\": \"white\", \"linecolor\": \"white\", \"minorgridcolor\": \"white\", \"startlinecolor\": \"#2a3f5f\"}, \"type\": \"carpet\"}], \"choropleth\": [{\"colorbar\": {\"outlinewidth\": 0, \"ticks\": \"\"}, \"type\": \"choropleth\"}], \"contour\": [{\"colorbar\": {\"outlinewidth\": 0, \"ticks\": \"\"}, \"colorscale\": [[0.0, \"#0d0887\"], [0.1111111111111111, \"#46039f\"], [0.2222222222222222, \"#7201a8\"], [0.3333333333333333, \"#9c179e\"], [0.4444444444444444, \"#bd3786\"], [0.5555555555555556, \"#d8576b\"], [0.6666666666666666, \"#ed7953\"], [0.7777777777777778, \"#fb9f3a\"], [0.8888888888888888, \"#fdca26\"], [1.0, \"#f0f921\"]], \"type\": \"contour\"}], \"contourcarpet\": [{\"colorbar\": {\"outlinewidth\": 0, \"ticks\": \"\"}, \"type\": \"contourcarpet\"}], \"heatmap\": [{\"colorbar\": {\"outlinewidth\": 0, \"ticks\": \"\"}, \"colorscale\": [[0.0, \"#0d0887\"], [0.1111111111111111, \"#46039f\"], [0.2222222222222222, \"#7201a8\"], [0.3333333333333333, \"#9c179e\"], [0.4444444444444444, \"#bd3786\"], [0.5555555555555556, \"#d8576b\"], [0.6666666666666666, \"#ed7953\"], [0.7777777777777778, \"#fb9f3a\"], [0.8888888888888888, \"#fdca26\"], [1.0, \"#f0f921\"]], \"type\": \"heatmap\"}], \"heatmapgl\": [{\"colorbar\": {\"outlinewidth\": 0, \"ticks\": \"\"}, \"colorscale\": [[0.0, \"#0d0887\"], [0.1111111111111111, \"#46039f\"], [0.2222222222222222, \"#7201a8\"], [0.3333333333333333, \"#9c179e\"], [0.4444444444444444, \"#bd3786\"], [0.5555555555555556, \"#d8576b\"], [0.6666666666666666, \"#ed7953\"], [0.7777777777777778, \"#fb9f3a\"], [0.8888888888888888, \"#fdca26\"], [1.0, \"#f0f921\"]], \"type\": \"heatmapgl\"}], \"histogram\": [{\"marker\": {\"colorbar\": {\"outlinewidth\": 0, \"ticks\": \"\"}}, \"type\": \"histogram\"}], \"histogram2d\": [{\"colorbar\": {\"outlinewidth\": 0, \"ticks\": \"\"}, \"colorscale\": [[0.0, \"#0d0887\"], [0.1111111111111111, \"#46039f\"], [0.2222222222222222, \"#7201a8\"], [0.3333333333333333, \"#9c179e\"], [0.4444444444444444, \"#bd3786\"], [0.5555555555555556, \"#d8576b\"], [0.6666666666666666, \"#ed7953\"], [0.7777777777777778, \"#fb9f3a\"], [0.8888888888888888, \"#fdca26\"], [1.0, \"#f0f921\"]], \"type\": \"histogram2d\"}], \"histogram2dcontour\": [{\"colorbar\": {\"outlinewidth\": 0, \"ticks\": \"\"}, \"colorscale\": [[0.0, \"#0d0887\"], [0.1111111111111111, \"#46039f\"], [0.2222222222222222, \"#7201a8\"], [0.3333333333333333, \"#9c179e\"], [0.4444444444444444, \"#bd3786\"], [0.5555555555555556, \"#d8576b\"], [0.6666666666666666, \"#ed7953\"], [0.7777777777777778, \"#fb9f3a\"], [0.8888888888888888, \"#fdca26\"], [1.0, \"#f0f921\"]], \"type\": \"histogram2dcontour\"}], \"mesh3d\": [{\"colorbar\": {\"outlinewidth\": 0, \"ticks\": \"\"}, \"type\": \"mesh3d\"}], \"parcoords\": [{\"line\": {\"colorbar\": {\"outlinewidth\": 0, \"ticks\": \"\"}}, \"type\": \"parcoords\"}], \"scatter\": [{\"marker\": {\"colorbar\": {\"outlinewidth\": 0, \"ticks\": \"\"}}, \"type\": \"scatter\"}], \"scatter3d\": [{\"line\": {\"colorbar\": {\"outlinewidth\": 0, \"ticks\": \"\"}}, \"marker\": {\"colorbar\": {\"outlinewidth\": 0, \"ticks\": \"\"}}, \"type\": \"scatter3d\"}], \"scattercarpet\": [{\"marker\": {\"colorbar\": {\"outlinewidth\": 0, \"ticks\": \"\"}}, \"type\": \"scattercarpet\"}], \"scattergeo\": [{\"marker\": {\"colorbar\": {\"outlinewidth\": 0, \"ticks\": \"\"}}, \"type\": \"scattergeo\"}], \"scattergl\": [{\"marker\": {\"colorbar\": {\"outlinewidth\": 0, \"ticks\": \"\"}}, \"type\": \"scattergl\"}], \"scattermapbox\": [{\"marker\": {\"colorbar\": {\"outlinewidth\": 0, \"ticks\": \"\"}}, \"type\": \"scattermapbox\"}], \"scatterpolar\": [{\"marker\": {\"colorbar\": {\"outlinewidth\": 0, \"ticks\": \"\"}}, \"type\": \"scatterpolar\"}], \"scatterpolargl\": [{\"marker\": {\"colorbar\": {\"outlinewidth\": 0, \"ticks\": \"\"}}, \"type\": \"scatterpolargl\"}], \"scatterternary\": [{\"marker\": {\"colorbar\": {\"outlinewidth\": 0, \"ticks\": \"\"}}, \"type\": \"scatterternary\"}], \"surface\": [{\"colorbar\": {\"outlinewidth\": 0, \"ticks\": \"\"}, \"colorscale\": [[0.0, \"#0d0887\"], [0.1111111111111111, \"#46039f\"], [0.2222222222222222, \"#7201a8\"], [0.3333333333333333, \"#9c179e\"], [0.4444444444444444, \"#bd3786\"], [0.5555555555555556, \"#d8576b\"], [0.6666666666666666, \"#ed7953\"], [0.7777777777777778, \"#fb9f3a\"], [0.8888888888888888, \"#fdca26\"], [1.0, \"#f0f921\"]], \"type\": \"surface\"}], \"table\": [{\"cells\": {\"fill\": {\"color\": \"#EBF0F8\"}, \"line\": {\"color\": \"white\"}}, \"header\": {\"fill\": {\"color\": \"#C8D4E3\"}, \"line\": {\"color\": \"white\"}}, \"type\": \"table\"}]}, \"layout\": {\"annotationdefaults\": {\"arrowcolor\": \"#2a3f5f\", \"arrowhead\": 0, \"arrowwidth\": 1}, \"colorscale\": {\"diverging\": [[0, \"#8e0152\"], [0.1, \"#c51b7d\"], [0.2, \"#de77ae\"], [0.3, \"#f1b6da\"], [0.4, \"#fde0ef\"], [0.5, \"#f7f7f7\"], [0.6, \"#e6f5d0\"], [0.7, \"#b8e186\"], [0.8, \"#7fbc41\"], [0.9, \"#4d9221\"], [1, \"#276419\"]], \"sequential\": [[0.0, \"#0d0887\"], [0.1111111111111111, \"#46039f\"], [0.2222222222222222, \"#7201a8\"], [0.3333333333333333, \"#9c179e\"], [0.4444444444444444, \"#bd3786\"], [0.5555555555555556, \"#d8576b\"], [0.6666666666666666, \"#ed7953\"], [0.7777777777777778, \"#fb9f3a\"], [0.8888888888888888, \"#fdca26\"], [1.0, \"#f0f921\"]], \"sequentialminus\": [[0.0, \"#0d0887\"], [0.1111111111111111, \"#46039f\"], [0.2222222222222222, \"#7201a8\"], [0.3333333333333333, \"#9c179e\"], [0.4444444444444444, \"#bd3786\"], [0.5555555555555556, \"#d8576b\"], [0.6666666666666666, \"#ed7953\"], [0.7777777777777778, \"#fb9f3a\"], [0.8888888888888888, \"#fdca26\"], [1.0, \"#f0f921\"]]}, \"colorway\": [\"#636efa\", \"#EF553B\", \"#00cc96\", \"#ab63fa\", \"#FFA15A\", \"#19d3f3\", \"#FF6692\", \"#B6E880\", \"#FF97FF\", \"#FECB52\"], \"font\": {\"color\": \"#2a3f5f\"}, \"geo\": {\"bgcolor\": \"white\", \"lakecolor\": \"white\", \"landcolor\": \"#E5ECF6\", \"showlakes\": true, \"showland\": true, \"subunitcolor\": \"white\"}, \"hoverlabel\": {\"align\": \"left\"}, \"hovermode\": \"closest\", \"mapbox\": {\"style\": \"light\"}, \"paper_bgcolor\": \"white\", \"plot_bgcolor\": \"#E5ECF6\", \"polar\": {\"angularaxis\": {\"gridcolor\": \"white\", \"linecolor\": \"white\", \"ticks\": \"\"}, \"bgcolor\": \"#E5ECF6\", \"radialaxis\": {\"gridcolor\": \"white\", \"linecolor\": \"white\", \"ticks\": \"\"}}, \"scene\": {\"xaxis\": {\"backgroundcolor\": \"#E5ECF6\", \"gridcolor\": \"white\", \"gridwidth\": 2, \"linecolor\": \"white\", \"showbackground\": true, \"ticks\": \"\", \"zerolinecolor\": \"white\"}, \"yaxis\": {\"backgroundcolor\": \"#E5ECF6\", \"gridcolor\": \"white\", \"gridwidth\": 2, \"linecolor\": \"white\", \"showbackground\": true, \"ticks\": \"\", \"zerolinecolor\": \"white\"}, \"zaxis\": {\"backgroundcolor\": \"#E5ECF6\", \"gridcolor\": \"white\", \"gridwidth\": 2, \"linecolor\": \"white\", \"showbackground\": true, \"ticks\": \"\", \"zerolinecolor\": \"white\"}}, \"shapedefaults\": {\"line\": {\"color\": \"#2a3f5f\"}}, \"ternary\": {\"aaxis\": {\"gridcolor\": \"white\", \"linecolor\": \"white\", \"ticks\": \"\"}, \"baxis\": {\"gridcolor\": \"white\", \"linecolor\": \"white\", \"ticks\": \"\"}, \"bgcolor\": \"#E5ECF6\", \"caxis\": {\"gridcolor\": \"white\", \"linecolor\": \"white\", \"ticks\": \"\"}}, \"title\": {\"x\": 0.05}, \"xaxis\": {\"automargin\": true, \"gridcolor\": \"white\", \"linecolor\": \"white\", \"ticks\": \"\", \"zerolinecolor\": \"white\", \"zerolinewidth\": 2}, \"yaxis\": {\"automargin\": true, \"gridcolor\": \"white\", \"linecolor\": \"white\", \"ticks\": \"\", \"zerolinecolor\": \"white\", \"zerolinewidth\": 2}}}, \"width\": 800, \"xaxis\": {\"linecolor\": \"rgb(204, 204, 204)\", \"linewidth\": 2, \"showgrid\": false, \"showline\": true, \"showticklabels\": true, \"tickfont\": {\"color\": \"rgb(82, 82, 82)\", \"family\": \"Arial\", \"size\": 12}, \"ticks\": \"outside\"}, \"yaxis\": {\"showgrid\": false, \"showline\": false, \"showticklabels\": false, \"zeroline\": false}},\n",
       "                        {\"responsive\": true}\n",
       "                    ).then(function(){\n",
       "                            \n",
       "var gd = document.getElementById('f1174c3d-625c-4cf8-aea3-ef8774e86caa');\n",
       "var x = new MutationObserver(function (mutations, observer) {{\n",
       "        var display = window.getComputedStyle(gd).display;\n",
       "        if (!display || display === 'none') {{\n",
       "            console.log([gd, 'removed!']);\n",
       "            Plotly.purge(gd);\n",
       "            observer.disconnect();\n",
       "        }}\n",
       "}});\n",
       "\n",
       "// Listen for the removal of the full notebook cells\n",
       "var notebookContainer = gd.closest('#notebook-container');\n",
       "if (notebookContainer) {{\n",
       "    x.observe(notebookContainer, {childList: true});\n",
       "}}\n",
       "\n",
       "// Listen for the clearing of the current output cell\n",
       "var outputEl = gd.closest('.output');\n",
       "if (outputEl) {{\n",
       "    x.observe(outputEl, {childList: true});\n",
       "}}\n",
       "\n",
       "                        })\n",
       "                };\n",
       "                });\n",
       "            </script>\n",
       "        </div>"
      ]
     },
     "metadata": {},
     "output_type": "display_data"
    }
   ],
   "source": [
    "fig = go.Figure()\n",
    "annotations = []\n",
    "for i in colony_data.state.unique():\n",
    "    #print(colony_data[colony_data.state == i].shape)\n",
    "    x_=list(colony_data[colony_data.state == i].period)\n",
    "    y_=list(colony_data[colony_data.state == i].varroa_mites)\n",
    "    \n",
    "    for j in y_:\n",
    "        if j > 60:\n",
    "            color_ = 'red'\n",
    "            line_size = 4\n",
    "            mode_size = 12\n",
    "        else:\n",
    "            color_ = 'rgb(189,189,189)'\n",
    "            line_size = 2\n",
    "            mode_size = 8\n",
    "            \n",
    "    fig.add_trace(go.Scatter(x=x_, y=y_, mode='lines',\n",
    "        name=i,\n",
    "        line=dict(color=color_, width=line_size),\n",
    "        connectgaps=True,\n",
    "    ))\n",
    "\n",
    "    # endpoints\n",
    "    fig.add_trace(go.Scatter(\n",
    "        x=[x_[0], x_[-1]],\n",
    "        y=[y_[0], y_[-1]],\n",
    "        name=i,\n",
    "        mode='markers',\n",
    "        marker=dict(color=color_, size=mode_size)\n",
    "    ))\n",
    "    \n",
    "    # labeling the left_side of the plot\n",
    "    if color_ == 'red':\n",
    "        annotations.append(dict(xref='paper', x=0.05, y=y_[0],\n",
    "                                      xanchor='right', yanchor='middle',\n",
    "                                      text=i,\n",
    "                                      font=dict(family='Arial',\n",
    "                                                size=16),\n",
    "                                      showarrow=False))\n",
    "\n",
    "        # labeling the right_side of the plot\n",
    "        annotations.append(dict(xref='paper', x=0.95, y=y_[-1],\n",
    "                                      xanchor='left', yanchor='middle',\n",
    "                                      text='{}%'.format(int(y_[-1])),\n",
    "                                      font=dict(family='Arial',\n",
    "                                                size=16),\n",
    "                                      showarrow=False))\n",
    "        \n",
    "    \n",
    "fig.update_layout(\n",
    "    width = 800,\n",
    "    height = 800,\n",
    "    xaxis=dict(\n",
    "        showline=True,\n",
    "        showgrid=False,\n",
    "        showticklabels=True,\n",
    "        linecolor='rgb(204, 204, 204)',\n",
    "        linewidth=2,\n",
    "        ticks='outside',\n",
    "        tickfont=dict(\n",
    "            family='Arial',\n",
    "            size=12,\n",
    "            color='rgb(82, 82, 82)',\n",
    "        ),\n",
    "    ),\n",
    "    yaxis=dict(\n",
    "        showgrid=False,\n",
    "        zeroline=False,\n",
    "        showline=False,\n",
    "        showticklabels=False,\n",
    "    ),\n",
    "    autosize=False,\n",
    "    margin=dict(\n",
    "        autoexpand=False,\n",
    "        l=100,\n",
    "        r=20,\n",
    "        t=110,\n",
    "    ),\n",
    "    showlegend=False,\n",
    "    plot_bgcolor='white'\n",
    ")\n",
    "\n",
    "# Title\n",
    "annotations.append(dict(xref='paper', yref='paper', x=0.0, y=1.05,\n",
    "                              xanchor='left', yanchor='bottom',\n",
    "                              text='Varroa Mites',\n",
    "                              font=dict(family='Arial',\n",
    "                                        size=30,\n",
    "                                        color='rgb(37,37,37)'),\n",
    "                              showarrow=False))\n",
    "# Source\n",
    "annotations.append(dict(xref='paper', yref='paper', x=0.5, y=-0.2,\n",
    "                              xanchor='center', yanchor='top',\n",
    "                              text='Source: PewResearch Center & ' +\n",
    "                                   'Storytelling with data',\n",
    "                              font=dict(family='Arial',\n",
    "                                        size=12,\n",
    "                                        color='rgb(150,150,150)'),\n",
    "                              showarrow=False))\n",
    "\n",
    "fig.update_layout(annotations=annotations)\n",
    "\n",
    "fig.show()"
   ]
  },
  {
   "cell_type": "code",
   "execution_count": 14,
   "metadata": {},
   "outputs": [
    {
     "data": {
      "text/plain": [
       "3      1690000.0\n",
       "47     1050000.0\n",
       "91      800000.0\n",
       "135    1260000.0\n",
       "179    1410000.0\n",
       "223    1150000.0\n",
       "267     820000.0\n",
       "311    1330000.0\n",
       "355    1470000.0\n",
       "399     990000.0\n",
       "443     670000.0\n",
       "487    1200000.0\n",
       "531    1540000.0\n",
       "575    1200000.0\n",
       "619     700000.0\n",
       "663    1200000.0\n",
       "Name: max, dtype: float32"
      ]
     },
     "execution_count": 14,
     "metadata": {},
     "output_type": "execute_result"
    }
   ],
   "source": [
    "colony_data[colony_data.state==\"California\"][\"max\"]"
   ]
  },
  {
   "cell_type": "code",
   "execution_count": 230,
   "metadata": {},
   "outputs": [],
   "source": [
    "def generate_line_plot(input_, col_names, state_):\n",
    "    '''\n",
    "    Returns a multiline graph object of stressors for a specfic US state.\n",
    "    \n",
    "    input parameters:\n",
    "        input_: DataFrame containing data\n",
    "        col_names: Names of lines to be traced\n",
    "        state_: Name of US State the\n",
    "    \n",
    "    output\n",
    "    '''\n",
    "    fig = go.Figure()\n",
    "    annotations = []\n",
    "    colors = ['crimson', 'LightSkyBlue', \"MediumPurple\", \"green\", \"orange\", \"yellowgreen\"]\n",
    "    color_ix = 0\n",
    "    for i in col_names:\n",
    "        \n",
    "        x_=list(input_[input_.state == state_].period)\n",
    "        y_=list(input_[input_.state == state_][i])\n",
    "\n",
    "        line_size = 4\n",
    "        mode_size = 12\n",
    "        color_ = colors[color_ix]\n",
    "\n",
    "        fig.add_trace(go.Scatter(x=x_, y=y_, mode='lines',\n",
    "            name=i,\n",
    "            line=dict(color=color_, width=line_size),\n",
    "            connectgaps=True,\n",
    "            showlegend=True\n",
    "        ))\n",
    "\n",
    "        # endpoints\n",
    "        max_val = max(y_)\n",
    "        max_ix = x_[np.argmax(np.array(y_))]\n",
    "        fig.add_trace(go.Scatter(\n",
    "            x=[max_ix],\n",
    "            y=[max_val],\n",
    "            name=i,\n",
    "            mode='markers+text',\n",
    "            marker=dict(color=color_, size=mode_size),\n",
    "            showlegend = False,\n",
    "            text = '{}%'.format(round(max_val,2)),\n",
    "            textposition = 'middle right'\n",
    "        ))\n",
    "        \n",
    "        color_ix = color_ix + 1\n",
    "        \n",
    "    \n",
    "    fig.update_layout(\n",
    "        width = 800,\n",
    "        height = 800,\n",
    "        xaxis=dict(\n",
    "            showline=True,\n",
    "            showgrid=False,\n",
    "            showticklabels=True,\n",
    "            linecolor='rgb(204, 204, 204)',\n",
    "            linewidth=2,\n",
    "            ticks='outside',\n",
    "            tickfont=dict(\n",
    "                family='Arial',\n",
    "                size=12,\n",
    "                color='rgb(82, 82, 82)',\n",
    "            ),\n",
    "        ),\n",
    "        yaxis=dict(\n",
    "            showgrid=False,\n",
    "            zeroline=False,\n",
    "            showline=False,\n",
    "            showticklabels=False,\n",
    "        ),\n",
    "        autosize=False,\n",
    "        margin=dict(\n",
    "            autoexpand=False,\n",
    "            l=100,\n",
    "            r=20,\n",
    "            t=110,\n",
    "        ),\n",
    "        showlegend=False,\n",
    "        plot_bgcolor='white'\n",
    "    )\n",
    "\n",
    "    # Title\n",
    "    annotations.append(dict(xref='paper', yref='paper', x=0.0, y=1.05,\n",
    "                                  xanchor='left', yanchor='bottom',\n",
    "                                  text='Bee Colony Stressors in the State of ' + state_,\n",
    "                                  font=dict(family='Arial',\n",
    "                                            size=30,\n",
    "                                            color='rgb(37,37,37)'),\n",
    "                                  showarrow=False))\n",
    "    # Source\n",
    "    annotations.append(dict(xref='paper', yref='paper', x=0.5, y=-0.1,\n",
    "                                  xanchor='center', yanchor='top',\n",
    "                                  text='Source: United States Department of Agriculture (USDA)',\n",
    "                                  font=dict(family='Arial',\n",
    "                                            size=12,\n",
    "                                            color='rgb(150,150,150)'),\n",
    "                                  showarrow=False))\n",
    "    \n",
    "    tick_text = [\"2015\", \"\", \"\", \"\", \"2016\", \"\", \"\", \"\", \"2017\", \"\", \"\", \"\", \"2018\", \"\", \"\", \"\"]\n",
    "    tick_vals = [\"2015Q1\", \"2015Q2\", \"2015Q3\", \"2015Q4\",\n",
    "                 \"2016Q1\", \"2016Q2\", \"2016Q3\", \"2016Q4\", \n",
    "                 \"2017Q1\", \"2017Q2\", \"2017Q3\", \"2017Q4\", \n",
    "                 \"2018Q1\", \"2018Q2\", \"2018Q3\", \"2018Q4\"]\n",
    "    fig.update_xaxes(ticktext=tick_text, tickvals = tick_vals, tickangle=0, tickfont=dict(family='Rockwell'))\n",
    "    fig.update_layout(annotations=annotations, showlegend=True, legend_orientation='h', legend=dict(x=0, y=1.03))\n",
    "    \n",
    "    return fig"
   ]
  },
  {
   "cell_type": "code",
   "execution_count": 231,
   "metadata": {},
   "outputs": [],
   "source": [
    "stressors = [\"varroa_mites\", \"other_pests\", \"diseases\", \"pesticides\", \"other\", \"unknown\"]\n",
    "wow = generate_line_plot(colony_data, stressors, \"California\")"
   ]
  },
  {
   "cell_type": "markdown",
   "metadata": {},
   "source": [
    "'top left', 'top center', 'top right', 'middle left',\n",
    "            'middle center', 'middle right', 'bottom left', 'bottom\n",
    "            center', 'bottom right']"
   ]
  },
  {
   "cell_type": "code",
   "execution_count": 232,
   "metadata": {},
   "outputs": [
    {
     "data": {
      "application/vnd.plotly.v1+json": {
       "config": {
        "plotlyServerURL": "https://plot.ly"
       },
       "data": [
        {
         "connectgaps": true,
         "line": {
          "color": "crimson",
          "width": 4
         },
         "mode": "lines",
         "name": "varroa_mites",
         "showlegend": true,
         "type": "scatter",
         "x": [
          "2015Q1",
          "2015Q2",
          "2015Q3",
          "2015Q4",
          "2016Q1",
          "2016Q2",
          "2016Q3",
          "2016Q4",
          "2017Q1",
          "2017Q2",
          "2017Q3",
          "2017Q4",
          "2018Q1",
          "2018Q2",
          "2018Q3",
          "2018Q4"
         ],
         "y": [
          24.700000762939453,
          50.900001525878906,
          39.900001525878906,
          37.29999923706055,
          38.099998474121094,
          49.70000076293945,
          42.20000076293945,
          41.900001525878906,
          37.70000076293945,
          38,
          42.29999923706055,
          47.900001525878906,
          41.29999923706055,
          41.5,
          57.29999923706055,
          44.099998474121094
         ]
        },
        {
         "marker": {
          "color": "crimson",
          "size": 12
         },
         "mode": "markers+text",
         "name": "varroa_mites",
         "showlegend": false,
         "text": "57.3%",
         "textposition": "middle right",
         "type": "scatter",
         "x": [
          "2018Q3"
         ],
         "y": [
          57.29999923706055
         ]
        },
        {
         "connectgaps": true,
         "line": {
          "color": "LightSkyBlue",
          "width": 4
         },
         "mode": "lines",
         "name": "other_pests",
         "showlegend": true,
         "type": "scatter",
         "x": [
          "2015Q1",
          "2015Q2",
          "2015Q3",
          "2015Q4",
          "2016Q1",
          "2016Q2",
          "2016Q3",
          "2016Q4",
          "2017Q1",
          "2017Q2",
          "2017Q3",
          "2017Q4",
          "2018Q1",
          "2018Q2",
          "2018Q3",
          "2018Q4"
         ],
         "y": [
          7.199999809265137,
          21.5,
          20.399999618530273,
          12.699999809265137,
          15.199999809265137,
          14.100000381469727,
          17.799999237060547,
          13.699999809265137,
          12.600000381469727,
          7.699999809265137,
          15.800000190734863,
          14.100000381469727,
          11.300000190734863,
          10.199999809265137,
          6.599999904632568,
          16.600000381469727
         ]
        },
        {
         "marker": {
          "color": "LightSkyBlue",
          "size": 12
         },
         "mode": "markers+text",
         "name": "other_pests",
         "showlegend": false,
         "text": "21.5%",
         "textposition": "middle right",
         "type": "scatter",
         "x": [
          "2015Q2"
         ],
         "y": [
          21.5
         ]
        },
        {
         "connectgaps": true,
         "line": {
          "color": "MediumPurple",
          "width": 4
         },
         "mode": "lines",
         "name": "diseases",
         "showlegend": true,
         "type": "scatter",
         "x": [
          "2015Q1",
          "2015Q2",
          "2015Q3",
          "2015Q4",
          "2016Q1",
          "2016Q2",
          "2016Q3",
          "2016Q4",
          "2017Q1",
          "2017Q2",
          "2017Q3",
          "2017Q4",
          "2018Q1",
          "2018Q2",
          "2018Q3",
          "2018Q4"
         ],
         "y": [
          3,
          7.800000190734863,
          12.5,
          6.199999809265137,
          9,
          11.199999809265137,
          8.5,
          8,
          7.5,
          3.0999999046325684,
          5.599999904632568,
          7.400000095367432,
          4.800000190734863,
          11.100000381469727,
          4.5,
          9.800000190734863
         ]
        },
        {
         "marker": {
          "color": "MediumPurple",
          "size": 12
         },
         "mode": "markers+text",
         "name": "diseases",
         "showlegend": false,
         "text": "12.5%",
         "textposition": "middle right",
         "type": "scatter",
         "x": [
          "2015Q3"
         ],
         "y": [
          12.5
         ]
        },
        {
         "connectgaps": true,
         "line": {
          "color": "green",
          "width": 4
         },
         "mode": "lines",
         "name": "pesticides",
         "showlegend": true,
         "type": "scatter",
         "x": [
          "2015Q1",
          "2015Q2",
          "2015Q3",
          "2015Q4",
          "2016Q1",
          "2016Q2",
          "2016Q3",
          "2016Q4",
          "2017Q1",
          "2017Q2",
          "2017Q3",
          "2017Q4",
          "2018Q1",
          "2018Q2",
          "2018Q3",
          "2018Q4"
         ],
         "y": [
          7.5,
          23,
          19.600000381469727,
          11.699999809265137,
          13.5,
          14.199999809265137,
          18.799999237060547,
          9.100000381469727,
          9.199999809265137,
          13,
          13.399999618530273,
          17,
          11.5,
          13.699999809265137,
          17.799999237060547,
          11.600000381469727
         ]
        },
        {
         "marker": {
          "color": "green",
          "size": 12
         },
         "mode": "markers+text",
         "name": "pesticides",
         "showlegend": false,
         "text": "23.0%",
         "textposition": "middle right",
         "type": "scatter",
         "x": [
          "2015Q2"
         ],
         "y": [
          23
         ]
        },
        {
         "connectgaps": true,
         "line": {
          "color": "orange",
          "width": 4
         },
         "mode": "lines",
         "name": "other",
         "showlegend": true,
         "type": "scatter",
         "x": [
          "2015Q1",
          "2015Q2",
          "2015Q3",
          "2015Q4",
          "2016Q1",
          "2016Q2",
          "2016Q3",
          "2016Q4",
          "2017Q1",
          "2017Q2",
          "2017Q3",
          "2017Q4",
          "2018Q1",
          "2018Q2",
          "2018Q3",
          "2018Q4"
         ],
         "y": [
          6.5,
          14.199999809265137,
          15,
          10.5,
          8.399999618530273,
          15.300000190734863,
          10.399999618530273,
          9.600000381469727,
          6.599999904632568,
          4.800000190734863,
          10.100000381469727,
          17.100000381469727,
          8,
          9,
          12,
          9.300000190734863
         ]
        },
        {
         "marker": {
          "color": "orange",
          "size": 12
         },
         "mode": "markers+text",
         "name": "other",
         "showlegend": false,
         "text": "17.1%",
         "textposition": "middle right",
         "type": "scatter",
         "x": [
          "2017Q4"
         ],
         "y": [
          17.100000381469727
         ]
        },
        {
         "connectgaps": true,
         "line": {
          "color": "yellowgreen",
          "width": 4
         },
         "mode": "lines",
         "name": "unknown",
         "showlegend": true,
         "type": "scatter",
         "x": [
          "2015Q1",
          "2015Q2",
          "2015Q3",
          "2015Q4",
          "2016Q1",
          "2016Q2",
          "2016Q3",
          "2016Q4",
          "2017Q1",
          "2017Q2",
          "2017Q3",
          "2017Q4",
          "2018Q1",
          "2018Q2",
          "2018Q3",
          "2018Q4"
         ],
         "y": [
          2.799999952316284,
          3.0999999046325684,
          4.699999809265137,
          7.300000190734863,
          4.400000095367432,
          2.5999999046325684,
          6.900000095367432,
          3.5,
          6.300000190734863,
          3.4000000953674316,
          3.5999999046325684,
          6.300000190734863,
          4.900000095367432,
          5,
          3.5999999046325684,
          7.099999904632568
         ]
        },
        {
         "marker": {
          "color": "yellowgreen",
          "size": 12
         },
         "mode": "markers+text",
         "name": "unknown",
         "showlegend": false,
         "text": "7.3%",
         "textposition": "middle right",
         "type": "scatter",
         "x": [
          "2015Q4"
         ],
         "y": [
          7.300000190734863
         ]
        }
       ],
       "layout": {
        "annotations": [
         {
          "font": {
           "color": "rgb(37,37,37)",
           "family": "Arial",
           "size": 30
          },
          "showarrow": false,
          "text": "Bee Colony Stressors in the State of California",
          "x": 0,
          "xanchor": "left",
          "xref": "paper",
          "y": 1.05,
          "yanchor": "bottom",
          "yref": "paper"
         },
         {
          "font": {
           "color": "rgb(150,150,150)",
           "family": "Arial",
           "size": 12
          },
          "showarrow": false,
          "text": "Source: United States Department of Agriculture (USDA)",
          "x": 0.5,
          "xanchor": "center",
          "xref": "paper",
          "y": -0.1,
          "yanchor": "top",
          "yref": "paper"
         }
        ],
        "autosize": false,
        "height": 800,
        "legend": {
         "orientation": "h",
         "x": 0,
         "y": 1.03
        },
        "margin": {
         "autoexpand": false,
         "l": 100,
         "r": 20,
         "t": 110
        },
        "plot_bgcolor": "white",
        "showlegend": true,
        "template": {
         "data": {
          "bar": [
           {
            "error_x": {
             "color": "#2a3f5f"
            },
            "error_y": {
             "color": "#2a3f5f"
            },
            "marker": {
             "line": {
              "color": "#E5ECF6",
              "width": 0.5
             }
            },
            "type": "bar"
           }
          ],
          "barpolar": [
           {
            "marker": {
             "line": {
              "color": "#E5ECF6",
              "width": 0.5
             }
            },
            "type": "barpolar"
           }
          ],
          "carpet": [
           {
            "aaxis": {
             "endlinecolor": "#2a3f5f",
             "gridcolor": "white",
             "linecolor": "white",
             "minorgridcolor": "white",
             "startlinecolor": "#2a3f5f"
            },
            "baxis": {
             "endlinecolor": "#2a3f5f",
             "gridcolor": "white",
             "linecolor": "white",
             "minorgridcolor": "white",
             "startlinecolor": "#2a3f5f"
            },
            "type": "carpet"
           }
          ],
          "choropleth": [
           {
            "colorbar": {
             "outlinewidth": 0,
             "ticks": ""
            },
            "type": "choropleth"
           }
          ],
          "contour": [
           {
            "colorbar": {
             "outlinewidth": 0,
             "ticks": ""
            },
            "colorscale": [
             [
              0,
              "#0d0887"
             ],
             [
              0.1111111111111111,
              "#46039f"
             ],
             [
              0.2222222222222222,
              "#7201a8"
             ],
             [
              0.3333333333333333,
              "#9c179e"
             ],
             [
              0.4444444444444444,
              "#bd3786"
             ],
             [
              0.5555555555555556,
              "#d8576b"
             ],
             [
              0.6666666666666666,
              "#ed7953"
             ],
             [
              0.7777777777777778,
              "#fb9f3a"
             ],
             [
              0.8888888888888888,
              "#fdca26"
             ],
             [
              1,
              "#f0f921"
             ]
            ],
            "type": "contour"
           }
          ],
          "contourcarpet": [
           {
            "colorbar": {
             "outlinewidth": 0,
             "ticks": ""
            },
            "type": "contourcarpet"
           }
          ],
          "heatmap": [
           {
            "colorbar": {
             "outlinewidth": 0,
             "ticks": ""
            },
            "colorscale": [
             [
              0,
              "#0d0887"
             ],
             [
              0.1111111111111111,
              "#46039f"
             ],
             [
              0.2222222222222222,
              "#7201a8"
             ],
             [
              0.3333333333333333,
              "#9c179e"
             ],
             [
              0.4444444444444444,
              "#bd3786"
             ],
             [
              0.5555555555555556,
              "#d8576b"
             ],
             [
              0.6666666666666666,
              "#ed7953"
             ],
             [
              0.7777777777777778,
              "#fb9f3a"
             ],
             [
              0.8888888888888888,
              "#fdca26"
             ],
             [
              1,
              "#f0f921"
             ]
            ],
            "type": "heatmap"
           }
          ],
          "heatmapgl": [
           {
            "colorbar": {
             "outlinewidth": 0,
             "ticks": ""
            },
            "colorscale": [
             [
              0,
              "#0d0887"
             ],
             [
              0.1111111111111111,
              "#46039f"
             ],
             [
              0.2222222222222222,
              "#7201a8"
             ],
             [
              0.3333333333333333,
              "#9c179e"
             ],
             [
              0.4444444444444444,
              "#bd3786"
             ],
             [
              0.5555555555555556,
              "#d8576b"
             ],
             [
              0.6666666666666666,
              "#ed7953"
             ],
             [
              0.7777777777777778,
              "#fb9f3a"
             ],
             [
              0.8888888888888888,
              "#fdca26"
             ],
             [
              1,
              "#f0f921"
             ]
            ],
            "type": "heatmapgl"
           }
          ],
          "histogram": [
           {
            "marker": {
             "colorbar": {
              "outlinewidth": 0,
              "ticks": ""
             }
            },
            "type": "histogram"
           }
          ],
          "histogram2d": [
           {
            "colorbar": {
             "outlinewidth": 0,
             "ticks": ""
            },
            "colorscale": [
             [
              0,
              "#0d0887"
             ],
             [
              0.1111111111111111,
              "#46039f"
             ],
             [
              0.2222222222222222,
              "#7201a8"
             ],
             [
              0.3333333333333333,
              "#9c179e"
             ],
             [
              0.4444444444444444,
              "#bd3786"
             ],
             [
              0.5555555555555556,
              "#d8576b"
             ],
             [
              0.6666666666666666,
              "#ed7953"
             ],
             [
              0.7777777777777778,
              "#fb9f3a"
             ],
             [
              0.8888888888888888,
              "#fdca26"
             ],
             [
              1,
              "#f0f921"
             ]
            ],
            "type": "histogram2d"
           }
          ],
          "histogram2dcontour": [
           {
            "colorbar": {
             "outlinewidth": 0,
             "ticks": ""
            },
            "colorscale": [
             [
              0,
              "#0d0887"
             ],
             [
              0.1111111111111111,
              "#46039f"
             ],
             [
              0.2222222222222222,
              "#7201a8"
             ],
             [
              0.3333333333333333,
              "#9c179e"
             ],
             [
              0.4444444444444444,
              "#bd3786"
             ],
             [
              0.5555555555555556,
              "#d8576b"
             ],
             [
              0.6666666666666666,
              "#ed7953"
             ],
             [
              0.7777777777777778,
              "#fb9f3a"
             ],
             [
              0.8888888888888888,
              "#fdca26"
             ],
             [
              1,
              "#f0f921"
             ]
            ],
            "type": "histogram2dcontour"
           }
          ],
          "mesh3d": [
           {
            "colorbar": {
             "outlinewidth": 0,
             "ticks": ""
            },
            "type": "mesh3d"
           }
          ],
          "parcoords": [
           {
            "line": {
             "colorbar": {
              "outlinewidth": 0,
              "ticks": ""
             }
            },
            "type": "parcoords"
           }
          ],
          "scatter": [
           {
            "marker": {
             "colorbar": {
              "outlinewidth": 0,
              "ticks": ""
             }
            },
            "type": "scatter"
           }
          ],
          "scatter3d": [
           {
            "line": {
             "colorbar": {
              "outlinewidth": 0,
              "ticks": ""
             }
            },
            "marker": {
             "colorbar": {
              "outlinewidth": 0,
              "ticks": ""
             }
            },
            "type": "scatter3d"
           }
          ],
          "scattercarpet": [
           {
            "marker": {
             "colorbar": {
              "outlinewidth": 0,
              "ticks": ""
             }
            },
            "type": "scattercarpet"
           }
          ],
          "scattergeo": [
           {
            "marker": {
             "colorbar": {
              "outlinewidth": 0,
              "ticks": ""
             }
            },
            "type": "scattergeo"
           }
          ],
          "scattergl": [
           {
            "marker": {
             "colorbar": {
              "outlinewidth": 0,
              "ticks": ""
             }
            },
            "type": "scattergl"
           }
          ],
          "scattermapbox": [
           {
            "marker": {
             "colorbar": {
              "outlinewidth": 0,
              "ticks": ""
             }
            },
            "type": "scattermapbox"
           }
          ],
          "scatterpolar": [
           {
            "marker": {
             "colorbar": {
              "outlinewidth": 0,
              "ticks": ""
             }
            },
            "type": "scatterpolar"
           }
          ],
          "scatterpolargl": [
           {
            "marker": {
             "colorbar": {
              "outlinewidth": 0,
              "ticks": ""
             }
            },
            "type": "scatterpolargl"
           }
          ],
          "scatterternary": [
           {
            "marker": {
             "colorbar": {
              "outlinewidth": 0,
              "ticks": ""
             }
            },
            "type": "scatterternary"
           }
          ],
          "surface": [
           {
            "colorbar": {
             "outlinewidth": 0,
             "ticks": ""
            },
            "colorscale": [
             [
              0,
              "#0d0887"
             ],
             [
              0.1111111111111111,
              "#46039f"
             ],
             [
              0.2222222222222222,
              "#7201a8"
             ],
             [
              0.3333333333333333,
              "#9c179e"
             ],
             [
              0.4444444444444444,
              "#bd3786"
             ],
             [
              0.5555555555555556,
              "#d8576b"
             ],
             [
              0.6666666666666666,
              "#ed7953"
             ],
             [
              0.7777777777777778,
              "#fb9f3a"
             ],
             [
              0.8888888888888888,
              "#fdca26"
             ],
             [
              1,
              "#f0f921"
             ]
            ],
            "type": "surface"
           }
          ],
          "table": [
           {
            "cells": {
             "fill": {
              "color": "#EBF0F8"
             },
             "line": {
              "color": "white"
             }
            },
            "header": {
             "fill": {
              "color": "#C8D4E3"
             },
             "line": {
              "color": "white"
             }
            },
            "type": "table"
           }
          ]
         },
         "layout": {
          "annotationdefaults": {
           "arrowcolor": "#2a3f5f",
           "arrowhead": 0,
           "arrowwidth": 1
          },
          "colorscale": {
           "diverging": [
            [
             0,
             "#8e0152"
            ],
            [
             0.1,
             "#c51b7d"
            ],
            [
             0.2,
             "#de77ae"
            ],
            [
             0.3,
             "#f1b6da"
            ],
            [
             0.4,
             "#fde0ef"
            ],
            [
             0.5,
             "#f7f7f7"
            ],
            [
             0.6,
             "#e6f5d0"
            ],
            [
             0.7,
             "#b8e186"
            ],
            [
             0.8,
             "#7fbc41"
            ],
            [
             0.9,
             "#4d9221"
            ],
            [
             1,
             "#276419"
            ]
           ],
           "sequential": [
            [
             0,
             "#0d0887"
            ],
            [
             0.1111111111111111,
             "#46039f"
            ],
            [
             0.2222222222222222,
             "#7201a8"
            ],
            [
             0.3333333333333333,
             "#9c179e"
            ],
            [
             0.4444444444444444,
             "#bd3786"
            ],
            [
             0.5555555555555556,
             "#d8576b"
            ],
            [
             0.6666666666666666,
             "#ed7953"
            ],
            [
             0.7777777777777778,
             "#fb9f3a"
            ],
            [
             0.8888888888888888,
             "#fdca26"
            ],
            [
             1,
             "#f0f921"
            ]
           ],
           "sequentialminus": [
            [
             0,
             "#0d0887"
            ],
            [
             0.1111111111111111,
             "#46039f"
            ],
            [
             0.2222222222222222,
             "#7201a8"
            ],
            [
             0.3333333333333333,
             "#9c179e"
            ],
            [
             0.4444444444444444,
             "#bd3786"
            ],
            [
             0.5555555555555556,
             "#d8576b"
            ],
            [
             0.6666666666666666,
             "#ed7953"
            ],
            [
             0.7777777777777778,
             "#fb9f3a"
            ],
            [
             0.8888888888888888,
             "#fdca26"
            ],
            [
             1,
             "#f0f921"
            ]
           ]
          },
          "colorway": [
           "#636efa",
           "#EF553B",
           "#00cc96",
           "#ab63fa",
           "#FFA15A",
           "#19d3f3",
           "#FF6692",
           "#B6E880",
           "#FF97FF",
           "#FECB52"
          ],
          "font": {
           "color": "#2a3f5f"
          },
          "geo": {
           "bgcolor": "white",
           "lakecolor": "white",
           "landcolor": "#E5ECF6",
           "showlakes": true,
           "showland": true,
           "subunitcolor": "white"
          },
          "hoverlabel": {
           "align": "left"
          },
          "hovermode": "closest",
          "mapbox": {
           "style": "light"
          },
          "paper_bgcolor": "white",
          "plot_bgcolor": "#E5ECF6",
          "polar": {
           "angularaxis": {
            "gridcolor": "white",
            "linecolor": "white",
            "ticks": ""
           },
           "bgcolor": "#E5ECF6",
           "radialaxis": {
            "gridcolor": "white",
            "linecolor": "white",
            "ticks": ""
           }
          },
          "scene": {
           "xaxis": {
            "backgroundcolor": "#E5ECF6",
            "gridcolor": "white",
            "gridwidth": 2,
            "linecolor": "white",
            "showbackground": true,
            "ticks": "",
            "zerolinecolor": "white"
           },
           "yaxis": {
            "backgroundcolor": "#E5ECF6",
            "gridcolor": "white",
            "gridwidth": 2,
            "linecolor": "white",
            "showbackground": true,
            "ticks": "",
            "zerolinecolor": "white"
           },
           "zaxis": {
            "backgroundcolor": "#E5ECF6",
            "gridcolor": "white",
            "gridwidth": 2,
            "linecolor": "white",
            "showbackground": true,
            "ticks": "",
            "zerolinecolor": "white"
           }
          },
          "shapedefaults": {
           "line": {
            "color": "#2a3f5f"
           }
          },
          "ternary": {
           "aaxis": {
            "gridcolor": "white",
            "linecolor": "white",
            "ticks": ""
           },
           "baxis": {
            "gridcolor": "white",
            "linecolor": "white",
            "ticks": ""
           },
           "bgcolor": "#E5ECF6",
           "caxis": {
            "gridcolor": "white",
            "linecolor": "white",
            "ticks": ""
           }
          },
          "title": {
           "x": 0.05
          },
          "xaxis": {
           "automargin": true,
           "gridcolor": "white",
           "linecolor": "white",
           "ticks": "",
           "zerolinecolor": "white",
           "zerolinewidth": 2
          },
          "yaxis": {
           "automargin": true,
           "gridcolor": "white",
           "linecolor": "white",
           "ticks": "",
           "zerolinecolor": "white",
           "zerolinewidth": 2
          }
         }
        },
        "width": 800,
        "xaxis": {
         "linecolor": "rgb(204, 204, 204)",
         "linewidth": 2,
         "showgrid": false,
         "showline": true,
         "showticklabels": true,
         "tickangle": 0,
         "tickfont": {
          "color": "rgb(82, 82, 82)",
          "family": "Rockwell",
          "size": 12
         },
         "ticks": "outside",
         "ticktext": [
          "2015",
          "",
          "",
          "",
          "2016",
          "",
          "",
          "",
          "2017",
          "",
          "",
          "",
          "2018",
          "",
          "",
          ""
         ],
         "tickvals": [
          "2015Q1",
          "2015Q2",
          "2015Q3",
          "2015Q4",
          "2016Q1",
          "2016Q2",
          "2016Q3",
          "2016Q4",
          "2017Q1",
          "2017Q2",
          "2017Q3",
          "2017Q4",
          "2018Q1",
          "2018Q2",
          "2018Q3",
          "2018Q4"
         ]
        },
        "yaxis": {
         "showgrid": false,
         "showline": false,
         "showticklabels": false,
         "zeroline": false
        }
       }
      },
      "text/html": [
       "<div>\n",
       "        \n",
       "        \n",
       "            <div id=\"abc79d86-98bf-4f07-a3cd-32db0035e821\" class=\"plotly-graph-div\" style=\"height:800px; width:800px;\"></div>\n",
       "            <script type=\"text/javascript\">\n",
       "                require([\"plotly\"], function(Plotly) {\n",
       "                    window.PLOTLYENV=window.PLOTLYENV || {};\n",
       "                    \n",
       "                if (document.getElementById(\"abc79d86-98bf-4f07-a3cd-32db0035e821\")) {\n",
       "                    Plotly.newPlot(\n",
       "                        'abc79d86-98bf-4f07-a3cd-32db0035e821',\n",
       "                        [{\"connectgaps\": true, \"line\": {\"color\": \"crimson\", \"width\": 4}, \"mode\": \"lines\", \"name\": \"varroa_mites\", \"showlegend\": true, \"type\": \"scatter\", \"x\": [\"2015Q1\", \"2015Q2\", \"2015Q3\", \"2015Q4\", \"2016Q1\", \"2016Q2\", \"2016Q3\", \"2016Q4\", \"2017Q1\", \"2017Q2\", \"2017Q3\", \"2017Q4\", \"2018Q1\", \"2018Q2\", \"2018Q3\", \"2018Q4\"], \"y\": [24.700000762939453, 50.900001525878906, 39.900001525878906, 37.29999923706055, 38.099998474121094, 49.70000076293945, 42.20000076293945, 41.900001525878906, 37.70000076293945, 38.0, 42.29999923706055, 47.900001525878906, 41.29999923706055, 41.5, 57.29999923706055, 44.099998474121094]}, {\"marker\": {\"color\": \"crimson\", \"size\": 12}, \"mode\": \"markers+text\", \"name\": \"varroa_mites\", \"showlegend\": false, \"text\": \"57.3%\", \"textposition\": \"middle right\", \"type\": \"scatter\", \"x\": [\"2018Q3\"], \"y\": [57.29999923706055]}, {\"connectgaps\": true, \"line\": {\"color\": \"LightSkyBlue\", \"width\": 4}, \"mode\": \"lines\", \"name\": \"other_pests\", \"showlegend\": true, \"type\": \"scatter\", \"x\": [\"2015Q1\", \"2015Q2\", \"2015Q3\", \"2015Q4\", \"2016Q1\", \"2016Q2\", \"2016Q3\", \"2016Q4\", \"2017Q1\", \"2017Q2\", \"2017Q3\", \"2017Q4\", \"2018Q1\", \"2018Q2\", \"2018Q3\", \"2018Q4\"], \"y\": [7.199999809265137, 21.5, 20.399999618530273, 12.699999809265137, 15.199999809265137, 14.100000381469727, 17.799999237060547, 13.699999809265137, 12.600000381469727, 7.699999809265137, 15.800000190734863, 14.100000381469727, 11.300000190734863, 10.199999809265137, 6.599999904632568, 16.600000381469727]}, {\"marker\": {\"color\": \"LightSkyBlue\", \"size\": 12}, \"mode\": \"markers+text\", \"name\": \"other_pests\", \"showlegend\": false, \"text\": \"21.5%\", \"textposition\": \"middle right\", \"type\": \"scatter\", \"x\": [\"2015Q2\"], \"y\": [21.5]}, {\"connectgaps\": true, \"line\": {\"color\": \"MediumPurple\", \"width\": 4}, \"mode\": \"lines\", \"name\": \"diseases\", \"showlegend\": true, \"type\": \"scatter\", \"x\": [\"2015Q1\", \"2015Q2\", \"2015Q3\", \"2015Q4\", \"2016Q1\", \"2016Q2\", \"2016Q3\", \"2016Q4\", \"2017Q1\", \"2017Q2\", \"2017Q3\", \"2017Q4\", \"2018Q1\", \"2018Q2\", \"2018Q3\", \"2018Q4\"], \"y\": [3.0, 7.800000190734863, 12.5, 6.199999809265137, 9.0, 11.199999809265137, 8.5, 8.0, 7.5, 3.0999999046325684, 5.599999904632568, 7.400000095367432, 4.800000190734863, 11.100000381469727, 4.5, 9.800000190734863]}, {\"marker\": {\"color\": \"MediumPurple\", \"size\": 12}, \"mode\": \"markers+text\", \"name\": \"diseases\", \"showlegend\": false, \"text\": \"12.5%\", \"textposition\": \"middle right\", \"type\": \"scatter\", \"x\": [\"2015Q3\"], \"y\": [12.5]}, {\"connectgaps\": true, \"line\": {\"color\": \"green\", \"width\": 4}, \"mode\": \"lines\", \"name\": \"pesticides\", \"showlegend\": true, \"type\": \"scatter\", \"x\": [\"2015Q1\", \"2015Q2\", \"2015Q3\", \"2015Q4\", \"2016Q1\", \"2016Q2\", \"2016Q3\", \"2016Q4\", \"2017Q1\", \"2017Q2\", \"2017Q3\", \"2017Q4\", \"2018Q1\", \"2018Q2\", \"2018Q3\", \"2018Q4\"], \"y\": [7.5, 23.0, 19.600000381469727, 11.699999809265137, 13.5, 14.199999809265137, 18.799999237060547, 9.100000381469727, 9.199999809265137, 13.0, 13.399999618530273, 17.0, 11.5, 13.699999809265137, 17.799999237060547, 11.600000381469727]}, {\"marker\": {\"color\": \"green\", \"size\": 12}, \"mode\": \"markers+text\", \"name\": \"pesticides\", \"showlegend\": false, \"text\": \"23.0%\", \"textposition\": \"middle right\", \"type\": \"scatter\", \"x\": [\"2015Q2\"], \"y\": [23.0]}, {\"connectgaps\": true, \"line\": {\"color\": \"orange\", \"width\": 4}, \"mode\": \"lines\", \"name\": \"other\", \"showlegend\": true, \"type\": \"scatter\", \"x\": [\"2015Q1\", \"2015Q2\", \"2015Q3\", \"2015Q4\", \"2016Q1\", \"2016Q2\", \"2016Q3\", \"2016Q4\", \"2017Q1\", \"2017Q2\", \"2017Q3\", \"2017Q4\", \"2018Q1\", \"2018Q2\", \"2018Q3\", \"2018Q4\"], \"y\": [6.5, 14.199999809265137, 15.0, 10.5, 8.399999618530273, 15.300000190734863, 10.399999618530273, 9.600000381469727, 6.599999904632568, 4.800000190734863, 10.100000381469727, 17.100000381469727, 8.0, 9.0, 12.0, 9.300000190734863]}, {\"marker\": {\"color\": \"orange\", \"size\": 12}, \"mode\": \"markers+text\", \"name\": \"other\", \"showlegend\": false, \"text\": \"17.1%\", \"textposition\": \"middle right\", \"type\": \"scatter\", \"x\": [\"2017Q4\"], \"y\": [17.100000381469727]}, {\"connectgaps\": true, \"line\": {\"color\": \"yellowgreen\", \"width\": 4}, \"mode\": \"lines\", \"name\": \"unknown\", \"showlegend\": true, \"type\": \"scatter\", \"x\": [\"2015Q1\", \"2015Q2\", \"2015Q3\", \"2015Q4\", \"2016Q1\", \"2016Q2\", \"2016Q3\", \"2016Q4\", \"2017Q1\", \"2017Q2\", \"2017Q3\", \"2017Q4\", \"2018Q1\", \"2018Q2\", \"2018Q3\", \"2018Q4\"], \"y\": [2.799999952316284, 3.0999999046325684, 4.699999809265137, 7.300000190734863, 4.400000095367432, 2.5999999046325684, 6.900000095367432, 3.5, 6.300000190734863, 3.4000000953674316, 3.5999999046325684, 6.300000190734863, 4.900000095367432, 5.0, 3.5999999046325684, 7.099999904632568]}, {\"marker\": {\"color\": \"yellowgreen\", \"size\": 12}, \"mode\": \"markers+text\", \"name\": \"unknown\", \"showlegend\": false, \"text\": \"7.3%\", \"textposition\": \"middle right\", \"type\": \"scatter\", \"x\": [\"2015Q4\"], \"y\": [7.300000190734863]}],\n",
       "                        {\"annotations\": [{\"font\": {\"color\": \"rgb(37,37,37)\", \"family\": \"Arial\", \"size\": 30}, \"showarrow\": false, \"text\": \"Bee Colony Stressors in the State of California\", \"x\": 0.0, \"xanchor\": \"left\", \"xref\": \"paper\", \"y\": 1.05, \"yanchor\": \"bottom\", \"yref\": \"paper\"}, {\"font\": {\"color\": \"rgb(150,150,150)\", \"family\": \"Arial\", \"size\": 12}, \"showarrow\": false, \"text\": \"Source: United States Department of Agriculture (USDA)\", \"x\": 0.5, \"xanchor\": \"center\", \"xref\": \"paper\", \"y\": -0.1, \"yanchor\": \"top\", \"yref\": \"paper\"}], \"autosize\": false, \"height\": 800, \"legend\": {\"orientation\": \"h\", \"x\": 0, \"y\": 1.03}, \"margin\": {\"autoexpand\": false, \"l\": 100, \"r\": 20, \"t\": 110}, \"plot_bgcolor\": \"white\", \"showlegend\": true, \"template\": {\"data\": {\"bar\": [{\"error_x\": {\"color\": \"#2a3f5f\"}, \"error_y\": {\"color\": \"#2a3f5f\"}, \"marker\": {\"line\": {\"color\": \"#E5ECF6\", \"width\": 0.5}}, \"type\": \"bar\"}], \"barpolar\": [{\"marker\": {\"line\": {\"color\": \"#E5ECF6\", \"width\": 0.5}}, \"type\": \"barpolar\"}], \"carpet\": [{\"aaxis\": {\"endlinecolor\": \"#2a3f5f\", \"gridcolor\": \"white\", \"linecolor\": \"white\", \"minorgridcolor\": \"white\", \"startlinecolor\": \"#2a3f5f\"}, \"baxis\": {\"endlinecolor\": \"#2a3f5f\", \"gridcolor\": \"white\", \"linecolor\": \"white\", \"minorgridcolor\": \"white\", \"startlinecolor\": \"#2a3f5f\"}, \"type\": \"carpet\"}], \"choropleth\": [{\"colorbar\": {\"outlinewidth\": 0, \"ticks\": \"\"}, \"type\": \"choropleth\"}], \"contour\": [{\"colorbar\": {\"outlinewidth\": 0, \"ticks\": \"\"}, \"colorscale\": [[0.0, \"#0d0887\"], [0.1111111111111111, \"#46039f\"], [0.2222222222222222, \"#7201a8\"], [0.3333333333333333, \"#9c179e\"], [0.4444444444444444, \"#bd3786\"], [0.5555555555555556, \"#d8576b\"], [0.6666666666666666, \"#ed7953\"], [0.7777777777777778, \"#fb9f3a\"], [0.8888888888888888, \"#fdca26\"], [1.0, \"#f0f921\"]], \"type\": \"contour\"}], \"contourcarpet\": [{\"colorbar\": {\"outlinewidth\": 0, \"ticks\": \"\"}, \"type\": \"contourcarpet\"}], \"heatmap\": [{\"colorbar\": {\"outlinewidth\": 0, \"ticks\": \"\"}, \"colorscale\": [[0.0, \"#0d0887\"], [0.1111111111111111, \"#46039f\"], [0.2222222222222222, \"#7201a8\"], [0.3333333333333333, \"#9c179e\"], [0.4444444444444444, \"#bd3786\"], [0.5555555555555556, \"#d8576b\"], [0.6666666666666666, \"#ed7953\"], [0.7777777777777778, \"#fb9f3a\"], [0.8888888888888888, \"#fdca26\"], [1.0, \"#f0f921\"]], \"type\": \"heatmap\"}], \"heatmapgl\": [{\"colorbar\": {\"outlinewidth\": 0, \"ticks\": \"\"}, \"colorscale\": [[0.0, \"#0d0887\"], [0.1111111111111111, \"#46039f\"], [0.2222222222222222, \"#7201a8\"], [0.3333333333333333, \"#9c179e\"], [0.4444444444444444, \"#bd3786\"], [0.5555555555555556, \"#d8576b\"], [0.6666666666666666, \"#ed7953\"], [0.7777777777777778, \"#fb9f3a\"], [0.8888888888888888, \"#fdca26\"], [1.0, \"#f0f921\"]], \"type\": \"heatmapgl\"}], \"histogram\": [{\"marker\": {\"colorbar\": {\"outlinewidth\": 0, \"ticks\": \"\"}}, \"type\": \"histogram\"}], \"histogram2d\": [{\"colorbar\": {\"outlinewidth\": 0, \"ticks\": \"\"}, \"colorscale\": [[0.0, \"#0d0887\"], [0.1111111111111111, \"#46039f\"], [0.2222222222222222, \"#7201a8\"], [0.3333333333333333, \"#9c179e\"], [0.4444444444444444, \"#bd3786\"], [0.5555555555555556, \"#d8576b\"], [0.6666666666666666, \"#ed7953\"], [0.7777777777777778, \"#fb9f3a\"], [0.8888888888888888, \"#fdca26\"], [1.0, \"#f0f921\"]], \"type\": \"histogram2d\"}], \"histogram2dcontour\": [{\"colorbar\": {\"outlinewidth\": 0, \"ticks\": \"\"}, \"colorscale\": [[0.0, \"#0d0887\"], [0.1111111111111111, \"#46039f\"], [0.2222222222222222, \"#7201a8\"], [0.3333333333333333, \"#9c179e\"], [0.4444444444444444, \"#bd3786\"], [0.5555555555555556, \"#d8576b\"], [0.6666666666666666, \"#ed7953\"], [0.7777777777777778, \"#fb9f3a\"], [0.8888888888888888, \"#fdca26\"], [1.0, \"#f0f921\"]], \"type\": \"histogram2dcontour\"}], \"mesh3d\": [{\"colorbar\": {\"outlinewidth\": 0, \"ticks\": \"\"}, \"type\": \"mesh3d\"}], \"parcoords\": [{\"line\": {\"colorbar\": {\"outlinewidth\": 0, \"ticks\": \"\"}}, \"type\": \"parcoords\"}], \"scatter\": [{\"marker\": {\"colorbar\": {\"outlinewidth\": 0, \"ticks\": \"\"}}, \"type\": \"scatter\"}], \"scatter3d\": [{\"line\": {\"colorbar\": {\"outlinewidth\": 0, \"ticks\": \"\"}}, \"marker\": {\"colorbar\": {\"outlinewidth\": 0, \"ticks\": \"\"}}, \"type\": \"scatter3d\"}], \"scattercarpet\": [{\"marker\": {\"colorbar\": {\"outlinewidth\": 0, \"ticks\": \"\"}}, \"type\": \"scattercarpet\"}], \"scattergeo\": [{\"marker\": {\"colorbar\": {\"outlinewidth\": 0, \"ticks\": \"\"}}, \"type\": \"scattergeo\"}], \"scattergl\": [{\"marker\": {\"colorbar\": {\"outlinewidth\": 0, \"ticks\": \"\"}}, \"type\": \"scattergl\"}], \"scattermapbox\": [{\"marker\": {\"colorbar\": {\"outlinewidth\": 0, \"ticks\": \"\"}}, \"type\": \"scattermapbox\"}], \"scatterpolar\": [{\"marker\": {\"colorbar\": {\"outlinewidth\": 0, \"ticks\": \"\"}}, \"type\": \"scatterpolar\"}], \"scatterpolargl\": [{\"marker\": {\"colorbar\": {\"outlinewidth\": 0, \"ticks\": \"\"}}, \"type\": \"scatterpolargl\"}], \"scatterternary\": [{\"marker\": {\"colorbar\": {\"outlinewidth\": 0, \"ticks\": \"\"}}, \"type\": \"scatterternary\"}], \"surface\": [{\"colorbar\": {\"outlinewidth\": 0, \"ticks\": \"\"}, \"colorscale\": [[0.0, \"#0d0887\"], [0.1111111111111111, \"#46039f\"], [0.2222222222222222, \"#7201a8\"], [0.3333333333333333, \"#9c179e\"], [0.4444444444444444, \"#bd3786\"], [0.5555555555555556, \"#d8576b\"], [0.6666666666666666, \"#ed7953\"], [0.7777777777777778, \"#fb9f3a\"], [0.8888888888888888, \"#fdca26\"], [1.0, \"#f0f921\"]], \"type\": \"surface\"}], \"table\": [{\"cells\": {\"fill\": {\"color\": \"#EBF0F8\"}, \"line\": {\"color\": \"white\"}}, \"header\": {\"fill\": {\"color\": \"#C8D4E3\"}, \"line\": {\"color\": \"white\"}}, \"type\": \"table\"}]}, \"layout\": {\"annotationdefaults\": {\"arrowcolor\": \"#2a3f5f\", \"arrowhead\": 0, \"arrowwidth\": 1}, \"colorscale\": {\"diverging\": [[0, \"#8e0152\"], [0.1, \"#c51b7d\"], [0.2, \"#de77ae\"], [0.3, \"#f1b6da\"], [0.4, \"#fde0ef\"], [0.5, \"#f7f7f7\"], [0.6, \"#e6f5d0\"], [0.7, \"#b8e186\"], [0.8, \"#7fbc41\"], [0.9, \"#4d9221\"], [1, \"#276419\"]], \"sequential\": [[0.0, \"#0d0887\"], [0.1111111111111111, \"#46039f\"], [0.2222222222222222, \"#7201a8\"], [0.3333333333333333, \"#9c179e\"], [0.4444444444444444, \"#bd3786\"], [0.5555555555555556, \"#d8576b\"], [0.6666666666666666, \"#ed7953\"], [0.7777777777777778, \"#fb9f3a\"], [0.8888888888888888, \"#fdca26\"], [1.0, \"#f0f921\"]], \"sequentialminus\": [[0.0, \"#0d0887\"], [0.1111111111111111, \"#46039f\"], [0.2222222222222222, \"#7201a8\"], [0.3333333333333333, \"#9c179e\"], [0.4444444444444444, \"#bd3786\"], [0.5555555555555556, \"#d8576b\"], [0.6666666666666666, \"#ed7953\"], [0.7777777777777778, \"#fb9f3a\"], [0.8888888888888888, \"#fdca26\"], [1.0, \"#f0f921\"]]}, \"colorway\": [\"#636efa\", \"#EF553B\", \"#00cc96\", \"#ab63fa\", \"#FFA15A\", \"#19d3f3\", \"#FF6692\", \"#B6E880\", \"#FF97FF\", \"#FECB52\"], \"font\": {\"color\": \"#2a3f5f\"}, \"geo\": {\"bgcolor\": \"white\", \"lakecolor\": \"white\", \"landcolor\": \"#E5ECF6\", \"showlakes\": true, \"showland\": true, \"subunitcolor\": \"white\"}, \"hoverlabel\": {\"align\": \"left\"}, \"hovermode\": \"closest\", \"mapbox\": {\"style\": \"light\"}, \"paper_bgcolor\": \"white\", \"plot_bgcolor\": \"#E5ECF6\", \"polar\": {\"angularaxis\": {\"gridcolor\": \"white\", \"linecolor\": \"white\", \"ticks\": \"\"}, \"bgcolor\": \"#E5ECF6\", \"radialaxis\": {\"gridcolor\": \"white\", \"linecolor\": \"white\", \"ticks\": \"\"}}, \"scene\": {\"xaxis\": {\"backgroundcolor\": \"#E5ECF6\", \"gridcolor\": \"white\", \"gridwidth\": 2, \"linecolor\": \"white\", \"showbackground\": true, \"ticks\": \"\", \"zerolinecolor\": \"white\"}, \"yaxis\": {\"backgroundcolor\": \"#E5ECF6\", \"gridcolor\": \"white\", \"gridwidth\": 2, \"linecolor\": \"white\", \"showbackground\": true, \"ticks\": \"\", \"zerolinecolor\": \"white\"}, \"zaxis\": {\"backgroundcolor\": \"#E5ECF6\", \"gridcolor\": \"white\", \"gridwidth\": 2, \"linecolor\": \"white\", \"showbackground\": true, \"ticks\": \"\", \"zerolinecolor\": \"white\"}}, \"shapedefaults\": {\"line\": {\"color\": \"#2a3f5f\"}}, \"ternary\": {\"aaxis\": {\"gridcolor\": \"white\", \"linecolor\": \"white\", \"ticks\": \"\"}, \"baxis\": {\"gridcolor\": \"white\", \"linecolor\": \"white\", \"ticks\": \"\"}, \"bgcolor\": \"#E5ECF6\", \"caxis\": {\"gridcolor\": \"white\", \"linecolor\": \"white\", \"ticks\": \"\"}}, \"title\": {\"x\": 0.05}, \"xaxis\": {\"automargin\": true, \"gridcolor\": \"white\", \"linecolor\": \"white\", \"ticks\": \"\", \"zerolinecolor\": \"white\", \"zerolinewidth\": 2}, \"yaxis\": {\"automargin\": true, \"gridcolor\": \"white\", \"linecolor\": \"white\", \"ticks\": \"\", \"zerolinecolor\": \"white\", \"zerolinewidth\": 2}}}, \"width\": 800, \"xaxis\": {\"linecolor\": \"rgb(204, 204, 204)\", \"linewidth\": 2, \"showgrid\": false, \"showline\": true, \"showticklabels\": true, \"tickangle\": 0, \"tickfont\": {\"color\": \"rgb(82, 82, 82)\", \"family\": \"Rockwell\", \"size\": 12}, \"ticks\": \"outside\", \"ticktext\": [\"2015\", \"\", \"\", \"\", \"2016\", \"\", \"\", \"\", \"2017\", \"\", \"\", \"\", \"2018\", \"\", \"\", \"\"], \"tickvals\": [\"2015Q1\", \"2015Q2\", \"2015Q3\", \"2015Q4\", \"2016Q1\", \"2016Q2\", \"2016Q3\", \"2016Q4\", \"2017Q1\", \"2017Q2\", \"2017Q3\", \"2017Q4\", \"2018Q1\", \"2018Q2\", \"2018Q3\", \"2018Q4\"]}, \"yaxis\": {\"showgrid\": false, \"showline\": false, \"showticklabels\": false, \"zeroline\": false}},\n",
       "                        {\"responsive\": true}\n",
       "                    ).then(function(){\n",
       "                            \n",
       "var gd = document.getElementById('abc79d86-98bf-4f07-a3cd-32db0035e821');\n",
       "var x = new MutationObserver(function (mutations, observer) {{\n",
       "        var display = window.getComputedStyle(gd).display;\n",
       "        if (!display || display === 'none') {{\n",
       "            console.log([gd, 'removed!']);\n",
       "            Plotly.purge(gd);\n",
       "            observer.disconnect();\n",
       "        }}\n",
       "}});\n",
       "\n",
       "// Listen for the removal of the full notebook cells\n",
       "var notebookContainer = gd.closest('#notebook-container');\n",
       "if (notebookContainer) {{\n",
       "    x.observe(notebookContainer, {childList: true});\n",
       "}}\n",
       "\n",
       "// Listen for the clearing of the current output cell\n",
       "var outputEl = gd.closest('.output');\n",
       "if (outputEl) {{\n",
       "    x.observe(outputEl, {childList: true});\n",
       "}}\n",
       "\n",
       "                        })\n",
       "                };\n",
       "                });\n",
       "            </script>\n",
       "        </div>"
      ]
     },
     "metadata": {},
     "output_type": "display_data"
    }
   ],
   "source": [
    "wow.show()"
   ]
  },
  {
   "cell_type": "markdown",
   "metadata": {},
   "source": [
    "# Notes:\n",
    "\n",
    "- Dynamic chloropleth map with dropdown menu (inputs include the 6 stressors) and slider (quarter periods)\n",
    "\n",
    "- Individual state exploration reveals line plot with each stressors mapped over time\n",
    "\n",
    "- plot of renovated versus lost"
   ]
  },
  {
   "cell_type": "code",
   "execution_count": 236,
   "metadata": {},
   "outputs": [],
   "source": [
    "def get_state_dropdown():\n",
    "    dict_list= []\n",
    "    for i in us_state_abbrev.keys():\n",
    "        dict_list.append({'label': i, 'value': i})\n",
    "    return dict_list"
   ]
  },
  {
   "cell_type": "code",
   "execution_count": 237,
   "metadata": {},
   "outputs": [],
   "source": [
    "d = get_state_dropdown()"
   ]
  },
  {
   "cell_type": "markdown",
   "metadata": {},
   "source": [
    "## USDA Sources\n",
    "- [colony_data](https://usda.library.cornell.edu/concern/publications/rn301137d?locale=en)\n",
    "- [honey_production_data](https://usda.library.cornell.edu/concern/publications/hd76s004z?locale=en)\n",
    "- [pesticide_data_program](https://apps.ams.usda.gov/pdp)"
   ]
  },
  {
   "cell_type": "code",
   "execution_count": 42,
   "metadata": {
    "scrolled": true
   },
   "outputs": [
    {
     "data": {
      "text/html": [
       "<div>\n",
       "<style scoped>\n",
       "    .dataframe tbody tr th:only-of-type {\n",
       "        vertical-align: middle;\n",
       "    }\n",
       "\n",
       "    .dataframe tbody tr th {\n",
       "        vertical-align: top;\n",
       "    }\n",
       "\n",
       "    .dataframe thead th {\n",
       "        text-align: right;\n",
       "    }\n",
       "</style>\n",
       "<table border=\"1\" class=\"dataframe\">\n",
       "  <thead>\n",
       "    <tr style=\"text-align: right;\">\n",
       "      <th></th>\n",
       "      <th>state</th>\n",
       "      <th>varroa_mites</th>\n",
       "      <th>other_pests</th>\n",
       "      <th>diseases</th>\n",
       "      <th>pesticides</th>\n",
       "      <th>other</th>\n",
       "      <th>unknown</th>\n",
       "      <th>quarter</th>\n",
       "      <th>state_code</th>\n",
       "      <th>year</th>\n",
       "      <th>initial_count</th>\n",
       "      <th>max</th>\n",
       "      <th>lost</th>\n",
       "      <th>lost_perc</th>\n",
       "      <th>added</th>\n",
       "      <th>renovated</th>\n",
       "      <th>renovated_perc</th>\n",
       "      <th>period</th>\n",
       "    </tr>\n",
       "  </thead>\n",
       "  <tbody>\n",
       "    <tr>\n",
       "      <th>0</th>\n",
       "      <td>Alabama</td>\n",
       "      <td>10.000000</td>\n",
       "      <td>5.4</td>\n",
       "      <td>0.0</td>\n",
       "      <td>2.2</td>\n",
       "      <td>9.1</td>\n",
       "      <td>9.4</td>\n",
       "      <td>Q1</td>\n",
       "      <td>AL</td>\n",
       "      <td>2015</td>\n",
       "      <td>7000.0</td>\n",
       "      <td>7000.0</td>\n",
       "      <td>1800.0</td>\n",
       "      <td>26.0</td>\n",
       "      <td>2800.0</td>\n",
       "      <td>250.0</td>\n",
       "      <td>4.0</td>\n",
       "      <td>2015Q1</td>\n",
       "    </tr>\n",
       "    <tr>\n",
       "      <th>1</th>\n",
       "      <td>Arizona</td>\n",
       "      <td>26.900000</td>\n",
       "      <td>20.5</td>\n",
       "      <td>0.1</td>\n",
       "      <td>0.0</td>\n",
       "      <td>1.8</td>\n",
       "      <td>3.1</td>\n",
       "      <td>Q1</td>\n",
       "      <td>AZ</td>\n",
       "      <td>2015</td>\n",
       "      <td>35000.0</td>\n",
       "      <td>35000.0</td>\n",
       "      <td>4600.0</td>\n",
       "      <td>13.0</td>\n",
       "      <td>3400.0</td>\n",
       "      <td>2100.0</td>\n",
       "      <td>6.0</td>\n",
       "      <td>2015Q1</td>\n",
       "    </tr>\n",
       "    <tr>\n",
       "      <th>2</th>\n",
       "      <td>Arkansas</td>\n",
       "      <td>17.600000</td>\n",
       "      <td>11.4</td>\n",
       "      <td>1.5</td>\n",
       "      <td>3.4</td>\n",
       "      <td>1.0</td>\n",
       "      <td>1.0</td>\n",
       "      <td>Q1</td>\n",
       "      <td>AR</td>\n",
       "      <td>2015</td>\n",
       "      <td>13000.0</td>\n",
       "      <td>14000.0</td>\n",
       "      <td>1500.0</td>\n",
       "      <td>11.0</td>\n",
       "      <td>1200.0</td>\n",
       "      <td>90.0</td>\n",
       "      <td>1.0</td>\n",
       "      <td>2015Q1</td>\n",
       "    </tr>\n",
       "    <tr>\n",
       "      <th>3</th>\n",
       "      <td>California</td>\n",
       "      <td>24.700001</td>\n",
       "      <td>7.2</td>\n",
       "      <td>3.0</td>\n",
       "      <td>7.5</td>\n",
       "      <td>6.5</td>\n",
       "      <td>2.8</td>\n",
       "      <td>Q1</td>\n",
       "      <td>CA</td>\n",
       "      <td>2015</td>\n",
       "      <td>1440000.0</td>\n",
       "      <td>1690000.0</td>\n",
       "      <td>255000.0</td>\n",
       "      <td>15.0</td>\n",
       "      <td>250000.0</td>\n",
       "      <td>124000.0</td>\n",
       "      <td>7.0</td>\n",
       "      <td>2015Q1</td>\n",
       "    </tr>\n",
       "    <tr>\n",
       "      <th>4</th>\n",
       "      <td>Colorado</td>\n",
       "      <td>14.600000</td>\n",
       "      <td>0.9</td>\n",
       "      <td>1.8</td>\n",
       "      <td>0.6</td>\n",
       "      <td>2.6</td>\n",
       "      <td>5.9</td>\n",
       "      <td>Q1</td>\n",
       "      <td>CO</td>\n",
       "      <td>2015</td>\n",
       "      <td>3500.0</td>\n",
       "      <td>12500.0</td>\n",
       "      <td>1500.0</td>\n",
       "      <td>12.0</td>\n",
       "      <td>200.0</td>\n",
       "      <td>140.0</td>\n",
       "      <td>1.0</td>\n",
       "      <td>2015Q1</td>\n",
       "    </tr>\n",
       "  </tbody>\n",
       "</table>\n",
       "</div>"
      ],
      "text/plain": [
       "        state  varroa_mites  other_pests  diseases  pesticides  other  \\\n",
       "0     Alabama     10.000000          5.4       0.0         2.2    9.1   \n",
       "1     Arizona     26.900000         20.5       0.1         0.0    1.8   \n",
       "2    Arkansas     17.600000         11.4       1.5         3.4    1.0   \n",
       "3  California     24.700001          7.2       3.0         7.5    6.5   \n",
       "4    Colorado     14.600000          0.9       1.8         0.6    2.6   \n",
       "\n",
       "   unknown quarter state_code  year  initial_count        max      lost  \\\n",
       "0      9.4      Q1         AL  2015         7000.0     7000.0    1800.0   \n",
       "1      3.1      Q1         AZ  2015        35000.0    35000.0    4600.0   \n",
       "2      1.0      Q1         AR  2015        13000.0    14000.0    1500.0   \n",
       "3      2.8      Q1         CA  2015      1440000.0  1690000.0  255000.0   \n",
       "4      5.9      Q1         CO  2015         3500.0    12500.0    1500.0   \n",
       "\n",
       "   lost_perc     added  renovated  renovated_perc  period  \n",
       "0       26.0    2800.0      250.0             4.0  2015Q1  \n",
       "1       13.0    3400.0     2100.0             6.0  2015Q1  \n",
       "2       11.0    1200.0       90.0             1.0  2015Q1  \n",
       "3       15.0  250000.0   124000.0             7.0  2015Q1  \n",
       "4       12.0     200.0      140.0             1.0  2015Q1  "
      ]
     },
     "execution_count": 42,
     "metadata": {},
     "output_type": "execute_result"
    }
   ],
   "source": [
    "colony_data.head()"
   ]
  },
  {
   "cell_type": "markdown",
   "metadata": {},
   "source": [
    "2/ Includes American and European foulbrood, chalkbrood, stonebrood, paralysis (acute and chronic), kashmir, deformed wing, sacbrood, IAPV, Lake Sinai II, etc.\n",
    "\n",
    "1/ Tracheal mites, nosema, hive beetle, wax moths, etc.\n",
    "\n",
    "3/ Includes weather, starvation, insufficient forage, queen failure, hive damage/destroyed, etc."
   ]
  },
  {
   "cell_type": "code",
   "execution_count": 242,
   "metadata": {},
   "outputs": [],
   "source": [
    "stressor_keys = {'varroa_mites': \"Varroa Mites\",\n",
    "                 'pesticides': \"Pesticides\",\n",
    "                 'other': 'Other Categories (Weather, Starvation, etc.)',\n",
    "                 'unknown': 'Unknown Causes',\n",
    "                 'other_pests': 'Other Pests (Tracheal Mites, Hive Beetles, Wax Moths, etc.)',\n",
    "                'diseases': 'Diseases (Foulbrood, Chalkbrood, Stonebrood, Paralysis)',\n",
    "                'lost_perc': \"Colonies Lost\"}"
   ]
  },
  {
   "cell_type": "code",
   "execution_count": 243,
   "metadata": {},
   "outputs": [
    {
     "data": {
      "text/plain": [
       "'Varroa Mites'"
      ]
     },
     "execution_count": 243,
     "metadata": {},
     "output_type": "execute_result"
    }
   ],
   "source": [
    "stressor_keys['varroa_mites']"
   ]
  },
  {
   "cell_type": "code",
   "execution_count": 244,
   "metadata": {},
   "outputs": [
    {
     "data": {
      "text/html": [
       "<div>\n",
       "<style scoped>\n",
       "    .dataframe tbody tr th:only-of-type {\n",
       "        vertical-align: middle;\n",
       "    }\n",
       "\n",
       "    .dataframe tbody tr th {\n",
       "        vertical-align: top;\n",
       "    }\n",
       "\n",
       "    .dataframe thead th {\n",
       "        text-align: right;\n",
       "    }\n",
       "</style>\n",
       "<table border=\"1\" class=\"dataframe\">\n",
       "  <thead>\n",
       "    <tr style=\"text-align: right;\">\n",
       "      <th></th>\n",
       "      <th>state</th>\n",
       "      <th>honey_colonies</th>\n",
       "      <th>yield_per_col</th>\n",
       "      <th>production</th>\n",
       "      <th>stocks</th>\n",
       "      <th>avg_price_per_lb</th>\n",
       "      <th>prod_value</th>\n",
       "      <th>state_code</th>\n",
       "      <th>year</th>\n",
       "    </tr>\n",
       "  </thead>\n",
       "  <tbody>\n",
       "    <tr>\n",
       "      <th>0</th>\n",
       "      <td>Alabama</td>\n",
       "      <td>16.0</td>\n",
       "      <td>78.0</td>\n",
       "      <td>1248.0</td>\n",
       "      <td>187.0</td>\n",
       "      <td>59.0</td>\n",
       "      <td>736.0</td>\n",
       "      <td>AL</td>\n",
       "      <td>2000</td>\n",
       "    </tr>\n",
       "    <tr>\n",
       "      <th>1</th>\n",
       "      <td>Arizona</td>\n",
       "      <td>40.0</td>\n",
       "      <td>59.0</td>\n",
       "      <td>2360.0</td>\n",
       "      <td>1322.0</td>\n",
       "      <td>73.0</td>\n",
       "      <td>1723.0</td>\n",
       "      <td>AZ</td>\n",
       "      <td>2000</td>\n",
       "    </tr>\n",
       "    <tr>\n",
       "      <th>2</th>\n",
       "      <td>Arkansas</td>\n",
       "      <td>55.0</td>\n",
       "      <td>93.0</td>\n",
       "      <td>5115.0</td>\n",
       "      <td>3529.0</td>\n",
       "      <td>57.0</td>\n",
       "      <td>2916.0</td>\n",
       "      <td>AR</td>\n",
       "      <td>2000</td>\n",
       "    </tr>\n",
       "    <tr>\n",
       "      <th>3</th>\n",
       "      <td>California</td>\n",
       "      <td>440.0</td>\n",
       "      <td>70.0</td>\n",
       "      <td>30800.0</td>\n",
       "      <td>11396.0</td>\n",
       "      <td>59.0</td>\n",
       "      <td>18172.0</td>\n",
       "      <td>CA</td>\n",
       "      <td>2000</td>\n",
       "    </tr>\n",
       "    <tr>\n",
       "      <th>4</th>\n",
       "      <td>Colorado</td>\n",
       "      <td>29.0</td>\n",
       "      <td>60.0</td>\n",
       "      <td>1740.0</td>\n",
       "      <td>957.0</td>\n",
       "      <td>62.0</td>\n",
       "      <td>1079.0</td>\n",
       "      <td>CO</td>\n",
       "      <td>2000</td>\n",
       "    </tr>\n",
       "  </tbody>\n",
       "</table>\n",
       "</div>"
      ],
      "text/plain": [
       "        state  honey_colonies  yield_per_col  production   stocks  \\\n",
       "0     Alabama            16.0           78.0      1248.0    187.0   \n",
       "1     Arizona            40.0           59.0      2360.0   1322.0   \n",
       "2    Arkansas            55.0           93.0      5115.0   3529.0   \n",
       "3  California           440.0           70.0     30800.0  11396.0   \n",
       "4    Colorado            29.0           60.0      1740.0    957.0   \n",
       "\n",
       "   avg_price_per_lb  prod_value state_code  year  \n",
       "0              59.0       736.0         AL  2000  \n",
       "1              73.0      1723.0         AZ  2000  \n",
       "2              57.0      2916.0         AR  2000  \n",
       "3              59.0     18172.0         CA  2000  \n",
       "4              62.0      1079.0         CO  2000  "
      ]
     },
     "execution_count": 244,
     "metadata": {},
     "output_type": "execute_result"
    }
   ],
   "source": [
    "honey_df.head()"
   ]
  },
  {
   "cell_type": "code",
   "execution_count": 245,
   "metadata": {},
   "outputs": [
    {
     "data": {
      "text/html": [
       "<div>\n",
       "<style scoped>\n",
       "    .dataframe tbody tr th:only-of-type {\n",
       "        vertical-align: middle;\n",
       "    }\n",
       "\n",
       "    .dataframe tbody tr th {\n",
       "        vertical-align: top;\n",
       "    }\n",
       "\n",
       "    .dataframe thead th {\n",
       "        text-align: right;\n",
       "    }\n",
       "</style>\n",
       "<table border=\"1\" class=\"dataframe\">\n",
       "  <thead>\n",
       "    <tr style=\"text-align: right;\">\n",
       "      <th></th>\n",
       "      <th>state</th>\n",
       "      <th>honey_colonies</th>\n",
       "      <th>yield_per_col</th>\n",
       "      <th>production</th>\n",
       "      <th>stocks</th>\n",
       "      <th>avg_price_per_lb</th>\n",
       "      <th>prod_value</th>\n",
       "      <th>state_code</th>\n",
       "      <th>year</th>\n",
       "    </tr>\n",
       "  </thead>\n",
       "  <tbody>\n",
       "    <tr>\n",
       "      <th>3</th>\n",
       "      <td>California</td>\n",
       "      <td>440.0</td>\n",
       "      <td>70.0</td>\n",
       "      <td>30800.0</td>\n",
       "      <td>11396.0</td>\n",
       "      <td>59.0</td>\n",
       "      <td>18172.0</td>\n",
       "      <td>CA</td>\n",
       "      <td>2000</td>\n",
       "    </tr>\n",
       "    <tr>\n",
       "      <th>3</th>\n",
       "      <td>California</td>\n",
       "      <td>425.0</td>\n",
       "      <td>65.0</td>\n",
       "      <td>27625.0</td>\n",
       "      <td>7735.0</td>\n",
       "      <td>69.0</td>\n",
       "      <td>19061.0</td>\n",
       "      <td>CA</td>\n",
       "      <td>2001</td>\n",
       "    </tr>\n",
       "    <tr>\n",
       "      <th>3</th>\n",
       "      <td>California</td>\n",
       "      <td>470.0</td>\n",
       "      <td>50.0</td>\n",
       "      <td>23500.0</td>\n",
       "      <td>3525.0</td>\n",
       "      <td>132.0</td>\n",
       "      <td>31020.0</td>\n",
       "      <td>CA</td>\n",
       "      <td>2002</td>\n",
       "    </tr>\n",
       "    <tr>\n",
       "      <th>3</th>\n",
       "      <td>California</td>\n",
       "      <td>480.0</td>\n",
       "      <td>67.0</td>\n",
       "      <td>32160.0</td>\n",
       "      <td>6432.0</td>\n",
       "      <td>139.0</td>\n",
       "      <td>44702.0</td>\n",
       "      <td>CA</td>\n",
       "      <td>2003</td>\n",
       "    </tr>\n",
       "    <tr>\n",
       "      <th>3</th>\n",
       "      <td>California</td>\n",
       "      <td>390.0</td>\n",
       "      <td>45.0</td>\n",
       "      <td>17550.0</td>\n",
       "      <td>5792.0</td>\n",
       "      <td>101.0</td>\n",
       "      <td>17726.0</td>\n",
       "      <td>CA</td>\n",
       "      <td>2004</td>\n",
       "    </tr>\n",
       "    <tr>\n",
       "      <th>3</th>\n",
       "      <td>California</td>\n",
       "      <td>400.0</td>\n",
       "      <td>75.0</td>\n",
       "      <td>30000.0</td>\n",
       "      <td>9300.0</td>\n",
       "      <td>84.0</td>\n",
       "      <td>25200.0</td>\n",
       "      <td>CA</td>\n",
       "      <td>2005</td>\n",
       "    </tr>\n",
       "    <tr>\n",
       "      <th>3</th>\n",
       "      <td>California</td>\n",
       "      <td>380.0</td>\n",
       "      <td>52.0</td>\n",
       "      <td>19760.0</td>\n",
       "      <td>7706.0</td>\n",
       "      <td>99.0</td>\n",
       "      <td>19562.0</td>\n",
       "      <td>CA</td>\n",
       "      <td>2006</td>\n",
       "    </tr>\n",
       "    <tr>\n",
       "      <th>3</th>\n",
       "      <td>California</td>\n",
       "      <td>340.0</td>\n",
       "      <td>40.0</td>\n",
       "      <td>13600.0</td>\n",
       "      <td>3672.0</td>\n",
       "      <td>104.0</td>\n",
       "      <td>14144.0</td>\n",
       "      <td>CA</td>\n",
       "      <td>2007</td>\n",
       "    </tr>\n",
       "    <tr>\n",
       "      <th>3</th>\n",
       "      <td>California</td>\n",
       "      <td>360.0</td>\n",
       "      <td>51.0</td>\n",
       "      <td>18360.0</td>\n",
       "      <td>4039.0</td>\n",
       "      <td>139.0</td>\n",
       "      <td>25520.0</td>\n",
       "      <td>CA</td>\n",
       "      <td>2008</td>\n",
       "    </tr>\n",
       "    <tr>\n",
       "      <th>3</th>\n",
       "      <td>California</td>\n",
       "      <td>355.0</td>\n",
       "      <td>33.0</td>\n",
       "      <td>11715.0</td>\n",
       "      <td>2109.0</td>\n",
       "      <td>139.0</td>\n",
       "      <td>16284.0</td>\n",
       "      <td>CA</td>\n",
       "      <td>2009</td>\n",
       "    </tr>\n",
       "    <tr>\n",
       "      <th>3</th>\n",
       "      <td>California</td>\n",
       "      <td>410.0</td>\n",
       "      <td>67.0</td>\n",
       "      <td>27470.0</td>\n",
       "      <td>6318.0</td>\n",
       "      <td>155.0</td>\n",
       "      <td>42579.0</td>\n",
       "      <td>CA</td>\n",
       "      <td>2010</td>\n",
       "    </tr>\n",
       "    <tr>\n",
       "      <th>3</th>\n",
       "      <td>California</td>\n",
       "      <td>370.0</td>\n",
       "      <td>48.0</td>\n",
       "      <td>17760.0</td>\n",
       "      <td>3730.0</td>\n",
       "      <td>165.0</td>\n",
       "      <td>29304.0</td>\n",
       "      <td>CA</td>\n",
       "      <td>2011</td>\n",
       "    </tr>\n",
       "    <tr>\n",
       "      <th>3</th>\n",
       "      <td>California</td>\n",
       "      <td>330.0</td>\n",
       "      <td>35.0</td>\n",
       "      <td>11550.0</td>\n",
       "      <td>3119.0</td>\n",
       "      <td>194.0</td>\n",
       "      <td>22407.0</td>\n",
       "      <td>CA</td>\n",
       "      <td>2012</td>\n",
       "    </tr>\n",
       "    <tr>\n",
       "      <th>3</th>\n",
       "      <td>California</td>\n",
       "      <td>330.0</td>\n",
       "      <td>33.0</td>\n",
       "      <td>10890.0</td>\n",
       "      <td>2505.0</td>\n",
       "      <td>211.0</td>\n",
       "      <td>22978.0</td>\n",
       "      <td>CA</td>\n",
       "      <td>2013</td>\n",
       "    </tr>\n",
       "    <tr>\n",
       "      <th>3</th>\n",
       "      <td>California</td>\n",
       "      <td>320.0</td>\n",
       "      <td>39.0</td>\n",
       "      <td>12480.0</td>\n",
       "      <td>2995.0</td>\n",
       "      <td>206.0</td>\n",
       "      <td>25709.0</td>\n",
       "      <td>CA</td>\n",
       "      <td>2014</td>\n",
       "    </tr>\n",
       "    <tr>\n",
       "      <th>3</th>\n",
       "      <td>California</td>\n",
       "      <td>275.0</td>\n",
       "      <td>30.0</td>\n",
       "      <td>8250.0</td>\n",
       "      <td>1485.0</td>\n",
       "      <td>203.0</td>\n",
       "      <td>16748.0</td>\n",
       "      <td>CA</td>\n",
       "      <td>2015</td>\n",
       "    </tr>\n",
       "    <tr>\n",
       "      <th>3</th>\n",
       "      <td>California</td>\n",
       "      <td>310.0</td>\n",
       "      <td>36.0</td>\n",
       "      <td>11160.0</td>\n",
       "      <td>2009.0</td>\n",
       "      <td>204.0</td>\n",
       "      <td>22766.0</td>\n",
       "      <td>CA</td>\n",
       "      <td>2016</td>\n",
       "    </tr>\n",
       "    <tr>\n",
       "      <th>3</th>\n",
       "      <td>California</td>\n",
       "      <td>335.0</td>\n",
       "      <td>41.0</td>\n",
       "      <td>13735.0</td>\n",
       "      <td>2198.0</td>\n",
       "      <td>216.0</td>\n",
       "      <td>29668.0</td>\n",
       "      <td>CA</td>\n",
       "      <td>2017</td>\n",
       "    </tr>\n",
       "    <tr>\n",
       "      <th>45</th>\n",
       "      <td>California</td>\n",
       "      <td>335.0</td>\n",
       "      <td>41.0</td>\n",
       "      <td>13735.0</td>\n",
       "      <td>3022.0</td>\n",
       "      <td>206.0</td>\n",
       "      <td>28294.0</td>\n",
       "      <td>CA</td>\n",
       "      <td>2018</td>\n",
       "    </tr>\n",
       "  </tbody>\n",
       "</table>\n",
       "</div>"
      ],
      "text/plain": [
       "         state  honey_colonies  yield_per_col  production   stocks  \\\n",
       "3   California           440.0           70.0     30800.0  11396.0   \n",
       "3   California           425.0           65.0     27625.0   7735.0   \n",
       "3   California           470.0           50.0     23500.0   3525.0   \n",
       "3   California           480.0           67.0     32160.0   6432.0   \n",
       "3   California           390.0           45.0     17550.0   5792.0   \n",
       "3   California           400.0           75.0     30000.0   9300.0   \n",
       "3   California           380.0           52.0     19760.0   7706.0   \n",
       "3   California           340.0           40.0     13600.0   3672.0   \n",
       "3   California           360.0           51.0     18360.0   4039.0   \n",
       "3   California           355.0           33.0     11715.0   2109.0   \n",
       "3   California           410.0           67.0     27470.0   6318.0   \n",
       "3   California           370.0           48.0     17760.0   3730.0   \n",
       "3   California           330.0           35.0     11550.0   3119.0   \n",
       "3   California           330.0           33.0     10890.0   2505.0   \n",
       "3   California           320.0           39.0     12480.0   2995.0   \n",
       "3   California           275.0           30.0      8250.0   1485.0   \n",
       "3   California           310.0           36.0     11160.0   2009.0   \n",
       "3   California           335.0           41.0     13735.0   2198.0   \n",
       "45  California           335.0           41.0     13735.0   3022.0   \n",
       "\n",
       "    avg_price_per_lb  prod_value state_code  year  \n",
       "3               59.0     18172.0         CA  2000  \n",
       "3               69.0     19061.0         CA  2001  \n",
       "3              132.0     31020.0         CA  2002  \n",
       "3              139.0     44702.0         CA  2003  \n",
       "3              101.0     17726.0         CA  2004  \n",
       "3               84.0     25200.0         CA  2005  \n",
       "3               99.0     19562.0         CA  2006  \n",
       "3              104.0     14144.0         CA  2007  \n",
       "3              139.0     25520.0         CA  2008  \n",
       "3              139.0     16284.0         CA  2009  \n",
       "3              155.0     42579.0         CA  2010  \n",
       "3              165.0     29304.0         CA  2011  \n",
       "3              194.0     22407.0         CA  2012  \n",
       "3              211.0     22978.0         CA  2013  \n",
       "3              206.0     25709.0         CA  2014  \n",
       "3              203.0     16748.0         CA  2015  \n",
       "3              204.0     22766.0         CA  2016  \n",
       "3              216.0     29668.0         CA  2017  \n",
       "45             206.0     28294.0         CA  2018  "
      ]
     },
     "execution_count": 245,
     "metadata": {},
     "output_type": "execute_result"
    }
   ],
   "source": [
    "honey_df[honey_df.state_code == \"CA\"]"
   ]
  },
  {
   "cell_type": "code",
   "execution_count": 252,
   "metadata": {},
   "outputs": [
    {
     "data": {
      "text/html": [
       "<div>\n",
       "<style scoped>\n",
       "    .dataframe tbody tr th:only-of-type {\n",
       "        vertical-align: middle;\n",
       "    }\n",
       "\n",
       "    .dataframe tbody tr th {\n",
       "        vertical-align: top;\n",
       "    }\n",
       "\n",
       "    .dataframe thead th {\n",
       "        text-align: right;\n",
       "    }\n",
       "</style>\n",
       "<table border=\"1\" class=\"dataframe\">\n",
       "  <thead>\n",
       "    <tr style=\"text-align: right;\">\n",
       "      <th></th>\n",
       "      <th>state</th>\n",
       "      <th>honey_colonies</th>\n",
       "      <th>yield_per_col</th>\n",
       "      <th>production</th>\n",
       "      <th>stocks</th>\n",
       "      <th>avg_price_per_lb</th>\n",
       "      <th>prod_value</th>\n",
       "      <th>state_code</th>\n",
       "      <th>year</th>\n",
       "    </tr>\n",
       "  </thead>\n",
       "  <tbody>\n",
       "    <tr>\n",
       "      <th>28</th>\n",
       "      <td>North Dakota</td>\n",
       "      <td>510.0</td>\n",
       "      <td>91.0</td>\n",
       "      <td>46410.0</td>\n",
       "      <td>12995.0</td>\n",
       "      <td>150.0</td>\n",
       "      <td>69615.0</td>\n",
       "      <td>ND</td>\n",
       "      <td>2010</td>\n",
       "    </tr>\n",
       "    <tr>\n",
       "      <th>3</th>\n",
       "      <td>California</td>\n",
       "      <td>410.0</td>\n",
       "      <td>67.0</td>\n",
       "      <td>27470.0</td>\n",
       "      <td>6318.0</td>\n",
       "      <td>155.0</td>\n",
       "      <td>42579.0</td>\n",
       "      <td>CA</td>\n",
       "      <td>2010</td>\n",
       "    </tr>\n",
       "    <tr>\n",
       "      <th>33</th>\n",
       "      <td>South Dakota</td>\n",
       "      <td>265.0</td>\n",
       "      <td>58.0</td>\n",
       "      <td>15370.0</td>\n",
       "      <td>4765.0</td>\n",
       "      <td>151.0</td>\n",
       "      <td>23209.0</td>\n",
       "      <td>SD</td>\n",
       "      <td>2010</td>\n",
       "    </tr>\n",
       "    <tr>\n",
       "      <th>5</th>\n",
       "      <td>Florida</td>\n",
       "      <td>200.0</td>\n",
       "      <td>69.0</td>\n",
       "      <td>13800.0</td>\n",
       "      <td>1794.0</td>\n",
       "      <td>156.0</td>\n",
       "      <td>21528.0</td>\n",
       "      <td>FL</td>\n",
       "      <td>2010</td>\n",
       "    </tr>\n",
       "    <tr>\n",
       "      <th>22</th>\n",
       "      <td>Montana</td>\n",
       "      <td>157.0</td>\n",
       "      <td>74.0</td>\n",
       "      <td>11618.0</td>\n",
       "      <td>2905.0</td>\n",
       "      <td>158.0</td>\n",
       "      <td>18356.0</td>\n",
       "      <td>MT</td>\n",
       "      <td>2010</td>\n",
       "    </tr>\n",
       "    <tr>\n",
       "      <th>18</th>\n",
       "      <td>Minnesota</td>\n",
       "      <td>128.0</td>\n",
       "      <td>66.0</td>\n",
       "      <td>8448.0</td>\n",
       "      <td>1774.0</td>\n",
       "      <td>155.0</td>\n",
       "      <td>13094.0</td>\n",
       "      <td>MN</td>\n",
       "      <td>2010</td>\n",
       "    </tr>\n",
       "    <tr>\n",
       "      <th>35</th>\n",
       "      <td>Texas</td>\n",
       "      <td>100.0</td>\n",
       "      <td>72.0</td>\n",
       "      <td>7200.0</td>\n",
       "      <td>792.0</td>\n",
       "      <td>151.0</td>\n",
       "      <td>10872.0</td>\n",
       "      <td>TX</td>\n",
       "      <td>2010</td>\n",
       "    </tr>\n",
       "    <tr>\n",
       "      <th>8</th>\n",
       "      <td>Idaho</td>\n",
       "      <td>97.0</td>\n",
       "      <td>27.0</td>\n",
       "      <td>2619.0</td>\n",
       "      <td>1179.0</td>\n",
       "      <td>161.0</td>\n",
       "      <td>4217.0</td>\n",
       "      <td>ID</td>\n",
       "      <td>2010</td>\n",
       "    </tr>\n",
       "    <tr>\n",
       "      <th>17</th>\n",
       "      <td>Michigan</td>\n",
       "      <td>71.0</td>\n",
       "      <td>58.0</td>\n",
       "      <td>4118.0</td>\n",
       "      <td>1524.0</td>\n",
       "      <td>167.0</td>\n",
       "      <td>6877.0</td>\n",
       "      <td>MI</td>\n",
       "      <td>2010</td>\n",
       "    </tr>\n",
       "    <tr>\n",
       "      <th>39</th>\n",
       "      <td>Washington</td>\n",
       "      <td>71.0</td>\n",
       "      <td>37.0</td>\n",
       "      <td>2627.0</td>\n",
       "      <td>1077.0</td>\n",
       "      <td>157.0</td>\n",
       "      <td>4124.0</td>\n",
       "      <td>WA</td>\n",
       "      <td>2010</td>\n",
       "    </tr>\n",
       "  </tbody>\n",
       "</table>\n",
       "</div>"
      ],
      "text/plain": [
       "           state  honey_colonies  yield_per_col  production   stocks  \\\n",
       "28  North Dakota           510.0           91.0     46410.0  12995.0   \n",
       "3     California           410.0           67.0     27470.0   6318.0   \n",
       "33  South Dakota           265.0           58.0     15370.0   4765.0   \n",
       "5        Florida           200.0           69.0     13800.0   1794.0   \n",
       "22       Montana           157.0           74.0     11618.0   2905.0   \n",
       "18     Minnesota           128.0           66.0      8448.0   1774.0   \n",
       "35         Texas           100.0           72.0      7200.0    792.0   \n",
       "8          Idaho            97.0           27.0      2619.0   1179.0   \n",
       "17      Michigan            71.0           58.0      4118.0   1524.0   \n",
       "39    Washington            71.0           37.0      2627.0   1077.0   \n",
       "\n",
       "    avg_price_per_lb  prod_value state_code  year  \n",
       "28             150.0     69615.0         ND  2010  \n",
       "3              155.0     42579.0         CA  2010  \n",
       "33             151.0     23209.0         SD  2010  \n",
       "5              156.0     21528.0         FL  2010  \n",
       "22             158.0     18356.0         MT  2010  \n",
       "18             155.0     13094.0         MN  2010  \n",
       "35             151.0     10872.0         TX  2010  \n",
       "8              161.0      4217.0         ID  2010  \n",
       "17             167.0      6877.0         MI  2010  \n",
       "39             157.0      4124.0         WA  2010  "
      ]
     },
     "execution_count": 252,
     "metadata": {},
     "output_type": "execute_result"
    }
   ],
   "source": [
    "honey_df[honey_df.year==2010].sort_values(by='honey_colonies', ascending = False).head(10)"
   ]
  },
  {
   "cell_type": "code",
   "execution_count": 325,
   "metadata": {},
   "outputs": [],
   "source": [
    "def generate_bubble_chart(input_, year_, n):\n",
    "    fig = go.Figure()\n",
    "    w_ = input_[input_.year==year_].sort_values(by='honey_colonies', ascending = False).head(n).state\n",
    "    x_=input_[input_.year==year_].sort_values(by='honey_colonies', ascending = False).head(n).avg_price_per_lb\n",
    "    y_=input_[input_.year==year_].sort_values(by='honey_colonies', ascending = False).head(n).yield_per_col\n",
    "    z_ = input_[input_.year==year_].sort_values(by='honey_colonies', ascending = False).head(n).honey_colonies\n",
    "    \n",
    "    annotations = []\n",
    "    for q,i,j,k in zip(w_,x_,y_,z_):\n",
    "        fig.add_trace(go.Scatter(\n",
    "            x= [i],\n",
    "            y= [j],\n",
    "            name = str(q),\n",
    "            mode='markers',\n",
    "            marker=dict(\n",
    "                opacity=0.6,\n",
    "                size=[int(k)/5],\n",
    "            ),\n",
    "            showlegend = True,\n",
    "            text = q + '<br>' + 'No. of Colonies: {}'.format(k) + 'k',\n",
    "            textposition = 'top center'\n",
    "        ))\n",
    "        \n",
    "     # Title\n",
    "    annotations.append(dict(xref='paper', yref='paper', x=0.0, y=1.05,\n",
    "                                  xanchor='left', yanchor='bottom',\n",
    "                                  text='Top ' + str(n) + \" Honey Producing States In \" + str(year_),\n",
    "                                  font=dict(family='Arial',\n",
    "                                            size=30,\n",
    "                                            color='rgb(37,37,37)'),\n",
    "                                  showarrow=False))\n",
    "    # Source\n",
    "    annotations.append(dict(xref='paper', yref='paper', x=0.5, y=-0.18,\n",
    "                                  xanchor='center', yanchor='top',\n",
    "                                  text='Source: United States Department of Agriculture (USDA)',\n",
    "                                  font=dict(family='Arial',\n",
    "                                            size=12,\n",
    "                                            color='rgb(150,150,150)'),\n",
    "                                  showarrow=False))\n",
    "    \n",
    "    fig.update_layout(annotations=annotations,\n",
    "                     xaxis_title = \"Avg. Price Per Pound ($US)\",\n",
    "                     yaxis_title = \"Yield Per Colony (lbs.)\",\n",
    "                     plot_bgcolor = 'white')\n",
    "    \n",
    "    return fig"
   ]
  },
  {
   "cell_type": "code",
   "execution_count": 326,
   "metadata": {},
   "outputs": [],
   "source": [
    "woo = generate_bubble_chart(honey_df, 2010, 15)"
   ]
  },
  {
   "cell_type": "code",
   "execution_count": null,
   "metadata": {},
   "outputs": [],
   "source": [
    "woo.show()"
   ]
  },
  {
   "cell_type": "code",
   "execution_count": null,
   "metadata": {},
   "outputs": [],
   "source": []
  }
 ],
 "metadata": {
  "kernelspec": {
   "display_name": "Python 3",
   "language": "python",
   "name": "python3"
  },
  "language_info": {
   "codemirror_mode": {
    "name": "ipython",
    "version": 3
   },
   "file_extension": ".py",
   "mimetype": "text/x-python",
   "name": "python",
   "nbconvert_exporter": "python",
   "pygments_lexer": "ipython3",
   "version": "3.6.6"
  }
 },
 "nbformat": 4,
 "nbformat_minor": 2
}
